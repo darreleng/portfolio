{
 "cells": [
  {
   "cell_type": "markdown",
   "metadata": {},
   "source": [
    "\n",
    "The telco customer churn data contains information about a fictional telco company that provided home phone and Internet services to 7043 customers in California in Q3. https://community.ibm.com/community/user/businessanalytics/blogs/steven-macko/2019/07/11/telco-customer-churn-1113"
   ]
  },
  {
   "cell_type": "code",
   "execution_count": 1,
   "metadata": {},
   "outputs": [],
   "source": [
    "import pandas as pd\n",
    "import numpy as np\n",
    "import matplotlib as mpl\n",
    "import matplotlib.pyplot as plt\n",
    "import seaborn as sns\n",
    "\n",
    "pd.options.display.max_columns = 40"
   ]
  },
  {
   "cell_type": "code",
   "execution_count": 2,
   "metadata": {},
   "outputs": [
    {
     "data": {
      "text/html": [
       "<div>\n",
       "<style scoped>\n",
       "    .dataframe tbody tr th:only-of-type {\n",
       "        vertical-align: middle;\n",
       "    }\n",
       "\n",
       "    .dataframe tbody tr th {\n",
       "        vertical-align: top;\n",
       "    }\n",
       "\n",
       "    .dataframe thead th {\n",
       "        text-align: right;\n",
       "    }\n",
       "</style>\n",
       "<table border=\"1\" class=\"dataframe\">\n",
       "  <thead>\n",
       "    <tr style=\"text-align: right;\">\n",
       "      <th></th>\n",
       "      <th>Gender</th>\n",
       "      <th>Age</th>\n",
       "      <th>Senior Citizen</th>\n",
       "      <th>Married</th>\n",
       "      <th>Dependents</th>\n",
       "      <th>Number of Dependents</th>\n",
       "      <th>Tenure</th>\n",
       "      <th>Phone Service</th>\n",
       "      <th>Multiple Lines</th>\n",
       "      <th>Internet Service</th>\n",
       "      <th>Online Security</th>\n",
       "      <th>Online Backup</th>\n",
       "      <th>Device Protection</th>\n",
       "      <th>Tech Support</th>\n",
       "      <th>Streaming TV</th>\n",
       "      <th>Streaming Movies</th>\n",
       "      <th>Streaming Music</th>\n",
       "      <th>Unlimited Data</th>\n",
       "      <th>Contract</th>\n",
       "      <th>Paperless Billing</th>\n",
       "      <th>Payment Method</th>\n",
       "      <th>Avg Monthly Long Distance Charges</th>\n",
       "      <th>Avg Monthly GB Download</th>\n",
       "      <th>Total Extra Data Charges</th>\n",
       "      <th>Total Long Distance Charges</th>\n",
       "      <th>Monthly Charges</th>\n",
       "      <th>Total Charges</th>\n",
       "      <th>Total Refunds</th>\n",
       "      <th>Total Revenue</th>\n",
       "      <th>Referred a Friend</th>\n",
       "      <th>Number of Referrals</th>\n",
       "      <th>Offer</th>\n",
       "      <th>Customer Status</th>\n",
       "      <th>Churn</th>\n",
       "    </tr>\n",
       "  </thead>\n",
       "  <tbody>\n",
       "    <tr>\n",
       "      <th>0</th>\n",
       "      <td>Female</td>\n",
       "      <td>36</td>\n",
       "      <td>No</td>\n",
       "      <td>Yes</td>\n",
       "      <td>No</td>\n",
       "      <td>0</td>\n",
       "      <td>1</td>\n",
       "      <td>No</td>\n",
       "      <td>No phone service</td>\n",
       "      <td>DSL</td>\n",
       "      <td>No</td>\n",
       "      <td>Yes</td>\n",
       "      <td>No</td>\n",
       "      <td>No</td>\n",
       "      <td>No</td>\n",
       "      <td>No</td>\n",
       "      <td>No</td>\n",
       "      <td>Yes</td>\n",
       "      <td>Month-to-month</td>\n",
       "      <td>Yes</td>\n",
       "      <td>Electronic check</td>\n",
       "      <td>0.00</td>\n",
       "      <td>10</td>\n",
       "      <td>0</td>\n",
       "      <td>0.00</td>\n",
       "      <td>29.85</td>\n",
       "      <td>29.85</td>\n",
       "      <td>0.0</td>\n",
       "      <td>29.85</td>\n",
       "      <td>No</td>\n",
       "      <td>0</td>\n",
       "      <td>Offer E</td>\n",
       "      <td>Joined</td>\n",
       "      <td>No</td>\n",
       "    </tr>\n",
       "    <tr>\n",
       "      <th>1</th>\n",
       "      <td>Male</td>\n",
       "      <td>36</td>\n",
       "      <td>No</td>\n",
       "      <td>Yes</td>\n",
       "      <td>No</td>\n",
       "      <td>0</td>\n",
       "      <td>17</td>\n",
       "      <td>No</td>\n",
       "      <td>No phone service</td>\n",
       "      <td>DSL</td>\n",
       "      <td>Yes</td>\n",
       "      <td>No</td>\n",
       "      <td>Yes</td>\n",
       "      <td>No</td>\n",
       "      <td>No</td>\n",
       "      <td>No</td>\n",
       "      <td>No</td>\n",
       "      <td>Yes</td>\n",
       "      <td>Month-to-month</td>\n",
       "      <td>No</td>\n",
       "      <td>Mailed check</td>\n",
       "      <td>0.00</td>\n",
       "      <td>10</td>\n",
       "      <td>0</td>\n",
       "      <td>0.00</td>\n",
       "      <td>34.40</td>\n",
       "      <td>592.75</td>\n",
       "      <td>0.0</td>\n",
       "      <td>592.75</td>\n",
       "      <td>Yes</td>\n",
       "      <td>1</td>\n",
       "      <td>None</td>\n",
       "      <td>Stayed</td>\n",
       "      <td>No</td>\n",
       "    </tr>\n",
       "    <tr>\n",
       "      <th>2</th>\n",
       "      <td>Male</td>\n",
       "      <td>71</td>\n",
       "      <td>Yes</td>\n",
       "      <td>Yes</td>\n",
       "      <td>No</td>\n",
       "      <td>0</td>\n",
       "      <td>69</td>\n",
       "      <td>Yes</td>\n",
       "      <td>Yes</td>\n",
       "      <td>Fiber optic</td>\n",
       "      <td>No</td>\n",
       "      <td>Yes</td>\n",
       "      <td>Yes</td>\n",
       "      <td>Yes</td>\n",
       "      <td>Yes</td>\n",
       "      <td>Yes</td>\n",
       "      <td>No</td>\n",
       "      <td>Yes</td>\n",
       "      <td>Two year</td>\n",
       "      <td>Yes</td>\n",
       "      <td>Electronic check</td>\n",
       "      <td>18.41</td>\n",
       "      <td>17</td>\n",
       "      <td>0</td>\n",
       "      <td>1270.29</td>\n",
       "      <td>109.95</td>\n",
       "      <td>7634.25</td>\n",
       "      <td>0.0</td>\n",
       "      <td>8904.54</td>\n",
       "      <td>Yes</td>\n",
       "      <td>1</td>\n",
       "      <td>None</td>\n",
       "      <td>Stayed</td>\n",
       "      <td>No</td>\n",
       "    </tr>\n",
       "    <tr>\n",
       "      <th>3</th>\n",
       "      <td>Female</td>\n",
       "      <td>66</td>\n",
       "      <td>Yes</td>\n",
       "      <td>No</td>\n",
       "      <td>No</td>\n",
       "      <td>0</td>\n",
       "      <td>8</td>\n",
       "      <td>Yes</td>\n",
       "      <td>No</td>\n",
       "      <td>Fiber optic</td>\n",
       "      <td>No</td>\n",
       "      <td>No</td>\n",
       "      <td>Yes</td>\n",
       "      <td>No</td>\n",
       "      <td>Yes</td>\n",
       "      <td>Yes</td>\n",
       "      <td>No</td>\n",
       "      <td>Yes</td>\n",
       "      <td>Month-to-month</td>\n",
       "      <td>Yes</td>\n",
       "      <td>Credit card (automatic)</td>\n",
       "      <td>5.21</td>\n",
       "      <td>8</td>\n",
       "      <td>0</td>\n",
       "      <td>41.68</td>\n",
       "      <td>94.45</td>\n",
       "      <td>742.95</td>\n",
       "      <td>0.0</td>\n",
       "      <td>784.63</td>\n",
       "      <td>No</td>\n",
       "      <td>0</td>\n",
       "      <td>Offer E</td>\n",
       "      <td>Churned</td>\n",
       "      <td>Yes</td>\n",
       "    </tr>\n",
       "    <tr>\n",
       "      <th>4</th>\n",
       "      <td>Male</td>\n",
       "      <td>46</td>\n",
       "      <td>No</td>\n",
       "      <td>No</td>\n",
       "      <td>No</td>\n",
       "      <td>0</td>\n",
       "      <td>34</td>\n",
       "      <td>Yes</td>\n",
       "      <td>No</td>\n",
       "      <td>DSL</td>\n",
       "      <td>Yes</td>\n",
       "      <td>No</td>\n",
       "      <td>Yes</td>\n",
       "      <td>No</td>\n",
       "      <td>No</td>\n",
       "      <td>No</td>\n",
       "      <td>No</td>\n",
       "      <td>Yes</td>\n",
       "      <td>One year</td>\n",
       "      <td>No</td>\n",
       "      <td>Mailed check</td>\n",
       "      <td>17.09</td>\n",
       "      <td>16</td>\n",
       "      <td>0</td>\n",
       "      <td>581.06</td>\n",
       "      <td>56.95</td>\n",
       "      <td>1889.50</td>\n",
       "      <td>0.0</td>\n",
       "      <td>2470.56</td>\n",
       "      <td>No</td>\n",
       "      <td>0</td>\n",
       "      <td>None</td>\n",
       "      <td>Stayed</td>\n",
       "      <td>No</td>\n",
       "    </tr>\n",
       "  </tbody>\n",
       "</table>\n",
       "</div>"
      ],
      "text/plain": [
       "   Gender  Age Senior Citizen Married Dependents  Number of Dependents  \\\n",
       "0  Female   36             No     Yes         No                     0   \n",
       "1    Male   36             No     Yes         No                     0   \n",
       "2    Male   71            Yes     Yes         No                     0   \n",
       "3  Female   66            Yes      No         No                     0   \n",
       "4    Male   46             No      No         No                     0   \n",
       "\n",
       "   Tenure Phone Service    Multiple Lines Internet Service Online Security  \\\n",
       "0       1            No  No phone service              DSL              No   \n",
       "1      17            No  No phone service              DSL             Yes   \n",
       "2      69           Yes               Yes      Fiber optic              No   \n",
       "3       8           Yes                No      Fiber optic              No   \n",
       "4      34           Yes                No              DSL             Yes   \n",
       "\n",
       "  Online Backup Device Protection Tech Support Streaming TV Streaming Movies  \\\n",
       "0           Yes                No           No           No               No   \n",
       "1            No               Yes           No           No               No   \n",
       "2           Yes               Yes          Yes          Yes              Yes   \n",
       "3            No               Yes           No          Yes              Yes   \n",
       "4            No               Yes           No           No               No   \n",
       "\n",
       "  Streaming Music Unlimited Data        Contract Paperless Billing  \\\n",
       "0              No            Yes  Month-to-month               Yes   \n",
       "1              No            Yes  Month-to-month                No   \n",
       "2              No            Yes        Two year               Yes   \n",
       "3              No            Yes  Month-to-month               Yes   \n",
       "4              No            Yes        One year                No   \n",
       "\n",
       "            Payment Method  Avg Monthly Long Distance Charges  \\\n",
       "0         Electronic check                               0.00   \n",
       "1             Mailed check                               0.00   \n",
       "2         Electronic check                              18.41   \n",
       "3  Credit card (automatic)                               5.21   \n",
       "4             Mailed check                              17.09   \n",
       "\n",
       "   Avg Monthly GB Download  Total Extra Data Charges  \\\n",
       "0                       10                         0   \n",
       "1                       10                         0   \n",
       "2                       17                         0   \n",
       "3                        8                         0   \n",
       "4                       16                         0   \n",
       "\n",
       "   Total Long Distance Charges  Monthly Charges  Total Charges  Total Refunds  \\\n",
       "0                         0.00            29.85          29.85            0.0   \n",
       "1                         0.00            34.40         592.75            0.0   \n",
       "2                      1270.29           109.95        7634.25            0.0   \n",
       "3                        41.68            94.45         742.95            0.0   \n",
       "4                       581.06            56.95        1889.50            0.0   \n",
       "\n",
       "   Total Revenue Referred a Friend  Number of Referrals    Offer  \\\n",
       "0          29.85                No                    0  Offer E   \n",
       "1         592.75               Yes                    1     None   \n",
       "2        8904.54               Yes                    1     None   \n",
       "3         784.63                No                    0  Offer E   \n",
       "4        2470.56                No                    0     None   \n",
       "\n",
       "  Customer Status Churn  \n",
       "0          Joined    No  \n",
       "1          Stayed    No  \n",
       "2          Stayed    No  \n",
       "3         Churned   Yes  \n",
       "4          Stayed    No  "
      ]
     },
     "execution_count": 2,
     "metadata": {},
     "output_type": "execute_result"
    }
   ],
   "source": [
    "df = pd.read_csv('merged.csv')\n",
    "df.head()"
   ]
  },
  {
   "cell_type": "code",
   "execution_count": 3,
   "metadata": {},
   "outputs": [
    {
     "name": "stdout",
     "output_type": "stream",
     "text": [
      "<class 'pandas.core.frame.DataFrame'>\n",
      "RangeIndex: 7032 entries, 0 to 7031\n",
      "Data columns (total 34 columns):\n",
      " #   Column                             Non-Null Count  Dtype  \n",
      "---  ------                             --------------  -----  \n",
      " 0   Gender                             7032 non-null   object \n",
      " 1   Age                                7032 non-null   int64  \n",
      " 2   Senior Citizen                     7032 non-null   object \n",
      " 3   Married                            7032 non-null   object \n",
      " 4   Dependents                         7032 non-null   object \n",
      " 5   Number of Dependents               7032 non-null   int64  \n",
      " 6   Tenure                             7032 non-null   int64  \n",
      " 7   Phone Service                      7032 non-null   object \n",
      " 8   Multiple Lines                     7032 non-null   object \n",
      " 9   Internet Service                   7032 non-null   object \n",
      " 10  Online Security                    7032 non-null   object \n",
      " 11  Online Backup                      7032 non-null   object \n",
      " 12  Device Protection                  7032 non-null   object \n",
      " 13  Tech Support                       7032 non-null   object \n",
      " 14  Streaming TV                       7032 non-null   object \n",
      " 15  Streaming Movies                   7032 non-null   object \n",
      " 16  Streaming Music                    7032 non-null   object \n",
      " 17  Unlimited Data                     7032 non-null   object \n",
      " 18  Contract                           7032 non-null   object \n",
      " 19  Paperless Billing                  7032 non-null   object \n",
      " 20  Payment Method                     7032 non-null   object \n",
      " 21  Avg Monthly Long Distance Charges  7032 non-null   float64\n",
      " 22  Avg Monthly GB Download            7032 non-null   int64  \n",
      " 23  Total Extra Data Charges           7032 non-null   int64  \n",
      " 24  Total Long Distance Charges        7032 non-null   float64\n",
      " 25  Monthly Charges                    7032 non-null   float64\n",
      " 26  Total Charges                      7032 non-null   float64\n",
      " 27  Total Refunds                      7032 non-null   float64\n",
      " 28  Total Revenue                      7032 non-null   float64\n",
      " 29  Referred a Friend                  7032 non-null   object \n",
      " 30  Number of Referrals                7032 non-null   int64  \n",
      " 31  Offer                              7032 non-null   object \n",
      " 32  Customer Status                    7032 non-null   object \n",
      " 33  Churn                              7032 non-null   object \n",
      "dtypes: float64(6), int64(6), object(22)\n",
      "memory usage: 1.8+ MB\n"
     ]
    }
   ],
   "source": [
    "df.info()"
   ]
  },
  {
   "cell_type": "markdown",
   "metadata": {},
   "source": [
    "# What is the customer churn rate?"
   ]
  },
  {
   "cell_type": "markdown",
   "metadata": {},
   "source": [
    "The churn rate in Q3, excluding new customers, is 28.4% (1869/6578 customers)."
   ]
  },
  {
   "cell_type": "code",
   "execution_count": 4,
   "metadata": {},
   "outputs": [
    {
     "data": {
      "text/plain": [
       "No     0.715871\n",
       "Yes    0.284129\n",
       "Name: Churn, dtype: float64"
      ]
     },
     "execution_count": 4,
     "metadata": {},
     "output_type": "execute_result"
    }
   ],
   "source": [
    "df.query('`Customer Status` != \"Joined\"').Churn.value_counts(normalize=True)"
   ]
  },
  {
   "cell_type": "code",
   "execution_count": 5,
   "metadata": {},
   "outputs": [
    {
     "data": {
      "text/html": [
       "<div>\n",
       "<style scoped>\n",
       "    .dataframe tbody tr th:only-of-type {\n",
       "        vertical-align: middle;\n",
       "    }\n",
       "\n",
       "    .dataframe tbody tr th {\n",
       "        vertical-align: top;\n",
       "    }\n",
       "\n",
       "    .dataframe thead th {\n",
       "        text-align: right;\n",
       "    }\n",
       "</style>\n",
       "<table border=\"1\" class=\"dataframe\">\n",
       "  <thead>\n",
       "    <tr style=\"text-align: right;\">\n",
       "      <th>Churn</th>\n",
       "      <th>No</th>\n",
       "      <th>Yes</th>\n",
       "    </tr>\n",
       "    <tr>\n",
       "      <th>Customer Status</th>\n",
       "      <th></th>\n",
       "      <th></th>\n",
       "    </tr>\n",
       "  </thead>\n",
       "  <tbody>\n",
       "    <tr>\n",
       "      <th>Churned</th>\n",
       "      <td>0</td>\n",
       "      <td>1869</td>\n",
       "    </tr>\n",
       "    <tr>\n",
       "      <th>Joined</th>\n",
       "      <td>454</td>\n",
       "      <td>0</td>\n",
       "    </tr>\n",
       "    <tr>\n",
       "      <th>Stayed</th>\n",
       "      <td>4709</td>\n",
       "      <td>0</td>\n",
       "    </tr>\n",
       "  </tbody>\n",
       "</table>\n",
       "</div>"
      ],
      "text/plain": [
       "Churn              No   Yes\n",
       "Customer Status            \n",
       "Churned             0  1869\n",
       "Joined            454     0\n",
       "Stayed           4709     0"
      ]
     },
     "execution_count": 5,
     "metadata": {},
     "output_type": "execute_result"
    }
   ],
   "source": [
    "pd.crosstab(df['Customer Status'], df['Churn'])"
   ]
  },
  {
   "cell_type": "markdown",
   "metadata": {},
   "source": [
    "Customers aged 65 and above (\"Senior Citizen\") have a significantly higher churn rate than the rest."
   ]
  },
  {
   "cell_type": "code",
   "execution_count": 7,
   "metadata": {},
   "outputs": [
    {
     "data": {
      "text/html": [
       "<div>\n",
       "<style scoped>\n",
       "    .dataframe tbody tr th:only-of-type {\n",
       "        vertical-align: middle;\n",
       "    }\n",
       "\n",
       "    .dataframe tbody tr th {\n",
       "        vertical-align: top;\n",
       "    }\n",
       "\n",
       "    .dataframe thead th {\n",
       "        text-align: right;\n",
       "    }\n",
       "</style>\n",
       "<table border=\"1\" class=\"dataframe\">\n",
       "  <thead>\n",
       "    <tr style=\"text-align: right;\">\n",
       "      <th>Churn</th>\n",
       "      <th>No</th>\n",
       "      <th>Yes</th>\n",
       "    </tr>\n",
       "    <tr>\n",
       "      <th>Senior Citizen</th>\n",
       "      <th></th>\n",
       "      <th></th>\n",
       "    </tr>\n",
       "  </thead>\n",
       "  <tbody>\n",
       "    <tr>\n",
       "      <th>No</th>\n",
       "      <td>4497</td>\n",
       "      <td>1393</td>\n",
       "    </tr>\n",
       "    <tr>\n",
       "      <th>Yes</th>\n",
       "      <td>666</td>\n",
       "      <td>476</td>\n",
       "    </tr>\n",
       "  </tbody>\n",
       "</table>\n",
       "</div>"
      ],
      "text/plain": [
       "Churn             No   Yes\n",
       "Senior Citizen            \n",
       "No              4497  1393\n",
       "Yes              666   476"
      ]
     },
     "execution_count": 7,
     "metadata": {},
     "output_type": "execute_result"
    }
   ],
   "source": [
    "pd.crosstab(df['Senior Citizen'], df['Churn'])"
   ]
  },
  {
   "cell_type": "markdown",
   "metadata": {},
   "source": [
    "# What are the main factors associated with customer churn?"
   ]
  },
  {
   "cell_type": "code",
   "execution_count": 8,
   "metadata": {},
   "outputs": [
    {
     "data": {
      "image/png": "[encoded data removed]",
      "text/plain": [
       "<Figure size 800x800 with 12 Axes>"
      ]
     },
     "metadata": {},
     "output_type": "display_data"
    }
   ],
   "source": [
    "# Visualise the distributions of numeric factors\n",
    "num_cols = df.select_dtypes(exclude='O').columns\n",
    "plt.rcParams['axes.titlesize'] = 10\n",
    "df[num_cols].hist(figsize=(8, 8))\n",
    "plt.tight_layout()"
   ]
  },
  {
   "cell_type": "markdown",
   "metadata": {},
   "source": [
    "Some of the numeric factors such as Number of Referrals and Number of Dependents are better suited as categorical factors. Since, Total Revenue = Total Charges(Monthly Charges * Tenure) + Total Long Distance Charges + Total Extra Data Charges - Total Refunds, I'll drop Total Revenue and Total Charges and keep the their components for a more granular understanding of the data."
   ]
  },
  {
   "cell_type": "code",
   "execution_count": 9,
   "metadata": {},
   "outputs": [],
   "source": [
    "df2 = df.copy().drop(['Total Revenue', 'Total Charges'], axis=1)"
   ]
  },
  {
   "cell_type": "markdown",
   "metadata": {},
   "source": [
    "I'll categorise the values in Number of Referrals in 4 bins based on their relative churn frequencies."
   ]
  },
  {
   "cell_type": "code",
   "execution_count": 10,
   "metadata": {},
   "outputs": [
    {
     "data": {
      "text/html": [
       "<div>\n",
       "<style scoped>\n",
       "    .dataframe tbody tr th:only-of-type {\n",
       "        vertical-align: middle;\n",
       "    }\n",
       "\n",
       "    .dataframe tbody tr th {\n",
       "        vertical-align: top;\n",
       "    }\n",
       "\n",
       "    .dataframe thead th {\n",
       "        text-align: right;\n",
       "    }\n",
       "</style>\n",
       "<table border=\"1\" class=\"dataframe\">\n",
       "  <thead>\n",
       "    <tr style=\"text-align: right;\">\n",
       "      <th>Churn</th>\n",
       "      <th>No</th>\n",
       "      <th>Yes</th>\n",
       "    </tr>\n",
       "    <tr>\n",
       "      <th>Number of Referrals</th>\n",
       "      <th></th>\n",
       "      <th></th>\n",
       "    </tr>\n",
       "  </thead>\n",
       "  <tbody>\n",
       "    <tr>\n",
       "      <th>0</th>\n",
       "      <td>2574</td>\n",
       "      <td>1245</td>\n",
       "    </tr>\n",
       "    <tr>\n",
       "      <th>1</th>\n",
       "      <td>579</td>\n",
       "      <td>507</td>\n",
       "    </tr>\n",
       "    <tr>\n",
       "      <th>2</th>\n",
       "      <td>208</td>\n",
       "      <td>26</td>\n",
       "    </tr>\n",
       "    <tr>\n",
       "      <th>3</th>\n",
       "      <td>222</td>\n",
       "      <td>32</td>\n",
       "    </tr>\n",
       "    <tr>\n",
       "      <th>4</th>\n",
       "      <td>217</td>\n",
       "      <td>18</td>\n",
       "    </tr>\n",
       "    <tr>\n",
       "      <th>5</th>\n",
       "      <td>240</td>\n",
       "      <td>21</td>\n",
       "    </tr>\n",
       "    <tr>\n",
       "      <th>6</th>\n",
       "      <td>212</td>\n",
       "      <td>8</td>\n",
       "    </tr>\n",
       "    <tr>\n",
       "      <th>7</th>\n",
       "      <td>242</td>\n",
       "      <td>6</td>\n",
       "    </tr>\n",
       "    <tr>\n",
       "      <th>8</th>\n",
       "      <td>210</td>\n",
       "      <td>2</td>\n",
       "    </tr>\n",
       "    <tr>\n",
       "      <th>9</th>\n",
       "      <td>234</td>\n",
       "      <td>4</td>\n",
       "    </tr>\n",
       "    <tr>\n",
       "      <th>10</th>\n",
       "      <td>223</td>\n",
       "      <td>0</td>\n",
       "    </tr>\n",
       "    <tr>\n",
       "      <th>11</th>\n",
       "      <td>2</td>\n",
       "      <td>0</td>\n",
       "    </tr>\n",
       "  </tbody>\n",
       "</table>\n",
       "</div>"
      ],
      "text/plain": [
       "Churn                  No   Yes\n",
       "Number of Referrals            \n",
       "0                    2574  1245\n",
       "1                     579   507\n",
       "2                     208    26\n",
       "3                     222    32\n",
       "4                     217    18\n",
       "5                     240    21\n",
       "6                     212     8\n",
       "7                     242     6\n",
       "8                     210     2\n",
       "9                     234     4\n",
       "10                    223     0\n",
       "11                      2     0"
      ]
     },
     "execution_count": 10,
     "metadata": {},
     "output_type": "execute_result"
    }
   ],
   "source": [
    "pd.crosstab(df2['Number of Referrals'], df2.Churn)"
   ]
  },
  {
   "cell_type": "code",
   "execution_count": 11,
   "metadata": {},
   "outputs": [],
   "source": [
    "df2['Number of Referrals'] = df2['Number of Referrals'].replace({0: '0', 1: '1'}) \\\n",
    "                                                       .apply(lambda x: '2 to 5' if x in [2, 3, 4, 5] else x) \\\n",
    "                                                       .apply(lambda x: '6' if x in [6, 7, 8, 9, 10, 11] else x)"
   ]
  },
  {
   "cell_type": "markdown",
   "metadata": {},
   "source": [
    "I'll drop the Number of Dependents factor because there is not enough data for customers with 4 and more children and also because we can easily tell that customers with no children have a significantly higher churn rate than customers with 1 to 3 children, who all share a similar churn rate; i.e., this factor doesn't provide any more information already contained in the Dependents factor."
   ]
  },
  {
   "cell_type": "code",
   "execution_count": 85,
   "metadata": {},
   "outputs": [
    {
     "data": {
      "text/html": [
       "<div>\n",
       "<style scoped>\n",
       "    .dataframe tbody tr th:only-of-type {\n",
       "        vertical-align: middle;\n",
       "    }\n",
       "\n",
       "    .dataframe tbody tr th {\n",
       "        vertical-align: top;\n",
       "    }\n",
       "\n",
       "    .dataframe thead th {\n",
       "        text-align: right;\n",
       "    }\n",
       "</style>\n",
       "<table border=\"1\" class=\"dataframe\">\n",
       "  <thead>\n",
       "    <tr style=\"text-align: right;\">\n",
       "      <th>Churn</th>\n",
       "      <th>No</th>\n",
       "      <th>Yes</th>\n",
       "    </tr>\n",
       "    <tr>\n",
       "      <th>Number of Dependents</th>\n",
       "      <th></th>\n",
       "      <th></th>\n",
       "    </tr>\n",
       "  </thead>\n",
       "  <tbody>\n",
       "    <tr>\n",
       "      <th>0</th>\n",
       "      <td>3649</td>\n",
       "      <td>1763</td>\n",
       "    </tr>\n",
       "    <tr>\n",
       "      <th>1</th>\n",
       "      <td>512</td>\n",
       "      <td>38</td>\n",
       "    </tr>\n",
       "    <tr>\n",
       "      <th>2</th>\n",
       "      <td>496</td>\n",
       "      <td>33</td>\n",
       "    </tr>\n",
       "    <tr>\n",
       "      <th>3</th>\n",
       "      <td>485</td>\n",
       "      <td>30</td>\n",
       "    </tr>\n",
       "    <tr>\n",
       "      <th>4</th>\n",
       "      <td>8</td>\n",
       "      <td>1</td>\n",
       "    </tr>\n",
       "    <tr>\n",
       "      <th>5</th>\n",
       "      <td>8</td>\n",
       "      <td>2</td>\n",
       "    </tr>\n",
       "    <tr>\n",
       "      <th>6</th>\n",
       "      <td>2</td>\n",
       "      <td>1</td>\n",
       "    </tr>\n",
       "    <tr>\n",
       "      <th>7</th>\n",
       "      <td>1</td>\n",
       "      <td>1</td>\n",
       "    </tr>\n",
       "    <tr>\n",
       "      <th>8</th>\n",
       "      <td>1</td>\n",
       "      <td>0</td>\n",
       "    </tr>\n",
       "    <tr>\n",
       "      <th>9</th>\n",
       "      <td>1</td>\n",
       "      <td>0</td>\n",
       "    </tr>\n",
       "  </tbody>\n",
       "</table>\n",
       "</div>"
      ],
      "text/plain": [
       "Churn                   No   Yes\n",
       "Number of Dependents            \n",
       "0                     3649  1763\n",
       "1                      512    38\n",
       "2                      496    33\n",
       "3                      485    30\n",
       "4                        8     1\n",
       "5                        8     2\n",
       "6                        2     1\n",
       "7                        1     1\n",
       "8                        1     0\n",
       "9                        1     0"
      ]
     },
     "execution_count": 85,
     "metadata": {},
     "output_type": "execute_result"
    }
   ],
   "source": [
    "pd.crosstab(df2['Number of Dependents'], df2.Churn)"
   ]
  },
  {
   "cell_type": "code",
   "execution_count": 12,
   "metadata": {},
   "outputs": [],
   "source": [
    "df2 = df2.drop('Number of Dependents', axis=1)"
   ]
  },
  {
   "cell_type": "markdown",
   "metadata": {},
   "source": [
    "I'll bin the values of Total Refunds according to their relative frequencies."
   ]
  },
  {
   "cell_type": "code",
   "execution_count": 13,
   "metadata": {},
   "outputs": [
    {
     "data": {
      "text/plain": [
       "0.0                 6507\n",
       "(10.766, 20.522]     114\n",
       "(40.034, 49.79]      113\n",
       "(20.522, 30.278]     111\n",
       "(30.278, 40.034]      97\n",
       "(0.96, 10.766]        90\n",
       "Name: Total Refunds, dtype: int64"
      ]
     },
     "execution_count": 13,
     "metadata": {},
     "output_type": "execute_result"
    }
   ],
   "source": [
    "refunds_binned = pd.cut(df2.query('`Total Refunds` != 0')['Total Refunds'], 5, include_lowest=True)\n",
    "df2['Total Refunds'] = pd.concat((df2.query('`Total Refunds` == 0')['Total Refunds'], refunds_binned)).astype(str).sort_index()\n",
    "df2['Total Refunds'].value_counts()"
   ]
  },
  {
   "cell_type": "markdown",
   "metadata": {},
   "source": [
    "Most of the values of Total Extra Data Charges are 0, which will be a bin by itself, while the remaining values will be binned in equal intervals of 50."
   ]
  },
  {
   "cell_type": "code",
   "execution_count": 14,
   "metadata": {},
   "outputs": [
    {
     "data": {
      "text/plain": [
       "0             6304\n",
       "10 to 50       352\n",
       "110 to 150     224\n",
       "60 to 100      152\n",
       "Name: Total Extra Data Charges, dtype: int64"
      ]
     },
     "execution_count": 14,
     "metadata": {},
     "output_type": "execute_result"
    }
   ],
   "source": [
    "tedc_binned = pd.cut(df2.query('`Total Extra Data Charges` != 0')['Total Extra Data Charges'], [10, 51, 100, 151], labels=[('10 to 50'), ('60 to 100'), ('110 to 150')], include_lowest=True, right=False)\n",
    "df2['Total Extra Data Charges'] = pd.concat((df2.query('`Total Extra Data Charges` == 0')['Total Extra Data Charges'], tedc_binned)).astype(str).sort_index()\n",
    "df2['Total Extra Data Charges'].value_counts()"
   ]
  },
  {
   "cell_type": "code",
   "execution_count": 15,
   "metadata": {},
   "outputs": [
    {
     "name": "stdout",
     "output_type": "stream",
     "text": [
      "Independent T-test Results\n"
     ]
    },
    {
     "data": {
      "text/html": [
       "<div>\n",
       "<style scoped>\n",
       "    .dataframe tbody tr th:only-of-type {\n",
       "        vertical-align: middle;\n",
       "    }\n",
       "\n",
       "    .dataframe tbody tr th {\n",
       "        vertical-align: top;\n",
       "    }\n",
       "\n",
       "    .dataframe thead th {\n",
       "        text-align: right;\n",
       "    }\n",
       "</style>\n",
       "<table border=\"1\" class=\"dataframe\">\n",
       "  <thead>\n",
       "    <tr style=\"text-align: right;\">\n",
       "      <th></th>\n",
       "      <th>t-statistic</th>\n",
       "      <th>p-value</th>\n",
       "    </tr>\n",
       "  </thead>\n",
       "  <tbody>\n",
       "    <tr>\n",
       "      <th>Age</th>\n",
       "      <td>9.395</td>\n",
       "      <td>0.000</td>\n",
       "    </tr>\n",
       "    <tr>\n",
       "      <th>Tenure</th>\n",
       "      <td>-34.972</td>\n",
       "      <td>0.000</td>\n",
       "    </tr>\n",
       "    <tr>\n",
       "      <th>Avg Monthly Long Distance Charges</th>\n",
       "      <td>0.668</td>\n",
       "      <td>0.504</td>\n",
       "    </tr>\n",
       "    <tr>\n",
       "      <th>Avg Monthly GB Download</th>\n",
       "      <td>4.344</td>\n",
       "      <td>0.000</td>\n",
       "    </tr>\n",
       "    <tr>\n",
       "      <th>Total Long Distance Charges</th>\n",
       "      <td>-22.187</td>\n",
       "      <td>0.000</td>\n",
       "    </tr>\n",
       "    <tr>\n",
       "      <th>Monthly Charges</th>\n",
       "      <td>18.341</td>\n",
       "      <td>0.000</td>\n",
       "    </tr>\n",
       "  </tbody>\n",
       "</table>\n",
       "</div>"
      ],
      "text/plain": [
       "                                   t-statistic  p-value\n",
       "Age                                      9.395    0.000\n",
       "Tenure                                 -34.972    0.000\n",
       "Avg Monthly Long Distance Charges        0.668    0.504\n",
       "Avg Monthly GB Download                  4.344    0.000\n",
       "Total Long Distance Charges            -22.187    0.000\n",
       "Monthly Charges                         18.341    0.000"
      ]
     },
     "execution_count": 15,
     "metadata": {},
     "output_type": "execute_result"
    }
   ],
   "source": [
    "from scipy.stats import ttest_ind\n",
    "from scipy.stats import boxcox\n",
    "\n",
    "ttest_results = {}\n",
    "num_cols = df2.select_dtypes(exclude='O').columns\n",
    "print('Independent T-test Results')\n",
    "for col in num_cols:\n",
    "    results = ttest_ind(df2.loc[df2['Churn'] == \"Yes\"][col], df2.loc[df2['Churn'] == \"No\"][col], equal_var=False)\n",
    "    ttest_results[col] = {'t-statistic': round(results[0], 3), 'p-value': round(results[1], 3)}\n",
    "pd.DataFrame(ttest_results).T"
   ]
  },
  {
   "cell_type": "markdown",
   "metadata": {},
   "source": [
    "All numeric factors except Avg Monthly Long Distance Charges have a statistically significant association with Churn."
   ]
  },
  {
   "cell_type": "markdown",
   "metadata": {},
   "source": [
    "When it comes to the categorical factors, all of them, excluding Gender and Phone Service, have a statistically significant association with Churn. The factors Multiple Lines, Total Refunds, Streaming Music, and Total Extra Data Charges have much weaker associations compared with the rest."
   ]
  },
  {
   "cell_type": "code",
   "execution_count": 16,
   "metadata": {},
   "outputs": [
    {
     "name": "stdout",
     "output_type": "stream",
     "text": [
      "Chi-square Test of Independence Results\n"
     ]
    },
    {
     "data": {
      "text/html": [
       "<div>\n",
       "<style scoped>\n",
       "    .dataframe tbody tr th:only-of-type {\n",
       "        vertical-align: middle;\n",
       "    }\n",
       "\n",
       "    .dataframe tbody tr th {\n",
       "        vertical-align: top;\n",
       "    }\n",
       "\n",
       "    .dataframe thead th {\n",
       "        text-align: right;\n",
       "    }\n",
       "</style>\n",
       "<table border=\"1\" class=\"dataframe\">\n",
       "  <thead>\n",
       "    <tr style=\"text-align: right;\">\n",
       "      <th></th>\n",
       "      <th>chi2-statistic</th>\n",
       "      <th>p-value</th>\n",
       "    </tr>\n",
       "  </thead>\n",
       "  <tbody>\n",
       "    <tr>\n",
       "      <th>Gender</th>\n",
       "      <td>0.475</td>\n",
       "      <td>0.490</td>\n",
       "    </tr>\n",
       "    <tr>\n",
       "      <th>Phone Service</th>\n",
       "      <td>0.874</td>\n",
       "      <td>0.350</td>\n",
       "    </tr>\n",
       "    <tr>\n",
       "      <th>Multiple Lines</th>\n",
       "      <td>11.272</td>\n",
       "      <td>0.004</td>\n",
       "    </tr>\n",
       "    <tr>\n",
       "      <th>Total Refunds</th>\n",
       "      <td>13.283</td>\n",
       "      <td>0.021</td>\n",
       "    </tr>\n",
       "    <tr>\n",
       "      <th>Streaming Music</th>\n",
       "      <td>14.095</td>\n",
       "      <td>0.000</td>\n",
       "    </tr>\n",
       "    <tr>\n",
       "      <th>Total Extra Data Charges</th>\n",
       "      <td>34.512</td>\n",
       "      <td>0.000</td>\n",
       "    </tr>\n",
       "    <tr>\n",
       "      <th>Referred a Friend</th>\n",
       "      <td>154.634</td>\n",
       "      <td>0.000</td>\n",
       "    </tr>\n",
       "    <tr>\n",
       "      <th>Married</th>\n",
       "      <td>157.503</td>\n",
       "      <td>0.000</td>\n",
       "    </tr>\n",
       "    <tr>\n",
       "      <th>Senior Citizen</th>\n",
       "      <td>158.441</td>\n",
       "      <td>0.000</td>\n",
       "    </tr>\n",
       "    <tr>\n",
       "      <th>Dependents</th>\n",
       "      <td>186.322</td>\n",
       "      <td>0.000</td>\n",
       "    </tr>\n",
       "    <tr>\n",
       "      <th>Unlimited Data</th>\n",
       "      <td>193.736</td>\n",
       "      <td>0.000</td>\n",
       "    </tr>\n",
       "    <tr>\n",
       "      <th>Paperless Billing</th>\n",
       "      <td>256.875</td>\n",
       "      <td>0.000</td>\n",
       "    </tr>\n",
       "    <tr>\n",
       "      <th>Streaming TV</th>\n",
       "      <td>372.457</td>\n",
       "      <td>0.000</td>\n",
       "    </tr>\n",
       "    <tr>\n",
       "      <th>Streaming Movies</th>\n",
       "      <td>374.268</td>\n",
       "      <td>0.000</td>\n",
       "    </tr>\n",
       "    <tr>\n",
       "      <th>Offer</th>\n",
       "      <td>484.609</td>\n",
       "      <td>0.000</td>\n",
       "    </tr>\n",
       "    <tr>\n",
       "      <th>Device Protection</th>\n",
       "      <td>555.880</td>\n",
       "      <td>0.000</td>\n",
       "    </tr>\n",
       "    <tr>\n",
       "      <th>Online Backup</th>\n",
       "      <td>599.175</td>\n",
       "      <td>0.000</td>\n",
       "    </tr>\n",
       "    <tr>\n",
       "      <th>Payment Method</th>\n",
       "      <td>645.430</td>\n",
       "      <td>0.000</td>\n",
       "    </tr>\n",
       "    <tr>\n",
       "      <th>Internet Service</th>\n",
       "      <td>728.696</td>\n",
       "      <td>0.000</td>\n",
       "    </tr>\n",
       "    <tr>\n",
       "      <th>Number of Referrals</th>\n",
       "      <td>798.004</td>\n",
       "      <td>0.000</td>\n",
       "    </tr>\n",
       "    <tr>\n",
       "      <th>Tech Support</th>\n",
       "      <td>824.926</td>\n",
       "      <td>0.000</td>\n",
       "    </tr>\n",
       "    <tr>\n",
       "      <th>Online Security</th>\n",
       "      <td>846.677</td>\n",
       "      <td>0.000</td>\n",
       "    </tr>\n",
       "    <tr>\n",
       "      <th>Contract</th>\n",
       "      <td>1179.546</td>\n",
       "      <td>0.000</td>\n",
       "    </tr>\n",
       "  </tbody>\n",
       "</table>\n",
       "</div>"
      ],
      "text/plain": [
       "                          chi2-statistic  p-value\n",
       "Gender                             0.475    0.490\n",
       "Phone Service                      0.874    0.350\n",
       "Multiple Lines                    11.272    0.004\n",
       "Total Refunds                     13.283    0.021\n",
       "Streaming Music                   14.095    0.000\n",
       "Total Extra Data Charges          34.512    0.000\n",
       "Referred a Friend                154.634    0.000\n",
       "Married                          157.503    0.000\n",
       "Senior Citizen                   158.441    0.000\n",
       "Dependents                       186.322    0.000\n",
       "Unlimited Data                   193.736    0.000\n",
       "Paperless Billing                256.875    0.000\n",
       "Streaming TV                     372.457    0.000\n",
       "Streaming Movies                 374.268    0.000\n",
       "Offer                            484.609    0.000\n",
       "Device Protection                555.880    0.000\n",
       "Online Backup                    599.175    0.000\n",
       "Payment Method                   645.430    0.000\n",
       "Internet Service                 728.696    0.000\n",
       "Number of Referrals              798.004    0.000\n",
       "Tech Support                     824.926    0.000\n",
       "Online Security                  846.677    0.000\n",
       "Contract                        1179.546    0.000"
      ]
     },
     "execution_count": 16,
     "metadata": {},
     "output_type": "execute_result"
    }
   ],
   "source": [
    "from scipy.stats import chi2_contingency\n",
    "\n",
    "chi2_results = {}\n",
    "cat_cols = df2.iloc[:, :-2].select_dtypes(\"object\").columns\n",
    "print('Chi-square Test of Independence Results')\n",
    "for col in cat_cols:\n",
    "    results = chi2_contingency(pd.crosstab(df2[col], df2.Churn))\n",
    "    chi2_results[col] = {'chi2-statistic': round(results[0], 3), 'p-value': round(results[1], 3)}\n",
    "pd.DataFrame(chi2_results).T.sort_values('chi2-statistic')"
   ]
  },
  {
   "cell_type": "markdown",
   "metadata": {},
   "source": [
    "Narrowing down the factors."
   ]
  },
  {
   "cell_type": "code",
   "execution_count": 17,
   "metadata": {},
   "outputs": [],
   "source": [
    "# Significant factors identified by t- and chi-square tests\n",
    "main_cols = num_cols.drop('Avg Monthly Long Distance Charges').append(cat_cols.drop(['Gender', 'Phone Service']))"
   ]
  },
  {
   "cell_type": "code",
   "execution_count": 18,
   "metadata": {},
   "outputs": [
    {
     "data": {
      "image/png": "[encoded data removed]",
      "text/plain": [
       "<Figure size 640x480 with 1 Axes>"
      ]
     },
     "metadata": {},
     "output_type": "display_data"
    }
   ],
   "source": [
    "main_cols = main_cols.drop(['Multiple Lines', 'Total Refunds', 'Streaming Music', 'Total Extra Data Charges', # Drop categorical factors with much weaker relative associations\n",
    "                            'Referred a Friend', # Drop Referred a Friend because Number of Referrals is more informative\n",
    "                            'Avg Monthly GB Download', # Drop Avg Monthly GB Download because it has a much weaker relative association\n",
    "                            'Age'] # Drop Age because there doesn't seem to be a significant difference in Churn before Age 65\n",
    "                            )\n",
    "\n",
    "sns.histplot(x=df2.Age, hue=df2.Churn, binwidth=5)\n",
    "plt.title('Age-Churn Distribution');"
   ]
  },
  {
   "cell_type": "markdown",
   "metadata": {},
   "source": [
    "Training a CatBoost model to further narrow down the factors."
   ]
  },
  {
   "cell_type": "code",
   "execution_count": 19,
   "metadata": {},
   "outputs": [],
   "source": [
    "from sklearn.model_selection import train_test_split\n",
    "from sklearn.metrics import ConfusionMatrixDisplay\n",
    "from catboost import CatBoostClassifier, Pool"
   ]
  },
  {
   "cell_type": "code",
   "execution_count": 20,
   "metadata": {},
   "outputs": [],
   "source": [
    "X_train, X_test, y_train, y_test = train_test_split(df2[main_cols], df2['Churn'], stratify=df['Churn'], test_size=0.2, random_state=42)"
   ]
  },
  {
   "cell_type": "code",
   "execution_count": 21,
   "metadata": {},
   "outputs": [],
   "source": [
    "cat_features = df2[main_cols].select_dtypes('O').columns.to_list()\n",
    "train_pool = Pool(X_train, y_train, cat_features=cat_features)"
   ]
  },
  {
   "cell_type": "code",
   "execution_count": 22,
   "metadata": {},
   "outputs": [
    {
     "name": "stdout",
     "output_type": "stream",
     "text": [
      "Training on fold [0/3]\n",
      "\n",
      "bestTest = 0.4397438667\n",
      "bestIteration = 1136\n",
      "\n",
      "Training on fold [1/3]\n",
      "\n",
      "bestTest = 0.428442203\n",
      "bestIteration = 1083\n",
      "\n",
      "Training on fold [2/3]\n",
      "\n",
      "bestTest = 0.4361381247\n",
      "bestIteration = 956\n",
      "\n",
      "0:\tloss: 0.4350777\tbest: 0.4350777 (0)\ttotal: 44.3s\tremaining: 12m 33s\n",
      "Training on fold [0/3]\n",
      "\n",
      "bestTest = 0.4409493884\n",
      "bestIteration = 526\n",
      "\n",
      "Training on fold [1/3]\n",
      "\n",
      "bestTest = 0.4274045182\n",
      "bestIteration = 476\n",
      "\n",
      "Training on fold [2/3]\n",
      "\n",
      "bestTest = 0.4362070264\n",
      "bestIteration = 520\n",
      "\n",
      "1:\tloss: 0.4357225\tbest: 0.4350777 (0)\ttotal: 1m 7s\tremaining: 8m 56s\n",
      "Training on fold [0/3]\n",
      "\n",
      "bestTest = 0.4414202263\n",
      "bestIteration = 1233\n",
      "\n",
      "Training on fold [1/3]\n",
      "\n",
      "bestTest = 0.4282560911\n",
      "bestIteration = 929\n",
      "\n",
      "Training on fold [2/3]\n",
      "\n",
      "bestTest = 0.4359430058\n",
      "bestIteration = 1048\n",
      "\n",
      "2:\tloss: 0.4356609\tbest: 0.4350777 (0)\ttotal: 1m 49s\tremaining: 9m 8s\n",
      "Training on fold [0/3]\n",
      "\n",
      "bestTest = 0.441646168\n",
      "bestIteration = 552\n",
      "\n",
      "Training on fold [1/3]\n",
      "\n",
      "bestTest = 0.4270523472\n",
      "bestIteration = 555\n",
      "\n",
      "Training on fold [2/3]\n",
      "\n",
      "bestTest = 0.4357117587\n",
      "bestIteration = 574\n",
      "\n",
      "3:\tloss: 0.4354025\tbest: 0.4350777 (0)\ttotal: 2m 10s\tremaining: 7m 35s\n",
      "Training on fold [0/3]\n",
      "\n",
      "bestTest = 0.4405843833\n",
      "bestIteration = 1242\n",
      "\n",
      "Training on fold [1/3]\n",
      "\n",
      "bestTest = 0.4278060505\n",
      "bestIteration = 1117\n",
      "\n",
      "Training on fold [2/3]\n",
      "\n",
      "bestTest = 0.4359653527\n",
      "bestIteration = 937\n",
      "\n",
      "4:\tloss: 0.4350986\tbest: 0.4350777 (0)\ttotal: 2m 47s\tremaining: 7m 14s\n",
      "Training on fold [0/3]\n",
      "\n",
      "bestTest = 0.4417102405\n",
      "bestIteration = 616\n",
      "\n",
      "Training on fold [1/3]\n",
      "\n",
      "bestTest = 0.4280302501\n",
      "bestIteration = 536\n",
      "\n",
      "Training on fold [2/3]\n",
      "\n",
      "bestTest = 0.4350058237\n",
      "bestIteration = 509\n",
      "\n",
      "5:\tloss: 0.4355816\tbest: 0.4350777 (0)\ttotal: 3m 8s\tremaining: 6m 16s\n",
      "Training on fold [0/3]\n",
      "\n",
      "bestTest = 0.4421504641\n",
      "bestIteration = 1137\n",
      "\n",
      "Training on fold [1/3]\n",
      "\n",
      "bestTest = 0.4304891803\n",
      "bestIteration = 982\n",
      "\n",
      "Training on fold [2/3]\n",
      "\n",
      "bestTest = 0.4378288233\n",
      "bestIteration = 669\n",
      "\n",
      "6:\tloss: 0.4372049\tbest: 0.4350777 (0)\ttotal: 3m 48s\tremaining: 5m 59s\n",
      "Training on fold [0/3]\n",
      "\n",
      "bestTest = 0.4418919391\n",
      "bestIteration = 537\n",
      "\n",
      "Training on fold [1/3]\n",
      "\n",
      "bestTest = 0.4294613178\n",
      "bestIteration = 385\n",
      "\n",
      "Training on fold [2/3]\n",
      "\n",
      "bestTest = 0.4378902401\n",
      "bestIteration = 451\n",
      "\n",
      "7:\tloss: 0.4375446\tbest: 0.4350777 (0)\ttotal: 4m 9s\tremaining: 5m 12s\n",
      "Training on fold [0/3]\n",
      "\n",
      "bestTest = 0.4418521222\n",
      "bestIteration = 1128\n",
      "\n",
      "Training on fold [1/3]\n",
      "\n",
      "bestTest = 0.4310585317\n",
      "bestIteration = 859\n",
      "\n",
      "Training on fold [2/3]\n",
      "\n",
      "bestTest = 0.4366335393\n",
      "bestIteration = 1057\n",
      "\n",
      "8:\tloss: 0.4370135\tbest: 0.4350777 (0)\ttotal: 4m 53s\tremaining: 4m 53s\n",
      "Training on fold [0/3]\n",
      "\n",
      "bestTest = 0.4428025094\n",
      "bestIteration = 539\n",
      "\n",
      "Training on fold [1/3]\n",
      "\n",
      "bestTest = 0.4299037676\n",
      "bestIteration = 425\n",
      "\n",
      "Training on fold [2/3]\n",
      "\n",
      "bestTest = 0.4367553258\n",
      "bestIteration = 443\n",
      "\n",
      "9:\tloss: 0.4374319\tbest: 0.4350777 (0)\ttotal: 5m 22s\tremaining: 4m 17s\n",
      "Training on fold [0/3]\n",
      "\n",
      "bestTest = 0.4412445581\n",
      "bestIteration = 1142\n",
      "\n",
      "Training on fold [1/3]\n",
      "\n",
      "bestTest = 0.4288850801\n",
      "bestIteration = 969\n",
      "\n",
      "Training on fold [2/3]\n",
      "\n",
      "bestTest = 0.4367246135\n",
      "bestIteration = 840\n",
      "\n",
      "10:\tloss: 0.4359036\tbest: 0.4350777 (0)\ttotal: 6m 6s\tremaining: 3m 53s\n",
      "Training on fold [0/3]\n",
      "\n",
      "bestTest = 0.4418693291\n",
      "bestIteration = 621\n",
      "\n",
      "Training on fold [1/3]\n",
      "\n",
      "bestTest = 0.4289229594\n",
      "bestIteration = 452\n",
      "\n",
      "Training on fold [2/3]\n",
      "\n",
      "bestTest = 0.4365965533\n",
      "bestIteration = 389\n",
      "\n",
      "11:\tloss: 0.4364231\tbest: 0.4350777 (0)\ttotal: 6m 28s\tremaining: 3m 14s\n",
      "Training on fold [0/3]\n",
      "\n",
      "bestTest = 0.4441641558\n",
      "bestIteration = 1015\n",
      "\n",
      "Training on fold [1/3]\n",
      "\n",
      "bestTest = 0.4320568419\n",
      "bestIteration = 704\n",
      "\n",
      "Training on fold [2/3]\n",
      "\n",
      "bestTest = 0.4386631024\n",
      "bestIteration = 795\n",
      "\n",
      "12:\tloss: 0.4388583\tbest: 0.4350777 (0)\ttotal: 7m 10s\tremaining: 2m 45s\n",
      "Training on fold [0/3]\n",
      "\n",
      "bestTest = 0.4440388519\n",
      "bestIteration = 382\n",
      "\n",
      "Training on fold [1/3]\n",
      "\n",
      "bestTest = 0.4326307597\n",
      "bestIteration = 231\n",
      "\n",
      "Training on fold [2/3]\n",
      "\n",
      "bestTest = 0.43913746\n",
      "bestIteration = 396\n",
      "\n",
      "13:\tloss: 0.4398330\tbest: 0.4350777 (0)\ttotal: 7m 30s\tremaining: 2m 8s\n",
      "Training on fold [0/3]\n",
      "\n",
      "bestTest = 0.4445714923\n",
      "bestIteration = 702\n",
      "\n",
      "Training on fold [1/3]\n",
      "\n",
      "bestTest = 0.4312874874\n",
      "bestIteration = 730\n",
      "\n",
      "Training on fold [2/3]\n",
      "\n",
      "bestTest = 0.4377613524\n",
      "bestIteration = 755\n",
      "\n",
      "14:\tloss: 0.4383690\tbest: 0.4350777 (0)\ttotal: 8m 6s\tremaining: 1m 37s\n",
      "Training on fold [0/3]\n",
      "\n",
      "bestTest = 0.4428522881\n",
      "bestIteration = 409\n",
      "\n",
      "Training on fold [1/3]\n",
      "\n",
      "bestTest = 0.4309923844\n",
      "bestIteration = 352\n",
      "\n",
      "Training on fold [2/3]\n",
      "\n",
      "bestTest = 0.4382720437\n",
      "bestIteration = 332\n",
      "\n",
      "15:\tloss: 0.4382764\tbest: 0.4350777 (0)\ttotal: 8m 27s\tremaining: 1m 3s\n",
      "Training on fold [0/3]\n",
      "\n",
      "bestTest = 0.4439961839\n",
      "bestIteration = 678\n",
      "\n",
      "Training on fold [1/3]\n",
      "\n",
      "bestTest = 0.4315477978\n",
      "bestIteration = 619\n",
      "\n",
      "Training on fold [2/3]\n",
      "\n",
      "bestTest = 0.4383169684\n",
      "bestIteration = 736\n",
      "\n",
      "16:\tloss: 0.4381421\tbest: 0.4350777 (0)\ttotal: 9m 1s\tremaining: 31.8s\n",
      "Training on fold [0/3]\n",
      "\n",
      "bestTest = 0.4453783284\n",
      "bestIteration = 399\n",
      "\n",
      "Training on fold [1/3]\n",
      "\n",
      "bestTest = 0.4310541706\n",
      "bestIteration = 378\n",
      "\n",
      "Training on fold [2/3]\n",
      "\n",
      "bestTest = 0.439821655\n",
      "bestIteration = 440\n",
      "\n",
      "17:\tloss: 0.4395663\tbest: 0.4350777 (0)\ttotal: 9m 24s\tremaining: 0us\n"
     ]
    }
   ],
   "source": [
    "param_grid = {'learning_rate': [0.01, 0.02], \n",
    "              'depth': [4, 5, 6],\n",
    "              'l2_leaf_reg': [1, 3, 5]}\n",
    "              \n",
    "model = CatBoostClassifier(random_seed=42, verbose=False, early_stopping_rounds=100, iterations=2000, auto_class_weights='Balanced')\n",
    "gs = model.grid_search(param_grid, train_pool, refit=False, stratified=True, search_by_train_test_split=False, cv=3)"
   ]
  },
  {
   "cell_type": "code",
   "execution_count": 23,
   "metadata": {},
   "outputs": [
    {
     "data": {
      "text/plain": [
       "{'depth': 4, 'l2_leaf_reg': 1, 'learning_rate': 0.01}"
      ]
     },
     "execution_count": 23,
     "metadata": {},
     "output_type": "execute_result"
    }
   ],
   "source": [
    "# Best params\n",
    "gs['params']"
   ]
  },
  {
   "cell_type": "code",
   "execution_count": 24,
   "metadata": {},
   "outputs": [
    {
     "data": {
      "text/html": [
       "<div>\n",
       "<style scoped>\n",
       "    .dataframe tbody tr th:only-of-type {\n",
       "        vertical-align: middle;\n",
       "    }\n",
       "\n",
       "    .dataframe tbody tr th {\n",
       "        vertical-align: top;\n",
       "    }\n",
       "\n",
       "    .dataframe thead th {\n",
       "        text-align: right;\n",
       "    }\n",
       "</style>\n",
       "<table border=\"1\" class=\"dataframe\">\n",
       "  <thead>\n",
       "    <tr style=\"text-align: right;\">\n",
       "      <th></th>\n",
       "      <th>iterations</th>\n",
       "      <th>test-Logloss-mean</th>\n",
       "      <th>test-Logloss-std</th>\n",
       "      <th>train-Logloss-mean</th>\n",
       "      <th>train-Logloss-std</th>\n",
       "    </tr>\n",
       "  </thead>\n",
       "  <tbody>\n",
       "    <tr>\n",
       "      <th>1232</th>\n",
       "      <td>1232</td>\n",
       "      <td>0.435064</td>\n",
       "      <td>0.005658</td>\n",
       "      <td>0.393068</td>\n",
       "      <td>0.004900</td>\n",
       "    </tr>\n",
       "    <tr>\n",
       "      <th>1233</th>\n",
       "      <td>1233</td>\n",
       "      <td>0.435071</td>\n",
       "      <td>0.005667</td>\n",
       "      <td>0.393056</td>\n",
       "      <td>0.004919</td>\n",
       "    </tr>\n",
       "    <tr>\n",
       "      <th>1234</th>\n",
       "      <td>1234</td>\n",
       "      <td>0.435074</td>\n",
       "      <td>0.005670</td>\n",
       "      <td>0.393045</td>\n",
       "      <td>0.004938</td>\n",
       "    </tr>\n",
       "    <tr>\n",
       "      <th>1235</th>\n",
       "      <td>1235</td>\n",
       "      <td>0.435071</td>\n",
       "      <td>0.005666</td>\n",
       "      <td>0.393038</td>\n",
       "      <td>0.004948</td>\n",
       "    </tr>\n",
       "    <tr>\n",
       "      <th>1236</th>\n",
       "      <td>1236</td>\n",
       "      <td>0.435078</td>\n",
       "      <td>0.005675</td>\n",
       "      <td>0.393026</td>\n",
       "      <td>0.004967</td>\n",
       "    </tr>\n",
       "  </tbody>\n",
       "</table>\n",
       "</div>"
      ],
      "text/plain": [
       "      iterations  test-Logloss-mean  test-Logloss-std  train-Logloss-mean  \\\n",
       "1232        1232           0.435064          0.005658            0.393068   \n",
       "1233        1233           0.435071          0.005667            0.393056   \n",
       "1234        1234           0.435074          0.005670            0.393045   \n",
       "1235        1235           0.435071          0.005666            0.393038   \n",
       "1236        1236           0.435078          0.005675            0.393026   \n",
       "\n",
       "      train-Logloss-std  \n",
       "1232           0.004900  \n",
       "1233           0.004919  \n",
       "1234           0.004938  \n",
       "1235           0.004948  \n",
       "1236           0.004967  "
      ]
     },
     "execution_count": 24,
     "metadata": {},
     "output_type": "execute_result"
    }
   ],
   "source": [
    "pd.DataFrame(gs['cv_results']).tail()"
   ]
  },
  {
   "cell_type": "code",
   "execution_count": 25,
   "metadata": {},
   "outputs": [
    {
     "data": {
      "text/plain": [
       "<catboost.core.CatBoostClassifier at 0x1acc5d916d0>"
      ]
     },
     "execution_count": 25,
     "metadata": {},
     "output_type": "execute_result"
    }
   ],
   "source": [
    "final_model = CatBoostClassifier(random_seed=42, verbose=False, auto_class_weights='Balanced', **gs['params'], iterations=1137)\n",
    "final_model.fit(train_pool)"
   ]
  },
  {
   "cell_type": "markdown",
   "metadata": {},
   "source": [
    "The model does a decent job of correctly identifying 312/374 churn cases at the cost of 246 false positives."
   ]
  },
  {
   "cell_type": "code",
   "execution_count": 26,
   "metadata": {},
   "outputs": [
    {
     "name": "stdout",
     "output_type": "stream",
     "text": [
      "Recall score: 83.4%\n"
     ]
    },
    {
     "data": {
      "image/png": "[encoded data removed]",
      "text/plain": [
       "<Figure size 640x480 with 2 Axes>"
      ]
     },
     "metadata": {},
     "output_type": "display_data"
    }
   ],
   "source": [
    "print(f'Recall score: {round(312/(312+62) * 100, 1)}%')\n",
    "ConfusionMatrixDisplay.from_predictions(y_test, final_model.predict(X_test));"
   ]
  },
  {
   "cell_type": "code",
   "execution_count": 28,
   "metadata": {},
   "outputs": [
    {
     "data": {
      "text/html": [
       "<div>\n",
       "<style scoped>\n",
       "    .dataframe tbody tr th:only-of-type {\n",
       "        vertical-align: middle;\n",
       "    }\n",
       "\n",
       "    .dataframe tbody tr th {\n",
       "        vertical-align: top;\n",
       "    }\n",
       "\n",
       "    .dataframe thead th {\n",
       "        text-align: right;\n",
       "    }\n",
       "</style>\n",
       "<table border=\"1\" class=\"dataframe\">\n",
       "  <thead>\n",
       "    <tr style=\"text-align: right;\">\n",
       "      <th></th>\n",
       "      <th>0</th>\n",
       "    </tr>\n",
       "  </thead>\n",
       "  <tbody>\n",
       "    <tr>\n",
       "      <th>Number of Referrals</th>\n",
       "      <td>32.667797</td>\n",
       "    </tr>\n",
       "    <tr>\n",
       "      <th>Contract</th>\n",
       "      <td>18.907757</td>\n",
       "    </tr>\n",
       "    <tr>\n",
       "      <th>Internet Service</th>\n",
       "      <td>10.137259</td>\n",
       "    </tr>\n",
       "    <tr>\n",
       "      <th>Tenure</th>\n",
       "      <td>9.999968</td>\n",
       "    </tr>\n",
       "    <tr>\n",
       "      <th>Monthly Charges</th>\n",
       "      <td>4.011162</td>\n",
       "    </tr>\n",
       "    <tr>\n",
       "      <th>Online Security</th>\n",
       "      <td>3.966641</td>\n",
       "    </tr>\n",
       "    <tr>\n",
       "      <th>Total Long Distance Charges</th>\n",
       "      <td>3.122826</td>\n",
       "    </tr>\n",
       "    <tr>\n",
       "      <th>Tech Support</th>\n",
       "      <td>3.083395</td>\n",
       "    </tr>\n",
       "    <tr>\n",
       "      <th>Payment Method</th>\n",
       "      <td>2.624717</td>\n",
       "    </tr>\n",
       "    <tr>\n",
       "      <th>Streaming TV</th>\n",
       "      <td>2.589282</td>\n",
       "    </tr>\n",
       "    <tr>\n",
       "      <th>Offer</th>\n",
       "      <td>2.431476</td>\n",
       "    </tr>\n",
       "    <tr>\n",
       "      <th>Online Backup</th>\n",
       "      <td>1.714537</td>\n",
       "    </tr>\n",
       "    <tr>\n",
       "      <th>Paperless Billing</th>\n",
       "      <td>1.590930</td>\n",
       "    </tr>\n",
       "    <tr>\n",
       "      <th>Streaming Movies</th>\n",
       "      <td>1.136760</td>\n",
       "    </tr>\n",
       "    <tr>\n",
       "      <th>Device Protection</th>\n",
       "      <td>0.918555</td>\n",
       "    </tr>\n",
       "    <tr>\n",
       "      <th>Senior Citizen</th>\n",
       "      <td>0.821458</td>\n",
       "    </tr>\n",
       "    <tr>\n",
       "      <th>Married</th>\n",
       "      <td>0.172376</td>\n",
       "    </tr>\n",
       "    <tr>\n",
       "      <th>Dependents</th>\n",
       "      <td>0.068645</td>\n",
       "    </tr>\n",
       "    <tr>\n",
       "      <th>Unlimited Data</th>\n",
       "      <td>0.034460</td>\n",
       "    </tr>\n",
       "  </tbody>\n",
       "</table>\n",
       "</div>"
      ],
      "text/plain": [
       "                                     0\n",
       "Number of Referrals          32.667797\n",
       "Contract                     18.907757\n",
       "Internet Service             10.137259\n",
       "Tenure                        9.999968\n",
       "Monthly Charges               4.011162\n",
       "Online Security               3.966641\n",
       "Total Long Distance Charges   3.122826\n",
       "Tech Support                  3.083395\n",
       "Payment Method                2.624717\n",
       "Streaming TV                  2.589282\n",
       "Offer                         2.431476\n",
       "Online Backup                 1.714537\n",
       "Paperless Billing             1.590930\n",
       "Streaming Movies              1.136760\n",
       "Device Protection             0.918555\n",
       "Senior Citizen                0.821458\n",
       "Married                       0.172376\n",
       "Dependents                    0.068645\n",
       "Unlimited Data                0.034460"
      ]
     },
     "execution_count": 28,
     "metadata": {},
     "output_type": "execute_result"
    }
   ],
   "source": [
    "importances = pd.DataFrame(final_model.feature_importances_, index=final_model.feature_names_).sort_values(0, ascending=False)\n",
    "importances"
   ]
  },
  {
   "cell_type": "markdown",
   "metadata": {},
   "source": [
    "# Analysing the top 8 factors"
   ]
  },
  {
   "cell_type": "markdown",
   "metadata": {},
   "source": [
    "3 of the top 8 factors, Number of Referrals, Tenure, and Total Long Distance Charges are not a provided service or a fixed price set by the telco."
   ]
  },
  {
   "cell_type": "code",
   "execution_count": 29,
   "metadata": {},
   "outputs": [
    {
     "data": {
      "text/plain": [
       "Index(['Number of Referrals', 'Contract', 'Internet Service', 'Tenure',\n",
       "       'Monthly Charges', 'Online Security', 'Total Long Distance Charges',\n",
       "       'Tech Support'],\n",
       "      dtype='object')"
      ]
     },
     "execution_count": 29,
     "metadata": {},
     "output_type": "execute_result"
    }
   ],
   "source": [
    "top8 = importances[:8].index\n",
    "top8"
   ]
  },
  {
   "cell_type": "code",
   "execution_count": 30,
   "metadata": {},
   "outputs": [
    {
     "data": {
      "image/png": "[encoded data removed]",
      "text/plain": [
       "<Figure size 1200x800 with 9 Axes>"
      ]
     },
     "metadata": {},
     "output_type": "display_data"
    }
   ],
   "source": [
    "fig, axes = plt.subplots(3, 3, figsize=(12, 8))\n",
    "for factor, ax in zip(top8, axes.flatten()):\n",
    "    sns.histplot(x=df2[factor], hue=df2.Churn, stat='proportion', ax=ax, legend=False)\n",
    "\n",
    "axes[0, 0].legend(['No Churn', 'Churn'])\n",
    "axes[2, 2].set_axis_off()\n",
    "plt.tight_layout()\n",
    "plt.subplots_adjust(hspace=0.4)"
   ]
  },
  {
   "cell_type": "markdown",
   "metadata": {},
   "source": [
    "1. Customers with more than 1 referral have a much lower churn rate than the rest probably because they think highly of the telco and are less likely to leave. Interestingly, the churn rate of customers with exactly 1 referral is much higher than that of customers with no referrals. However, the mean tenure length of customers with only 1 referral is not particularly low, which rules out the idea of customers leaving after redeeming some sort of referral deal. The telco could consider conducting a survey with customers who have a high number of referrals to better understand their strengths."
   ]
  },
  {
   "cell_type": "code",
   "execution_count": 31,
   "metadata": {},
   "outputs": [
    {
     "data": {
      "image/png": "[encoded data removed]",
      "text/plain": [
       "<Figure size 640x480 with 1 Axes>"
      ]
     },
     "metadata": {},
     "output_type": "display_data"
    }
   ],
   "source": [
    "sns.histplot(x=df2['Number of Referrals'], hue=df2.Churn, stat='proportion');"
   ]
  },
  {
   "cell_type": "code",
   "execution_count": 32,
   "metadata": {},
   "outputs": [
    {
     "data": {
      "text/plain": [
       "Number of Referrals\n",
       "0         24.240115\n",
       "1         36.126151\n",
       "2 to 5    44.786585\n",
       "6         45.594051\n",
       "Name: Tenure, dtype: float64"
      ]
     },
     "execution_count": 32,
     "metadata": {},
     "output_type": "execute_result"
    }
   ],
   "source": [
    "df2.groupby('Number of Referrals').Tenure.mean()"
   ]
  },
  {
   "cell_type": "markdown",
   "metadata": {},
   "source": [
    "2. Customers with one- or two-year contracts are significantly less likely to leave and have much longer tenure lengths. Part of what contributes to the elevated churn rate for Month-to-month customers is because of Offer E, where customers join for the offer and leave once their contract is over. The telco should promote long-term over Month-to-month contracts and get existing Month-to-month customers to switch to long-term contracts as much as possible for greater customer retention."
   ]
  },
  {
   "cell_type": "code",
   "execution_count": 33,
   "metadata": {},
   "outputs": [
    {
     "data": {
      "image/png": "[encoded data removed]",
      "text/plain": [
       "<Figure size 640x480 with 1 Axes>"
      ]
     },
     "metadata": {},
     "output_type": "display_data"
    }
   ],
   "source": [
    "sns.histplot(x=df2['Contract'], hue=df2.Churn, stat='proportion');"
   ]
  },
  {
   "cell_type": "code",
   "execution_count": 34,
   "metadata": {},
   "outputs": [
    {
     "data": {
      "image/png": "[encoded data removed]",
      "text/plain": [
       "<Figure size 640x480 with 1 Axes>"
      ]
     },
     "metadata": {},
     "output_type": "display_data"
    }
   ],
   "source": [
    "sns.kdeplot(x=df2['Tenure'], hue=df2['Contract'], fill=True);"
   ]
  },
  {
   "cell_type": "code",
   "execution_count": 35,
   "metadata": {},
   "outputs": [
    {
     "data": {
      "text/html": [
       "<div>\n",
       "<style scoped>\n",
       "    .dataframe tbody tr th:only-of-type {\n",
       "        vertical-align: middle;\n",
       "    }\n",
       "\n",
       "    .dataframe tbody tr th {\n",
       "        vertical-align: top;\n",
       "    }\n",
       "\n",
       "    .dataframe thead th {\n",
       "        text-align: right;\n",
       "    }\n",
       "</style>\n",
       "<table border=\"1\" class=\"dataframe\">\n",
       "  <thead>\n",
       "    <tr style=\"text-align: right;\">\n",
       "      <th>Contract</th>\n",
       "      <th>Month-to-month</th>\n",
       "      <th>One year</th>\n",
       "      <th>Two year</th>\n",
       "    </tr>\n",
       "    <tr>\n",
       "      <th>Offer</th>\n",
       "      <th></th>\n",
       "      <th></th>\n",
       "      <th></th>\n",
       "    </tr>\n",
       "  </thead>\n",
       "  <tbody>\n",
       "    <tr>\n",
       "      <th>None</th>\n",
       "      <td>2177</td>\n",
       "      <td>801</td>\n",
       "      <td>891</td>\n",
       "    </tr>\n",
       "    <tr>\n",
       "      <th>Offer A</th>\n",
       "      <td>21</td>\n",
       "      <td>96</td>\n",
       "      <td>403</td>\n",
       "    </tr>\n",
       "    <tr>\n",
       "      <th>Offer B</th>\n",
       "      <td>236</td>\n",
       "      <td>312</td>\n",
       "      <td>276</td>\n",
       "    </tr>\n",
       "    <tr>\n",
       "      <th>Offer C</th>\n",
       "      <td>232</td>\n",
       "      <td>132</td>\n",
       "      <td>51</td>\n",
       "    </tr>\n",
       "    <tr>\n",
       "      <th>Offer D</th>\n",
       "      <td>452</td>\n",
       "      <td>106</td>\n",
       "      <td>44</td>\n",
       "    </tr>\n",
       "    <tr>\n",
       "      <th>Offer E</th>\n",
       "      <td>757</td>\n",
       "      <td>25</td>\n",
       "      <td>20</td>\n",
       "    </tr>\n",
       "  </tbody>\n",
       "</table>\n",
       "</div>"
      ],
      "text/plain": [
       "Contract  Month-to-month  One year  Two year\n",
       "Offer                                       \n",
       "None                2177       801       891\n",
       "Offer A               21        96       403\n",
       "Offer B              236       312       276\n",
       "Offer C              232       132        51\n",
       "Offer D              452       106        44\n",
       "Offer E              757        25        20"
      ]
     },
     "execution_count": 35,
     "metadata": {},
     "output_type": "execute_result"
    }
   ],
   "source": [
    "pd.crosstab(df2['Offer'], df2['Contract'])"
   ]
  },
  {
   "cell_type": "markdown",
   "metadata": {},
   "source": [
    "3. Customers with the Fiber optic internet service have a significantly higher churn rate than those with DSL, suggesting that the Fiber optic service is bad and the telco should improve upon it. The telco should communicate with existing users of their fiber optic service with regard to its issues to minimise churn risks."
   ]
  },
  {
   "cell_type": "code",
   "execution_count": 36,
   "metadata": {},
   "outputs": [
    {
     "data": {
      "image/png": "[encoded data removed]",
      "text/plain": [
       "<Figure size 640x480 with 1 Axes>"
      ]
     },
     "metadata": {},
     "output_type": "display_data"
    }
   ],
   "source": [
    "sns.histplot(x=df2['Internet Service'], hue=df2.Churn, stat='proportion');"
   ]
  },
  {
   "cell_type": "markdown",
   "metadata": {},
   "source": [
    "4. Churn tends to decrease as tenure length increases. The tenure length between 1 to 5 months has an extremely high churn rate, which can be partly attributed to customers who joined for Offer E. The telco should re-evaluate its offers, particularly that of Offer E which not only has terrible retention, but also brings in the lowest revenue."
   ]
  },
  {
   "cell_type": "code",
   "execution_count": 37,
   "metadata": {},
   "outputs": [
    {
     "data": {
      "image/png": "[encoded data removed]",
      "text/plain": [
       "<Figure size 640x480 with 1 Axes>"
      ]
     },
     "metadata": {},
     "output_type": "display_data"
    }
   ],
   "source": [
    "sns.histplot(x=df2['Tenure'], hue=df2.Churn, stat='proportion');"
   ]
  },
  {
   "cell_type": "code",
   "execution_count": 39,
   "metadata": {},
   "outputs": [
    {
     "data": {
      "text/html": [
       "<div>\n",
       "<style scoped>\n",
       "    .dataframe tbody tr th:only-of-type {\n",
       "        vertical-align: middle;\n",
       "    }\n",
       "\n",
       "    .dataframe tbody tr th {\n",
       "        vertical-align: top;\n",
       "    }\n",
       "\n",
       "    .dataframe thead tr th {\n",
       "        text-align: left;\n",
       "    }\n",
       "\n",
       "    .dataframe thead tr:last-of-type th {\n",
       "        text-align: right;\n",
       "    }\n",
       "</style>\n",
       "<table border=\"1\" class=\"dataframe\">\n",
       "  <thead>\n",
       "    <tr>\n",
       "      <th></th>\n",
       "      <th colspan=\"2\" halign=\"left\">Tenure</th>\n",
       "      <th colspan=\"2\" halign=\"left\">Monthly Charges</th>\n",
       "    </tr>\n",
       "    <tr>\n",
       "      <th></th>\n",
       "      <th>mean</th>\n",
       "      <th>median</th>\n",
       "      <th>mean</th>\n",
       "      <th>median</th>\n",
       "    </tr>\n",
       "    <tr>\n",
       "      <th>Offer</th>\n",
       "      <th></th>\n",
       "      <th></th>\n",
       "      <th></th>\n",
       "      <th></th>\n",
       "    </tr>\n",
       "  </thead>\n",
       "  <tbody>\n",
       "    <tr>\n",
       "      <th>None</th>\n",
       "      <td>31.610752</td>\n",
       "      <td>29.0</td>\n",
       "      <td>64.400323</td>\n",
       "      <td>70.20</td>\n",
       "    </tr>\n",
       "    <tr>\n",
       "      <th>Offer A</th>\n",
       "      <td>70.000000</td>\n",
       "      <td>71.0</td>\n",
       "      <td>77.719519</td>\n",
       "      <td>85.30</td>\n",
       "    </tr>\n",
       "    <tr>\n",
       "      <th>Offer B</th>\n",
       "      <td>53.358010</td>\n",
       "      <td>54.0</td>\n",
       "      <td>70.829976</td>\n",
       "      <td>79.35</td>\n",
       "    </tr>\n",
       "    <tr>\n",
       "      <th>Offer C</th>\n",
       "      <td>30.761446</td>\n",
       "      <td>30.0</td>\n",
       "      <td>66.578313</td>\n",
       "      <td>74.75</td>\n",
       "    </tr>\n",
       "    <tr>\n",
       "      <th>Offer D</th>\n",
       "      <td>15.951827</td>\n",
       "      <td>16.0</td>\n",
       "      <td>58.168937</td>\n",
       "      <td>60.40</td>\n",
       "    </tr>\n",
       "    <tr>\n",
       "      <th>Offer E</th>\n",
       "      <td>3.680798</td>\n",
       "      <td>3.0</td>\n",
       "      <td>56.197506</td>\n",
       "      <td>55.65</td>\n",
       "    </tr>\n",
       "  </tbody>\n",
       "</table>\n",
       "</div>"
      ],
      "text/plain": [
       "            Tenure        Monthly Charges       \n",
       "              mean median            mean median\n",
       "Offer                                           \n",
       "None     31.610752   29.0       64.400323  70.20\n",
       "Offer A  70.000000   71.0       77.719519  85.30\n",
       "Offer B  53.358010   54.0       70.829976  79.35\n",
       "Offer C  30.761446   30.0       66.578313  74.75\n",
       "Offer D  15.951827   16.0       58.168937  60.40\n",
       "Offer E   3.680798    3.0       56.197506  55.65"
      ]
     },
     "execution_count": 39,
     "metadata": {},
     "output_type": "execute_result"
    }
   ],
   "source": [
    "df2.groupby('Offer')[['Tenure', 'Monthly Charges']].agg(['mean', 'median'])"
   ]
  },
  {
   "cell_type": "markdown",
   "metadata": {},
   "source": [
    "5. The distribution of Churn: Yes across Monthly Charges is approximately the same as the distribution of Contract: Month-to-month across Monthly Charges, which suggests that between the monthly charge the customer pays and their type of contract, the latter is more predictive of their churn behaviour."
   ]
  },
  {
   "cell_type": "code",
   "execution_count": 40,
   "metadata": {},
   "outputs": [
    {
     "data": {
      "image/png": "[encoded data removed]",
      "text/plain": [
       "<Figure size 640x480 with 1 Axes>"
      ]
     },
     "metadata": {},
     "output_type": "display_data"
    }
   ],
   "source": [
    "sns.histplot(x=df2['Monthly Charges'], hue=df2['Churn'], stat='proportion');"
   ]
  },
  {
   "cell_type": "code",
   "execution_count": 41,
   "metadata": {},
   "outputs": [
    {
     "data": {
      "image/png": "[encoded data removed]",
      "text/plain": [
       "<Figure size 640x480 with 1 Axes>"
      ]
     },
     "metadata": {},
     "output_type": "display_data"
    }
   ],
   "source": [
    "sns.kdeplot(x=df2['Monthly Charges'], hue=df2['Contract'], clip=([df2['Monthly Charges'].min(), df2['Monthly Charges'].max()]), fill=True);"
   ]
  },
  {
   "cell_type": "markdown",
   "metadata": {},
   "source": [
    "6. Customers whose contracts do not include Online Security or Tech Support are much more likely to churn than those that do. The telco could consider upgrading customers to a package that includes Online Security and/or Tech Support as part of a deal or a free gift since after all, prices of these two types of contracts are similar."
   ]
  },
  {
   "cell_type": "code",
   "execution_count": 42,
   "metadata": {},
   "outputs": [
    {
     "data": {
      "image/png": "[encoded data removed]",
      "text/plain": [
       "<Figure size 1000x400 with 2 Axes>"
      ]
     },
     "metadata": {},
     "output_type": "display_data"
    }
   ],
   "source": [
    "fig, axes = plt.subplots(1, 2, figsize=(10, 4))\n",
    "sns.histplot(x=df2['Online Security'], hue=df2['Churn'], stat='proportion', ax=axes[0]);\n",
    "sns.histplot(x=df2['Tech Support'], hue=df2['Churn'], stat='proportion', ax=axes[1]);\n",
    "plt.tight_layout()"
   ]
  },
  {
   "cell_type": "code",
   "execution_count": 43,
   "metadata": {},
   "outputs": [
    {
     "name": "stdout",
     "output_type": "stream",
     "text": [
      "                          mean  median\n",
      "Online Security                       \n",
      "No                   75.693737   79.30\n",
      "No internet service  21.076283   20.15\n",
      "Yes                  78.870496   79.85\n",
      "                          mean  median\n",
      "Tech Support                          \n",
      "No                   74.584879  78.050\n",
      "No internet service  21.076283  20.150\n",
      "Yes                  80.718799  81.725\n"
     ]
    }
   ],
   "source": [
    "print(df2.groupby('Online Security')['Monthly Charges'].agg(['mean', 'median']))\n",
    "print(df2.groupby('Tech Support')['Monthly Charges'].agg(['mean', 'median']))"
   ]
  },
  {
   "cell_type": "markdown",
   "metadata": {},
   "source": [
    "7. After factoring out customers who leave after 1 month, Total Long Distance Charges as a factor isn't particularly helpful in explaining churn rate with the exception that customers with Two year contracts who churn, pay about 300 more in Total Long Distance Charges that those who don't."
   ]
  },
  {
   "cell_type": "code",
   "execution_count": 44,
   "metadata": {},
   "outputs": [
    {
     "data": {
      "image/png": "[encoded data removed]",
      "text/plain": [
       "<Figure size 640x480 with 1 Axes>"
      ]
     },
     "metadata": {},
     "output_type": "display_data"
    }
   ],
   "source": [
    "sns.histplot(x=df2.query('Tenure > 1')['Total Long Distance Charges'], hue=df2.query('Tenure >4')['Churn'], binwidth=100);"
   ]
  },
  {
   "cell_type": "code",
   "execution_count": 45,
   "metadata": {},
   "outputs": [
    {
     "data": {
      "text/html": [
       "<div>\n",
       "<style scoped>\n",
       "    .dataframe tbody tr th:only-of-type {\n",
       "        vertical-align: middle;\n",
       "    }\n",
       "\n",
       "    .dataframe tbody tr th {\n",
       "        vertical-align: top;\n",
       "    }\n",
       "\n",
       "    .dataframe thead th {\n",
       "        text-align: right;\n",
       "    }\n",
       "</style>\n",
       "<table border=\"1\" class=\"dataframe\">\n",
       "  <thead>\n",
       "    <tr style=\"text-align: right;\">\n",
       "      <th></th>\n",
       "      <th></th>\n",
       "      <th>mean</th>\n",
       "      <th>median</th>\n",
       "      <th>count</th>\n",
       "    </tr>\n",
       "    <tr>\n",
       "      <th>Contract</th>\n",
       "      <th>Churn</th>\n",
       "      <th></th>\n",
       "      <th></th>\n",
       "      <th></th>\n",
       "    </tr>\n",
       "  </thead>\n",
       "  <tbody>\n",
       "    <tr>\n",
       "      <th rowspan=\"2\" valign=\"top\">Month-to-month</th>\n",
       "      <th>No</th>\n",
       "      <td>531.094028</td>\n",
       "      <td>293.275</td>\n",
       "      <td>1996</td>\n",
       "    </tr>\n",
       "    <tr>\n",
       "      <th>Yes</th>\n",
       "      <td>428.270761</td>\n",
       "      <td>196.230</td>\n",
       "      <td>1275</td>\n",
       "    </tr>\n",
       "    <tr>\n",
       "      <th rowspan=\"2\" valign=\"top\">One year</th>\n",
       "      <th>No</th>\n",
       "      <td>1000.764280</td>\n",
       "      <td>813.240</td>\n",
       "      <td>1299</td>\n",
       "    </tr>\n",
       "    <tr>\n",
       "      <th>Yes</th>\n",
       "      <td>1093.888434</td>\n",
       "      <td>968.440</td>\n",
       "      <td>166</td>\n",
       "    </tr>\n",
       "    <tr>\n",
       "      <th rowspan=\"2\" valign=\"top\">Two year</th>\n",
       "      <th>No</th>\n",
       "      <td>1282.832691</td>\n",
       "      <td>1139.840</td>\n",
       "      <td>1635</td>\n",
       "    </tr>\n",
       "    <tr>\n",
       "      <th>Yes</th>\n",
       "      <td>1557.052708</td>\n",
       "      <td>1561.415</td>\n",
       "      <td>48</td>\n",
       "    </tr>\n",
       "  </tbody>\n",
       "</table>\n",
       "</div>"
      ],
      "text/plain": [
       "                             mean    median  count\n",
       "Contract       Churn                              \n",
       "Month-to-month No      531.094028   293.275   1996\n",
       "               Yes     428.270761   196.230   1275\n",
       "One year       No     1000.764280   813.240   1299\n",
       "               Yes    1093.888434   968.440    166\n",
       "Two year       No     1282.832691  1139.840   1635\n",
       "               Yes    1557.052708  1561.415     48"
      ]
     },
     "execution_count": 45,
     "metadata": {},
     "output_type": "execute_result"
    }
   ],
   "source": [
    "# T-test p-value: 0.06\n",
    "# ttest_ind(df2.query('Tenure > 1 and Contract == \"Two year\" and Churn == \"Yes\"')['Total Long Distance Charges'], df2.query('Tenure > 1 and Contract == \"Two year\" and Churn == \"No\"')['Total Long Distance Charges'])\n",
    "df2.query('Tenure > 1').groupby(['Contract', 'Churn'])['Total Long Distance Charges'].agg(['mean', 'median', 'count'])"
   ]
  },
  {
   "cell_type": "markdown",
   "metadata": {},
   "source": [
    "# Segmenting customers based on their risk of churn"
   ]
  },
  {
   "cell_type": "markdown",
   "metadata": {},
   "source": [
    "Using the prediction probabilities from the CatBoost model earlier, I define low-risk as instances with probabilities < 34%, high-risk as > 66%, and mid-risk as the range in-between. Priority within each group can be derived by their Customer Value."
   ]
  },
  {
   "cell_type": "code",
   "execution_count": 46,
   "metadata": {},
   "outputs": [
    {
     "data": {
      "text/html": [
       "<div>\n",
       "<style scoped>\n",
       "    .dataframe tbody tr th:only-of-type {\n",
       "        vertical-align: middle;\n",
       "    }\n",
       "\n",
       "    .dataframe tbody tr th {\n",
       "        vertical-align: top;\n",
       "    }\n",
       "\n",
       "    .dataframe thead th {\n",
       "        text-align: right;\n",
       "    }\n",
       "</style>\n",
       "<table border=\"1\" class=\"dataframe\">\n",
       "  <thead>\n",
       "    <tr style=\"text-align: right;\">\n",
       "      <th></th>\n",
       "      <th>Tenure</th>\n",
       "      <th>Total Long Distance Charges</th>\n",
       "      <th>Monthly Charges</th>\n",
       "      <th>Senior Citizen</th>\n",
       "      <th>Married</th>\n",
       "      <th>Dependents</th>\n",
       "      <th>Internet Service</th>\n",
       "      <th>Online Security</th>\n",
       "      <th>Online Backup</th>\n",
       "      <th>Device Protection</th>\n",
       "      <th>Tech Support</th>\n",
       "      <th>Streaming TV</th>\n",
       "      <th>Streaming Movies</th>\n",
       "      <th>Unlimited Data</th>\n",
       "      <th>Contract</th>\n",
       "      <th>Paperless Billing</th>\n",
       "      <th>Payment Method</th>\n",
       "      <th>Number of Referrals</th>\n",
       "      <th>Offer</th>\n",
       "      <th>Customer Value</th>\n",
       "    </tr>\n",
       "  </thead>\n",
       "  <tbody>\n",
       "    <tr>\n",
       "      <th>3564</th>\n",
       "      <td>15</td>\n",
       "      <td>352.95</td>\n",
       "      <td>74.20</td>\n",
       "      <td>Yes</td>\n",
       "      <td>No</td>\n",
       "      <td>No</td>\n",
       "      <td>Fiber optic</td>\n",
       "      <td>No</td>\n",
       "      <td>No</td>\n",
       "      <td>No</td>\n",
       "      <td>No</td>\n",
       "      <td>No</td>\n",
       "      <td>No</td>\n",
       "      <td>Yes</td>\n",
       "      <td>Month-to-month</td>\n",
       "      <td>Yes</td>\n",
       "      <td>Credit card (automatic)</td>\n",
       "      <td>0</td>\n",
       "      <td>None</td>\n",
       "      <td>1465.95</td>\n",
       "    </tr>\n",
       "    <tr>\n",
       "      <th>405</th>\n",
       "      <td>2</td>\n",
       "      <td>35.46</td>\n",
       "      <td>79.20</td>\n",
       "      <td>Yes</td>\n",
       "      <td>Yes</td>\n",
       "      <td>No</td>\n",
       "      <td>Fiber optic</td>\n",
       "      <td>No</td>\n",
       "      <td>No</td>\n",
       "      <td>Yes</td>\n",
       "      <td>No</td>\n",
       "      <td>No</td>\n",
       "      <td>No</td>\n",
       "      <td>Yes</td>\n",
       "      <td>Month-to-month</td>\n",
       "      <td>No</td>\n",
       "      <td>Electronic check</td>\n",
       "      <td>1</td>\n",
       "      <td>Offer E</td>\n",
       "      <td>193.86</td>\n",
       "    </tr>\n",
       "    <tr>\n",
       "      <th>1319</th>\n",
       "      <td>4</td>\n",
       "      <td>51.44</td>\n",
       "      <td>88.85</td>\n",
       "      <td>Yes</td>\n",
       "      <td>No</td>\n",
       "      <td>No</td>\n",
       "      <td>Fiber optic</td>\n",
       "      <td>No</td>\n",
       "      <td>No</td>\n",
       "      <td>Yes</td>\n",
       "      <td>No</td>\n",
       "      <td>No</td>\n",
       "      <td>Yes</td>\n",
       "      <td>Yes</td>\n",
       "      <td>Month-to-month</td>\n",
       "      <td>Yes</td>\n",
       "      <td>Electronic check</td>\n",
       "      <td>0</td>\n",
       "      <td>None</td>\n",
       "      <td>406.84</td>\n",
       "    </tr>\n",
       "    <tr>\n",
       "      <th>282</th>\n",
       "      <td>18</td>\n",
       "      <td>203.94</td>\n",
       "      <td>95.45</td>\n",
       "      <td>Yes</td>\n",
       "      <td>No</td>\n",
       "      <td>No</td>\n",
       "      <td>Fiber optic</td>\n",
       "      <td>No</td>\n",
       "      <td>No</td>\n",
       "      <td>No</td>\n",
       "      <td>No</td>\n",
       "      <td>Yes</td>\n",
       "      <td>Yes</td>\n",
       "      <td>Yes</td>\n",
       "      <td>Month-to-month</td>\n",
       "      <td>Yes</td>\n",
       "      <td>Electronic check</td>\n",
       "      <td>0</td>\n",
       "      <td>Offer D</td>\n",
       "      <td>1922.04</td>\n",
       "    </tr>\n",
       "    <tr>\n",
       "      <th>6097</th>\n",
       "      <td>11</td>\n",
       "      <td>336.27</td>\n",
       "      <td>84.80</td>\n",
       "      <td>No</td>\n",
       "      <td>No</td>\n",
       "      <td>No</td>\n",
       "      <td>Fiber optic</td>\n",
       "      <td>No</td>\n",
       "      <td>No</td>\n",
       "      <td>Yes</td>\n",
       "      <td>No</td>\n",
       "      <td>No</td>\n",
       "      <td>Yes</td>\n",
       "      <td>Yes</td>\n",
       "      <td>Month-to-month</td>\n",
       "      <td>No</td>\n",
       "      <td>Electronic check</td>\n",
       "      <td>0</td>\n",
       "      <td>None</td>\n",
       "      <td>1269.07</td>\n",
       "    </tr>\n",
       "  </tbody>\n",
       "</table>\n",
       "</div>"
      ],
      "text/plain": [
       "      Tenure  Total Long Distance Charges  Monthly Charges Senior Citizen  \\\n",
       "3564      15                       352.95            74.20            Yes   \n",
       "405        2                        35.46            79.20            Yes   \n",
       "1319       4                        51.44            88.85            Yes   \n",
       "282       18                       203.94            95.45            Yes   \n",
       "6097      11                       336.27            84.80             No   \n",
       "\n",
       "     Married Dependents Internet Service Online Security Online Backup  \\\n",
       "3564      No         No      Fiber optic              No            No   \n",
       "405      Yes         No      Fiber optic              No            No   \n",
       "1319      No         No      Fiber optic              No            No   \n",
       "282       No         No      Fiber optic              No            No   \n",
       "6097      No         No      Fiber optic              No            No   \n",
       "\n",
       "     Device Protection Tech Support Streaming TV Streaming Movies  \\\n",
       "3564                No           No           No               No   \n",
       "405                Yes           No           No               No   \n",
       "1319               Yes           No           No              Yes   \n",
       "282                 No           No          Yes              Yes   \n",
       "6097               Yes           No           No              Yes   \n",
       "\n",
       "     Unlimited Data        Contract Paperless Billing  \\\n",
       "3564            Yes  Month-to-month               Yes   \n",
       "405             Yes  Month-to-month                No   \n",
       "1319            Yes  Month-to-month               Yes   \n",
       "282             Yes  Month-to-month               Yes   \n",
       "6097            Yes  Month-to-month                No   \n",
       "\n",
       "               Payment Method Number of Referrals    Offer  Customer Value  \n",
       "3564  Credit card (automatic)                   0     None         1465.95  \n",
       "405          Electronic check                   1  Offer E          193.86  \n",
       "1319         Electronic check                   0     None          406.84  \n",
       "282          Electronic check                   0  Offer D         1922.04  \n",
       "6097         Electronic check                   0     None         1269.07  "
      ]
     },
     "execution_count": 46,
     "metadata": {},
     "output_type": "execute_result"
    }
   ],
   "source": [
    "churn_probas = np.round(final_model.predict_proba(X_test)[:, 1], 2)\n",
    "X_test['ChurnProba'] = churn_probas\n",
    "X_test['Customer Value'] = df2['Tenure'] * df2['Monthly Charges'] + df2['Total Long Distance Charges']\n",
    "low_risk = X_test.query('ChurnProba < .34').drop('ChurnProba', axis=1)\n",
    "mid_risk = X_test.query('ChurnProba.between(.34, .66)').drop('ChurnProba', axis=1)\n",
    "high_risk = X_test.query('ChurnProba > .66').drop('ChurnProba', axis=1)\n",
    "\n",
    "# High-risk of churning customers\n",
    "high_risk.head()"
   ]
  }
 ],
 "metadata": {
  "kernelspec": {
   "display_name": "py39",
   "language": "python",
   "name": "python3"
  },
  "language_info": {
   "codemirror_mode": {
    "name": "ipython",
    "version": 3
   },
   "file_extension": ".py",
   "mimetype": "text/x-python",
   "name": "python",
   "nbconvert_exporter": "python",
   "pygments_lexer": "ipython3",
   "version": "3.9.16"
  },
  "orig_nbformat": 4
 },
 "nbformat": 4,
 "nbformat_minor": 2
}
