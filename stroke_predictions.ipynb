{
 "cells": [
  {
   "cell_type": "code",
   "execution_count": 1,
   "metadata": {},
   "outputs": [],
   "source": [
    "import pandas as pd\n",
    "import numpy as np\n",
    "import matplotlib.pyplot as plt\n",
    "import seaborn as sns"
   ]
  },
  {
   "cell_type": "code",
   "execution_count": 2,
   "metadata": {},
   "outputs": [],
   "source": [
    "# Dataset from: https://www.kaggle.com/datasets/fedesoriano/stroke-prediction-dataset\n",
    "# 1) id: unique identifier\n",
    "# 2) gender: \"Male\", \"Female\" or \"Other\"\n",
    "# 3) age: age of the patient\n",
    "# 4) hypertension: 0 if the patient doesn't have hypertension, 1 if the patient has hypertension\n",
    "# 5) heart_disease: 0 if the patient doesn't have any heart diseases, 1 if the patient has a heart disease\n",
    "# 6) ever_married: \"No\" or \"Yes\"\n",
    "# 7) work_type: \"children\", \"Govt_jov\", \"Never_worked\", \"Private\" or \"Self-employed\"\n",
    "# 8) Residence_type: \"Rural\" or \"Urban\"\n",
    "# 9) avg_glucose_level: average glucose level in blood\n",
    "# 10) bmi: body mass index\n",
    "# 11) smoking_status: \"formerly smoked\", \"never smoked\", \"smokes\" or \"Unknown\"*\n",
    "# 12) stroke: 1 if the patient had a stroke or 0 if not\n",
    "# *Note: \"Unknown\" in smoking_status means that the information is unavailable for this patient"
   ]
  },
  {
   "cell_type": "code",
   "execution_count": 3,
   "metadata": {},
   "outputs": [
    {
     "data": {
      "text/html": [
       "<div>\n",
       "<style scoped>\n",
       "    .dataframe tbody tr th:only-of-type {\n",
       "        vertical-align: middle;\n",
       "    }\n",
       "\n",
       "    .dataframe tbody tr th {\n",
       "        vertical-align: top;\n",
       "    }\n",
       "\n",
       "    .dataframe thead th {\n",
       "        text-align: right;\n",
       "    }\n",
       "</style>\n",
       "<table border=\"1\" class=\"dataframe\">\n",
       "  <thead>\n",
       "    <tr style=\"text-align: right;\">\n",
       "      <th></th>\n",
       "      <th>id</th>\n",
       "      <th>gender</th>\n",
       "      <th>age</th>\n",
       "      <th>hypertension</th>\n",
       "      <th>heart_disease</th>\n",
       "      <th>ever_married</th>\n",
       "      <th>work_type</th>\n",
       "      <th>Residence_type</th>\n",
       "      <th>avg_glucose_level</th>\n",
       "      <th>bmi</th>\n",
       "      <th>smoking_status</th>\n",
       "      <th>stroke</th>\n",
       "    </tr>\n",
       "  </thead>\n",
       "  <tbody>\n",
       "    <tr>\n",
       "      <th>0</th>\n",
       "      <td>9046</td>\n",
       "      <td>Male</td>\n",
       "      <td>67.0</td>\n",
       "      <td>0</td>\n",
       "      <td>1</td>\n",
       "      <td>Yes</td>\n",
       "      <td>Private</td>\n",
       "      <td>Urban</td>\n",
       "      <td>228.69</td>\n",
       "      <td>36.6</td>\n",
       "      <td>formerly smoked</td>\n",
       "      <td>1</td>\n",
       "    </tr>\n",
       "    <tr>\n",
       "      <th>1</th>\n",
       "      <td>51676</td>\n",
       "      <td>Female</td>\n",
       "      <td>61.0</td>\n",
       "      <td>0</td>\n",
       "      <td>0</td>\n",
       "      <td>Yes</td>\n",
       "      <td>Self-employed</td>\n",
       "      <td>Rural</td>\n",
       "      <td>202.21</td>\n",
       "      <td>NaN</td>\n",
       "      <td>never smoked</td>\n",
       "      <td>1</td>\n",
       "    </tr>\n",
       "    <tr>\n",
       "      <th>2</th>\n",
       "      <td>31112</td>\n",
       "      <td>Male</td>\n",
       "      <td>80.0</td>\n",
       "      <td>0</td>\n",
       "      <td>1</td>\n",
       "      <td>Yes</td>\n",
       "      <td>Private</td>\n",
       "      <td>Rural</td>\n",
       "      <td>105.92</td>\n",
       "      <td>32.5</td>\n",
       "      <td>never smoked</td>\n",
       "      <td>1</td>\n",
       "    </tr>\n",
       "    <tr>\n",
       "      <th>3</th>\n",
       "      <td>60182</td>\n",
       "      <td>Female</td>\n",
       "      <td>49.0</td>\n",
       "      <td>0</td>\n",
       "      <td>0</td>\n",
       "      <td>Yes</td>\n",
       "      <td>Private</td>\n",
       "      <td>Urban</td>\n",
       "      <td>171.23</td>\n",
       "      <td>34.4</td>\n",
       "      <td>smokes</td>\n",
       "      <td>1</td>\n",
       "    </tr>\n",
       "    <tr>\n",
       "      <th>4</th>\n",
       "      <td>1665</td>\n",
       "      <td>Female</td>\n",
       "      <td>79.0</td>\n",
       "      <td>1</td>\n",
       "      <td>0</td>\n",
       "      <td>Yes</td>\n",
       "      <td>Self-employed</td>\n",
       "      <td>Rural</td>\n",
       "      <td>174.12</td>\n",
       "      <td>24.0</td>\n",
       "      <td>never smoked</td>\n",
       "      <td>1</td>\n",
       "    </tr>\n",
       "  </tbody>\n",
       "</table>\n",
       "</div>"
      ],
      "text/plain": [
       "      id  gender   age  hypertension  heart_disease ever_married  \\\n",
       "0   9046    Male  67.0             0              1          Yes   \n",
       "1  51676  Female  61.0             0              0          Yes   \n",
       "2  31112    Male  80.0             0              1          Yes   \n",
       "3  60182  Female  49.0             0              0          Yes   \n",
       "4   1665  Female  79.0             1              0          Yes   \n",
       "\n",
       "       work_type Residence_type  avg_glucose_level   bmi   smoking_status  \\\n",
       "0        Private          Urban             228.69  36.6  formerly smoked   \n",
       "1  Self-employed          Rural             202.21   NaN     never smoked   \n",
       "2        Private          Rural             105.92  32.5     never smoked   \n",
       "3        Private          Urban             171.23  34.4           smokes   \n",
       "4  Self-employed          Rural             174.12  24.0     never smoked   \n",
       "\n",
       "   stroke  \n",
       "0       1  \n",
       "1       1  \n",
       "2       1  \n",
       "3       1  \n",
       "4       1  "
      ]
     },
     "execution_count": 3,
     "metadata": {},
     "output_type": "execute_result"
    }
   ],
   "source": [
    "df = pd.read_csv('healthcare-dataset-stroke-data.csv')\n",
    "df.head()"
   ]
  },
  {
   "cell_type": "code",
   "execution_count": 4,
   "metadata": {},
   "outputs": [],
   "source": [
    "# Drop the 1 sample with gender as \"Other\"\n",
    "df = df[df['gender'] != \"Other\"]\n",
    "\n",
    "# Drop id column\n",
    "df = df.drop('id', axis=1)"
   ]
  },
  {
   "cell_type": "code",
   "execution_count": 5,
   "metadata": {},
   "outputs": [
    {
     "data": {
      "text/plain": [
       "0    4860\n",
       "1     249\n",
       "Name: stroke, dtype: int64"
      ]
     },
     "execution_count": 5,
     "metadata": {},
     "output_type": "execute_result"
    }
   ],
   "source": [
    "# Label overview\n",
    "df.stroke.value_counts()"
   ]
  },
  {
   "cell_type": "code",
   "execution_count": 6,
   "metadata": {},
   "outputs": [
    {
     "name": "stdout",
     "output_type": "stream",
     "text": [
      "<class 'pandas.core.frame.DataFrame'>\n",
      "Int64Index: 5109 entries, 0 to 5109\n",
      "Data columns (total 11 columns):\n",
      " #   Column             Non-Null Count  Dtype  \n",
      "---  ------             --------------  -----  \n",
      " 0   gender             5109 non-null   object \n",
      " 1   age                5109 non-null   float64\n",
      " 2   hypertension       5109 non-null   int64  \n",
      " 3   heart_disease      5109 non-null   int64  \n",
      " 4   ever_married       5109 non-null   object \n",
      " 5   work_type          5109 non-null   object \n",
      " 6   Residence_type     5109 non-null   object \n",
      " 7   avg_glucose_level  5109 non-null   float64\n",
      " 8   bmi                4908 non-null   float64\n",
      " 9   smoking_status     5109 non-null   object \n",
      " 10  stroke             5109 non-null   int64  \n",
      "dtypes: float64(3), int64(3), object(5)\n",
      "memory usage: 479.0+ KB\n"
     ]
    }
   ],
   "source": [
    "df.info()"
   ]
  },
  {
   "cell_type": "markdown",
   "metadata": {},
   "source": [
    "Missing bmi values."
   ]
  },
  {
   "attachments": {},
   "cell_type": "markdown",
   "metadata": {},
   "source": [
    "## EDA"
   ]
  },
  {
   "cell_type": "code",
   "execution_count": 7,
   "metadata": {},
   "outputs": [
    {
     "data": {
      "image/png": "[encoded data removed]",
      "text/plain": [
       "<Figure size 640x480 with 1 Axes>"
      ]
     },
     "metadata": {},
     "output_type": "display_data"
    }
   ],
   "source": [
    "# Visualise the relationship between stroke and age\n",
    "sns.scatterplot(x=df.age, y=df.stroke, alpha=.5)\n",
    "plt.axvline(x=37, color='red');"
   ]
  },
  {
   "attachments": {},
   "cell_type": "markdown",
   "metadata": {},
   "source": [
    "The vast majority of stroke cases happen after the age of 37."
   ]
  },
  {
   "cell_type": "code",
   "execution_count": 8,
   "metadata": {},
   "outputs": [
    {
     "data": {
      "image/png": "[encoded data removed]",
      "text/plain": [
       "<Figure size 640x480 with 3 Axes>"
      ]
     },
     "metadata": {},
     "output_type": "display_data"
    }
   ],
   "source": [
    "# Check for extreme outliers in ['age', 'avg_glucose_level', 'bmi']\n",
    "fig, ax = plt.subplots(3, 1)\n",
    "for i, cat in enumerate(['age', 'avg_glucose_level', 'bmi']):\n",
    "    sns.histplot(df[cat], ax=ax[i])\n",
    "    ax[i].set_xlabel(cat)\n",
    "plt.subplots_adjust(hspace=0.5)"
   ]
  },
  {
   "attachments": {},
   "cell_type": "markdown",
   "metadata": {},
   "source": [
    "There are some people with really high, but possible, BMIs."
   ]
  },
  {
   "cell_type": "code",
   "execution_count": 9,
   "metadata": {},
   "outputs": [
    {
     "name": "stderr",
     "output_type": "stream",
     "text": [
      "C:\\Users\\Darrel\\AppData\\Local\\Temp\\ipykernel_24204\\975814664.py:2: FutureWarning: The default value of numeric_only in DataFrame.corr is deprecated. In a future version, it will default to False. Select only valid columns or specify the value of numeric_only to silence this warning.\n",
      "  df.corr()\n"
     ]
    },
    {
     "data": {
      "text/html": [
       "<div>\n",
       "<style scoped>\n",
       "    .dataframe tbody tr th:only-of-type {\n",
       "        vertical-align: middle;\n",
       "    }\n",
       "\n",
       "    .dataframe tbody tr th {\n",
       "        vertical-align: top;\n",
       "    }\n",
       "\n",
       "    .dataframe thead th {\n",
       "        text-align: right;\n",
       "    }\n",
       "</style>\n",
       "<table border=\"1\" class=\"dataframe\">\n",
       "  <thead>\n",
       "    <tr style=\"text-align: right;\">\n",
       "      <th></th>\n",
       "      <th>age</th>\n",
       "      <th>hypertension</th>\n",
       "      <th>heart_disease</th>\n",
       "      <th>avg_glucose_level</th>\n",
       "      <th>bmi</th>\n",
       "      <th>stroke</th>\n",
       "    </tr>\n",
       "  </thead>\n",
       "  <tbody>\n",
       "    <tr>\n",
       "      <th>age</th>\n",
       "      <td>1.000000</td>\n",
       "      <td>0.276367</td>\n",
       "      <td>0.263777</td>\n",
       "      <td>0.238323</td>\n",
       "      <td>0.333314</td>\n",
       "      <td>0.245239</td>\n",
       "    </tr>\n",
       "    <tr>\n",
       "      <th>hypertension</th>\n",
       "      <td>0.276367</td>\n",
       "      <td>1.000000</td>\n",
       "      <td>0.108292</td>\n",
       "      <td>0.174540</td>\n",
       "      <td>0.167770</td>\n",
       "      <td>0.127891</td>\n",
       "    </tr>\n",
       "    <tr>\n",
       "      <th>heart_disease</th>\n",
       "      <td>0.263777</td>\n",
       "      <td>0.108292</td>\n",
       "      <td>1.000000</td>\n",
       "      <td>0.161907</td>\n",
       "      <td>0.041322</td>\n",
       "      <td>0.134905</td>\n",
       "    </tr>\n",
       "    <tr>\n",
       "      <th>avg_glucose_level</th>\n",
       "      <td>0.238323</td>\n",
       "      <td>0.174540</td>\n",
       "      <td>0.161907</td>\n",
       "      <td>1.000000</td>\n",
       "      <td>0.175672</td>\n",
       "      <td>0.131991</td>\n",
       "    </tr>\n",
       "    <tr>\n",
       "      <th>bmi</th>\n",
       "      <td>0.333314</td>\n",
       "      <td>0.167770</td>\n",
       "      <td>0.041322</td>\n",
       "      <td>0.175672</td>\n",
       "      <td>1.000000</td>\n",
       "      <td>0.042341</td>\n",
       "    </tr>\n",
       "    <tr>\n",
       "      <th>stroke</th>\n",
       "      <td>0.245239</td>\n",
       "      <td>0.127891</td>\n",
       "      <td>0.134905</td>\n",
       "      <td>0.131991</td>\n",
       "      <td>0.042341</td>\n",
       "      <td>1.000000</td>\n",
       "    </tr>\n",
       "  </tbody>\n",
       "</table>\n",
       "</div>"
      ],
      "text/plain": [
       "                        age  hypertension  heart_disease  avg_glucose_level  \\\n",
       "age                1.000000      0.276367       0.263777           0.238323   \n",
       "hypertension       0.276367      1.000000       0.108292           0.174540   \n",
       "heart_disease      0.263777      0.108292       1.000000           0.161907   \n",
       "avg_glucose_level  0.238323      0.174540       0.161907           1.000000   \n",
       "bmi                0.333314      0.167770       0.041322           0.175672   \n",
       "stroke             0.245239      0.127891       0.134905           0.131991   \n",
       "\n",
       "                        bmi    stroke  \n",
       "age                0.333314  0.245239  \n",
       "hypertension       0.167770  0.127891  \n",
       "heart_disease      0.041322  0.134905  \n",
       "avg_glucose_level  0.175672  0.131991  \n",
       "bmi                1.000000  0.042341  \n",
       "stroke             0.042341  1.000000  "
      ]
     },
     "execution_count": 9,
     "metadata": {},
     "output_type": "execute_result"
    }
   ],
   "source": [
    "# Use correlation matrix to help with filling NaN bmi values\n",
    "df.corr()"
   ]
  },
  {
   "cell_type": "code",
   "execution_count": 10,
   "metadata": {},
   "outputs": [
    {
     "data": {
      "image/png": "[encoded data removed]",
      "text/plain": [
       "<Figure size 640x480 with 1 Axes>"
      ]
     },
     "metadata": {},
     "output_type": "display_data"
    }
   ],
   "source": [
    "sns.boxplot(df, x='ever_married', y='bmi');"
   ]
  },
  {
   "attachments": {},
   "cell_type": "markdown",
   "metadata": {},
   "source": [
    "People who ever got married tend to have a higher BMI! Since the features ['age', 'hypertension', 'ever_married', 'avg_glucose_level'] have the highest correlation to BMI, I'll use them in filling the missing values."
   ]
  },
  {
   "cell_type": "code",
   "execution_count": 11,
   "metadata": {},
   "outputs": [
    {
     "data": {
      "image/png": "[encoded data removed]",
      "text/plain": [
       "<Figure size 640x480 with 1 Axes>"
      ]
     },
     "metadata": {},
     "output_type": "display_data"
    }
   ],
   "source": [
    "df.groupby(['smoking_status']).stroke.value_counts().plot(kind='barh');"
   ]
  },
  {
   "cell_type": "code",
   "execution_count": 12,
   "metadata": {},
   "outputs": [
    {
     "data": {
      "text/plain": [
       "smoking_status   stroke\n",
       "Unknown          0         0.969560\n",
       "                 1         0.030440\n",
       "formerly smoked  0         0.920814\n",
       "                 1         0.079186\n",
       "never smoked     0         0.952431\n",
       "                 1         0.047569\n",
       "smokes           0         0.946768\n",
       "                 1         0.053232\n",
       "Name: stroke, dtype: float64"
      ]
     },
     "execution_count": 12,
     "metadata": {},
     "output_type": "execute_result"
    }
   ],
   "source": [
    "df.groupby(['smoking_status']).stroke.value_counts(normalize=True)"
   ]
  },
  {
   "cell_type": "markdown",
   "metadata": {},
   "source": [
    "The incidence of stroke among the unknown group < never smoked group < smokes group < formerly smoked group, which suggests that the unknown group consists mostly of persons who never smoked."
   ]
  },
  {
   "attachments": {},
   "cell_type": "markdown",
   "metadata": {},
   "source": [
    "## Data Preparation"
   ]
  },
  {
   "cell_type": "code",
   "execution_count": 13,
   "metadata": {},
   "outputs": [],
   "source": [
    "from sklearn.model_selection import train_test_split\n",
    "X = df.copy()\n",
    "y = X.pop('stroke')\n",
    "\n",
    "X_train, X_test, y_train, y_test = train_test_split(X, y, train_size=0.8, stratify=y, random_state=42)"
   ]
  },
  {
   "cell_type": "code",
   "execution_count": 14,
   "metadata": {},
   "outputs": [],
   "source": [
    "def fill_missing(data, impute_strategy: str):\n",
    "    \"\"\"Fills in missing bmi values by using the mean or median bmi value of other samples that fall in\n",
    "      the same age and avg_glucose_level ranges and have the same hypertension and ever_married values\"\"\"\n",
    "    if impute_strategy not in ['mean', 'median']:\n",
    "        raise Exception('Argument for impute_strategy is either \"mean\" or \"median\"')\n",
    "    \n",
    "    na_df = data.query('bmi.isna()')\n",
    "    age_bins = np.arange(0, 101, 20)\n",
    "    glucose_bins = np.arange(50, 301, 50)\n",
    "\n",
    "    for i in range(0, len(na_df)):\n",
    "        for age in age_bins: # Find out in which age range the current sample lies \n",
    "            if age <= na_df.iloc[i].age < age + 20:\n",
    "                left_age = age\n",
    "                right_age = age + 20\n",
    "                break\n",
    "\n",
    "        for glucose in glucose_bins: # Find out in which avg_glucose_level range the current sample lies in\n",
    "            if glucose <= na_df.iloc[i].avg_glucose_level < glucose + 50:\n",
    "                left_glucose = glucose\n",
    "                right_glucose = glucose + 50\n",
    "                break\n",
    "        \n",
    "        na_hypertension = na_df.iloc[i].hypertension # Find out the current sample's hypertension value\n",
    "        na_ever_married = na_df.iloc[i].ever_married # Find out the current sample's ever_married value\n",
    "        na_loc = na_df.iloc[i].name # Find out the index of the current sample\n",
    "\n",
    "        bmi_query = data.query('age.between(@left_age, @right_age, inclusive=\"left\") \\\n",
    "                               and avg_glucose_level.between(@left_glucose, @right_glucose, inclusive=\"left\") \\\n",
    "                               and hypertension == @na_hypertension \\\n",
    "                               and ever_married == @na_ever_married').bmi\n",
    "        \n",
    "        if bmi_query.sum() == 0: # Loosen the grouping conditions by dropping the avg_glucose_level criterion\n",
    "            bmi_query = data.query('age.between(@left_age, @right_age, inclusive=\"left\") \\\n",
    "                                    and hypertension == @na_hypertension \\\n",
    "                                    and ever_married == @na_ever_married').bmi\n",
    "        \n",
    "        if impute_strategy == 'mean':\n",
    "            new_value = bmi_query.apply('mean')\n",
    "        elif impute_strategy == 'median':\n",
    "            new_value = bmi_query.apply('median')\n",
    "        \n",
    "        data.loc[na_loc, 'bmi'] = new_value\n",
    "            \n",
    "    return data"
   ]
  },
  {
   "cell_type": "code",
   "execution_count": 15,
   "metadata": {},
   "outputs": [],
   "source": [
    "def add_age_bin(data):\n",
    "    \"\"\"Ages <38 will be classified as 0 while ages >= 38 will be classified as 1\"\"\"\n",
    "    age_bins = pd.cut(data.age, [0, 38, 100], right=False, labels=[0, 1])\n",
    "    data['age_bin'] = age_bins\n",
    "    return data"
   ]
  },
  {
   "cell_type": "code",
   "execution_count": 16,
   "metadata": {},
   "outputs": [],
   "source": [
    "from sklearn.preprocessing import OneHotEncoder, FunctionTransformer, RobustScaler\n",
    "from sklearn.pipeline import make_pipeline\n",
    "from sklearn.compose import make_column_transformer, make_column_selector\n",
    "from catboost import CatBoostClassifier"
   ]
  },
  {
   "cell_type": "code",
   "execution_count": 17,
   "metadata": {},
   "outputs": [],
   "source": [
    "fill_missing_transformer = FunctionTransformer(fill_missing, kw_args={'impute_strategy': 'mean'})\n",
    "add_age_bin_transformer = FunctionTransformer(add_age_bin)\n",
    "\n",
    "ct = make_column_transformer((RobustScaler(), make_column_selector(dtype_exclude=object)),\n",
    "                             (OneHotEncoder(), make_column_selector(dtype_include=object)))\n",
    "\n",
    "preprocessing_pipeline = make_pipeline(fill_missing_transformer, add_age_bin_transformer, ct)"
   ]
  },
  {
   "cell_type": "code",
   "execution_count": 18,
   "metadata": {},
   "outputs": [],
   "source": [
    "X_train = preprocessing_pipeline.fit_transform(X_train)\n",
    "X_test = preprocessing_pipeline.transform(X_test)"
   ]
  },
  {
   "attachments": {},
   "cell_type": "markdown",
   "metadata": {},
   "source": [
    "## Model Training"
   ]
  },
  {
   "cell_type": "code",
   "execution_count": null,
   "metadata": {},
   "outputs": [],
   "source": [
    "params = {'depth': [3, 4, 5, 6],\n",
    "          'learning_rate': [0.05, 0.1, 0.3],\n",
    "          'l2_leaf_reg': [1, 2, 3, 4]}\n",
    "\n",
    "cbc = CatBoostClassifier(iterations=2000, random_seed=42, loss_function='Logloss', verbose=False, early_stopping_rounds=100, auto_class_weights='Balanced')\n",
    "gridsearch_results = cbc.grid_search(param_grid=params, cv=3, X=X_train, y=y_train, stratified=True, \n",
    "                                     partition_random_seed=42, plot=True, search_by_train_test_split=False, refit=False)"
   ]
  },
  {
   "cell_type": "code",
   "execution_count": 20,
   "metadata": {},
   "outputs": [
    {
     "data": {
      "text/plain": [
       "{'depth': 3, 'l2_leaf_reg': 3, 'learning_rate': 0.05}"
      ]
     },
     "execution_count": 20,
     "metadata": {},
     "output_type": "execute_result"
    }
   ],
   "source": [
    "# Get best hyperparameters\n",
    "gridsearch_results['params']"
   ]
  },
  {
   "cell_type": "code",
   "execution_count": 21,
   "metadata": {},
   "outputs": [
    {
     "data": {
      "text/html": [
       "<div>\n",
       "<style scoped>\n",
       "    .dataframe tbody tr th:only-of-type {\n",
       "        vertical-align: middle;\n",
       "    }\n",
       "\n",
       "    .dataframe tbody tr th {\n",
       "        vertical-align: top;\n",
       "    }\n",
       "\n",
       "    .dataframe thead th {\n",
       "        text-align: right;\n",
       "    }\n",
       "</style>\n",
       "<table border=\"1\" class=\"dataframe\">\n",
       "  <thead>\n",
       "    <tr style=\"text-align: right;\">\n",
       "      <th></th>\n",
       "      <th>iterations</th>\n",
       "      <th>test-Logloss-mean</th>\n",
       "      <th>test-Logloss-std</th>\n",
       "      <th>train-Logloss-mean</th>\n",
       "      <th>train-Logloss-std</th>\n",
       "    </tr>\n",
       "  </thead>\n",
       "  <tbody>\n",
       "    <tr>\n",
       "      <th>53</th>\n",
       "      <td>53</td>\n",
       "      <td>0.475288</td>\n",
       "      <td>0.012995</td>\n",
       "      <td>0.437451</td>\n",
       "      <td>0.001276</td>\n",
       "    </tr>\n",
       "    <tr>\n",
       "      <th>51</th>\n",
       "      <td>51</td>\n",
       "      <td>0.475457</td>\n",
       "      <td>0.012626</td>\n",
       "      <td>0.438973</td>\n",
       "      <td>0.002105</td>\n",
       "    </tr>\n",
       "    <tr>\n",
       "      <th>52</th>\n",
       "      <td>52</td>\n",
       "      <td>0.475612</td>\n",
       "      <td>0.012723</td>\n",
       "      <td>0.438572</td>\n",
       "      <td>0.001976</td>\n",
       "    </tr>\n",
       "    <tr>\n",
       "      <th>48</th>\n",
       "      <td>48</td>\n",
       "      <td>0.475620</td>\n",
       "      <td>0.012000</td>\n",
       "      <td>0.440660</td>\n",
       "      <td>0.002195</td>\n",
       "    </tr>\n",
       "    <tr>\n",
       "      <th>47</th>\n",
       "      <td>47</td>\n",
       "      <td>0.475683</td>\n",
       "      <td>0.012235</td>\n",
       "      <td>0.441418</td>\n",
       "      <td>0.001958</td>\n",
       "    </tr>\n",
       "    <tr>\n",
       "      <th>...</th>\n",
       "      <td>...</td>\n",
       "      <td>...</td>\n",
       "      <td>...</td>\n",
       "      <td>...</td>\n",
       "      <td>...</td>\n",
       "    </tr>\n",
       "    <tr>\n",
       "      <th>4</th>\n",
       "      <td>4</td>\n",
       "      <td>0.604509</td>\n",
       "      <td>0.001723</td>\n",
       "      <td>0.598513</td>\n",
       "      <td>0.003893</td>\n",
       "    </tr>\n",
       "    <tr>\n",
       "      <th>3</th>\n",
       "      <td>3</td>\n",
       "      <td>0.618477</td>\n",
       "      <td>0.001487</td>\n",
       "      <td>0.614316</td>\n",
       "      <td>0.002648</td>\n",
       "    </tr>\n",
       "    <tr>\n",
       "      <th>2</th>\n",
       "      <td>2</td>\n",
       "      <td>0.633115</td>\n",
       "      <td>0.002786</td>\n",
       "      <td>0.631222</td>\n",
       "      <td>0.003905</td>\n",
       "    </tr>\n",
       "    <tr>\n",
       "      <th>1</th>\n",
       "      <td>1</td>\n",
       "      <td>0.650069</td>\n",
       "      <td>0.000410</td>\n",
       "      <td>0.649149</td>\n",
       "      <td>0.001332</td>\n",
       "    </tr>\n",
       "    <tr>\n",
       "      <th>0</th>\n",
       "      <td>0</td>\n",
       "      <td>0.670050</td>\n",
       "      <td>0.000932</td>\n",
       "      <td>0.669550</td>\n",
       "      <td>0.000676</td>\n",
       "    </tr>\n",
       "  </tbody>\n",
       "</table>\n",
       "<p>172 rows × 5 columns</p>\n",
       "</div>"
      ],
      "text/plain": [
       "    iterations  test-Logloss-mean  test-Logloss-std  train-Logloss-mean  \\\n",
       "53          53           0.475288          0.012995            0.437451   \n",
       "51          51           0.475457          0.012626            0.438973   \n",
       "52          52           0.475612          0.012723            0.438572   \n",
       "48          48           0.475620          0.012000            0.440660   \n",
       "47          47           0.475683          0.012235            0.441418   \n",
       "..         ...                ...               ...                 ...   \n",
       "4            4           0.604509          0.001723            0.598513   \n",
       "3            3           0.618477          0.001487            0.614316   \n",
       "2            2           0.633115          0.002786            0.631222   \n",
       "1            1           0.650069          0.000410            0.649149   \n",
       "0            0           0.670050          0.000932            0.669550   \n",
       "\n",
       "    train-Logloss-std  \n",
       "53           0.001276  \n",
       "51           0.002105  \n",
       "52           0.001976  \n",
       "48           0.002195  \n",
       "47           0.001958  \n",
       "..                ...  \n",
       "4            0.003893  \n",
       "3            0.002648  \n",
       "2            0.003905  \n",
       "1            0.001332  \n",
       "0            0.000676  \n",
       "\n",
       "[172 rows x 5 columns]"
      ]
     },
     "execution_count": 21,
     "metadata": {},
     "output_type": "execute_result"
    }
   ],
   "source": [
    "# Approximate the best iteration\n",
    "pd.DataFrame(gridsearch_results['cv_results']).sort_values('test-Logloss-mean')"
   ]
  },
  {
   "cell_type": "markdown",
   "metadata": {},
   "source": [
    "## Model Evaluation"
   ]
  },
  {
   "cell_type": "code",
   "execution_count": 22,
   "metadata": {},
   "outputs": [],
   "source": [
    "from sklearn.metrics import ConfusionMatrixDisplay"
   ]
  },
  {
   "cell_type": "code",
   "execution_count": 23,
   "metadata": {},
   "outputs": [
    {
     "data": {
      "text/plain": [
       "<sklearn.metrics._plot.confusion_matrix.ConfusionMatrixDisplay at 0x2637771b160>"
      ]
     },
     "execution_count": 23,
     "metadata": {},
     "output_type": "execute_result"
    },
    {
     "data": {
      "image/png": "[encoded data removed]",
      "text/plain": [
       "<Figure size 640x480 with 2 Axes>"
      ]
     },
     "metadata": {},
     "output_type": "display_data"
    }
   ],
   "source": [
    "# Train model using best hyperparameter\n",
    "cbc = CatBoostClassifier(iterations=54, random_seed=42, loss_function='Logloss', verbose=False, auto_class_weights='Balanced', depth=3, learning_rate=0.05, l2_leaf_reg=3)\n",
    "cbc.fit(X_train, y_train)\n",
    "\n",
    "# Evaluate model using confusion matrix\n",
    "y_pred = cbc.predict(X_test)\n",
    "ConfusionMatrixDisplay.from_predictions(y_test, y_pred, labels=[1,0])"
   ]
  },
  {
   "attachments": {},
   "cell_type": "markdown",
   "metadata": {},
   "source": [
    "The model correctly identifies 42/50 stroke samples but at the cost of 334 false positives. I'll now try to improve on this performance by engineering the 'smoking_status' feature and then retraining a new model. Specifically, I will try to replace the 'Unknown' value with predictions made using another CatBoost model."
   ]
  },
  {
   "cell_type": "code",
   "execution_count": 24,
   "metadata": {},
   "outputs": [],
   "source": [
    "X_train, X_test, y_train, y_test = train_test_split(X, y, train_size=0.8, stratify=y, random_state=42)"
   ]
  },
  {
   "cell_type": "code",
   "execution_count": 25,
   "metadata": {},
   "outputs": [],
   "source": [
    "def convert_unknown_smoking_status(X, y, depth_list, lr_list, l2_list):\n",
    "    \"\"\"This function trains a CatBoost Classifier to predict replacement values for 'Unknown' values in the smoking_status feature\"\"\"\n",
    "    X_known_status = X.query('smoking_status != \"Unknown\"')\n",
    "    X_unknown_status = X.query('smoking_status == \"Unknown\"').drop('smoking_status', axis=1)\n",
    "\n",
    "    y_known_status = X_known_status.pop('smoking_status')\n",
    "    unknown_indices = X_unknown_status.index\n",
    "\n",
    "    params = {'depth': depth_list, 'learning_rate': lr_list, 'l2_leaf_reg': l2_list}\n",
    "\n",
    "    cbc = CatBoostClassifier(iterations=2000, random_seed=42, loss_function='MultiClass', verbose=False, early_stopping_rounds=100)\n",
    "    gridsearch_results = cbc.grid_search(param_grid=params, cv=3, X=X_known_status, y=y_known_status, stratified=True, \n",
    "                                         partition_random_seed=42, plot=False, search_by_train_test_split=False, refit=False)\n",
    "\n",
    "    best_depth = gridsearch_results['params']['depth']\n",
    "    best_lr = gridsearch_results['params']['learning_rate']\n",
    "    best_l2 = gridsearch_results['params']['l2_leaf_reg']\n",
    "    best_iteration = pd.DataFrame(gridsearch_results['cv_results']['test-MultiClass-mean']).sort_values(0).index[0] + 1\n",
    "\n",
    "    cbc = CatBoostClassifier(iterations=best_iteration, random_seed=42, loss_function='MultiClass', verbose=False,\n",
    "                             depth=best_depth, learning_rate=best_lr, l2_leaf_reg=best_l2)\n",
    "    cbc.fit(X_known_status, y_known_status)\n",
    "    X.loc[unknown_indices, 'smoking_status'] = cbc.predict(X_unknown_status)\n",
    "    dummies = pd.get_dummies(X.smoking_status)\n",
    "    X = pd.concat((X, dummies), axis=1).drop('smoking_status', axis=1)\n",
    "    \n",
    "    return X"
   ]
  },
  {
   "cell_type": "code",
   "execution_count": 26,
   "metadata": {},
   "outputs": [],
   "source": [
    "ct2 = make_column_transformer((RobustScaler(), make_column_selector(dtype_exclude=object)),\n",
    "                             (OneHotEncoder(sparse_output=False), ['gender', 'ever_married', 'work_type', 'Residence_type']), \n",
    "                             verbose_feature_names_out=False, remainder='passthrough')\n",
    "ct2.set_output(transform='pandas')\n",
    "\n",
    "preprocessing_pipeline2 = make_pipeline(fill_missing_transformer, add_age_bin_transformer, ct2)"
   ]
  },
  {
   "cell_type": "code",
   "execution_count": 27,
   "metadata": {},
   "outputs": [],
   "source": [
    "X_train = preprocessing_pipeline2.fit_transform(X_train)\n",
    "X_test = preprocessing_pipeline2.transform(X_test)"
   ]
  },
  {
   "cell_type": "code",
   "execution_count": null,
   "metadata": {},
   "outputs": [],
   "source": [
    "X_train = convert_unknown_smoking_status(X_train, y_train, params['depth'], params['learning_rate'], params['l2_leaf_reg'])\n",
    "X_test = convert_unknown_smoking_status(X_test, y_test, params['depth'], params['learning_rate'], params['l2_leaf_reg'])"
   ]
  },
  {
   "cell_type": "code",
   "execution_count": 29,
   "metadata": {},
   "outputs": [
    {
     "data": {
      "text/html": [
       "<div>\n",
       "<style scoped>\n",
       "    .dataframe tbody tr th:only-of-type {\n",
       "        vertical-align: middle;\n",
       "    }\n",
       "\n",
       "    .dataframe tbody tr th {\n",
       "        vertical-align: top;\n",
       "    }\n",
       "\n",
       "    .dataframe thead th {\n",
       "        text-align: right;\n",
       "    }\n",
       "</style>\n",
       "<table border=\"1\" class=\"dataframe\">\n",
       "  <thead>\n",
       "    <tr style=\"text-align: right;\">\n",
       "      <th></th>\n",
       "      <th>age</th>\n",
       "      <th>hypertension</th>\n",
       "      <th>heart_disease</th>\n",
       "      <th>avg_glucose_level</th>\n",
       "      <th>bmi</th>\n",
       "      <th>age_bin</th>\n",
       "      <th>gender_Female</th>\n",
       "      <th>gender_Male</th>\n",
       "      <th>ever_married_No</th>\n",
       "      <th>ever_married_Yes</th>\n",
       "      <th>work_type_Govt_job</th>\n",
       "      <th>work_type_Never_worked</th>\n",
       "      <th>work_type_Private</th>\n",
       "      <th>work_type_Self-employed</th>\n",
       "      <th>work_type_children</th>\n",
       "      <th>Residence_type_Rural</th>\n",
       "      <th>Residence_type_Urban</th>\n",
       "      <th>formerly smoked</th>\n",
       "      <th>never smoked</th>\n",
       "      <th>smokes</th>\n",
       "    </tr>\n",
       "  </thead>\n",
       "  <tbody>\n",
       "    <tr>\n",
       "      <th>845</th>\n",
       "      <td>0.083333</td>\n",
       "      <td>0.0</td>\n",
       "      <td>0.0</td>\n",
       "      <td>-0.620011</td>\n",
       "      <td>0.516129</td>\n",
       "      <td>0.0</td>\n",
       "      <td>1.0</td>\n",
       "      <td>0.0</td>\n",
       "      <td>0.0</td>\n",
       "      <td>1.0</td>\n",
       "      <td>0.0</td>\n",
       "      <td>0.0</td>\n",
       "      <td>1.0</td>\n",
       "      <td>0.0</td>\n",
       "      <td>0.0</td>\n",
       "      <td>0.0</td>\n",
       "      <td>1.0</td>\n",
       "      <td>0</td>\n",
       "      <td>1</td>\n",
       "      <td>0</td>\n",
       "    </tr>\n",
       "    <tr>\n",
       "      <th>3745</th>\n",
       "      <td>-0.444444</td>\n",
       "      <td>0.0</td>\n",
       "      <td>0.0</td>\n",
       "      <td>-0.210498</td>\n",
       "      <td>-0.763441</td>\n",
       "      <td>-1.0</td>\n",
       "      <td>1.0</td>\n",
       "      <td>0.0</td>\n",
       "      <td>1.0</td>\n",
       "      <td>0.0</td>\n",
       "      <td>0.0</td>\n",
       "      <td>0.0</td>\n",
       "      <td>1.0</td>\n",
       "      <td>0.0</td>\n",
       "      <td>0.0</td>\n",
       "      <td>0.0</td>\n",
       "      <td>1.0</td>\n",
       "      <td>0</td>\n",
       "      <td>1</td>\n",
       "      <td>0</td>\n",
       "    </tr>\n",
       "    <tr>\n",
       "      <th>4184</th>\n",
       "      <td>-0.277778</td>\n",
       "      <td>0.0</td>\n",
       "      <td>0.0</td>\n",
       "      <td>0.752050</td>\n",
       "      <td>-0.580645</td>\n",
       "      <td>-1.0</td>\n",
       "      <td>1.0</td>\n",
       "      <td>0.0</td>\n",
       "      <td>0.0</td>\n",
       "      <td>1.0</td>\n",
       "      <td>0.0</td>\n",
       "      <td>0.0</td>\n",
       "      <td>1.0</td>\n",
       "      <td>0.0</td>\n",
       "      <td>0.0</td>\n",
       "      <td>1.0</td>\n",
       "      <td>0.0</td>\n",
       "      <td>0</td>\n",
       "      <td>1</td>\n",
       "      <td>0</td>\n",
       "    </tr>\n",
       "    <tr>\n",
       "      <th>3410</th>\n",
       "      <td>-0.194444</td>\n",
       "      <td>0.0</td>\n",
       "      <td>0.0</td>\n",
       "      <td>0.458994</td>\n",
       "      <td>0.473118</td>\n",
       "      <td>0.0</td>\n",
       "      <td>0.0</td>\n",
       "      <td>1.0</td>\n",
       "      <td>0.0</td>\n",
       "      <td>1.0</td>\n",
       "      <td>0.0</td>\n",
       "      <td>0.0</td>\n",
       "      <td>1.0</td>\n",
       "      <td>0.0</td>\n",
       "      <td>0.0</td>\n",
       "      <td>1.0</td>\n",
       "      <td>0.0</td>\n",
       "      <td>0</td>\n",
       "      <td>1</td>\n",
       "      <td>0</td>\n",
       "    </tr>\n",
       "    <tr>\n",
       "      <th>284</th>\n",
       "      <td>-0.861111</td>\n",
       "      <td>0.0</td>\n",
       "      <td>0.0</td>\n",
       "      <td>-0.261072</td>\n",
       "      <td>0.354839</td>\n",
       "      <td>-1.0</td>\n",
       "      <td>0.0</td>\n",
       "      <td>1.0</td>\n",
       "      <td>1.0</td>\n",
       "      <td>0.0</td>\n",
       "      <td>1.0</td>\n",
       "      <td>0.0</td>\n",
       "      <td>0.0</td>\n",
       "      <td>0.0</td>\n",
       "      <td>0.0</td>\n",
       "      <td>0.0</td>\n",
       "      <td>1.0</td>\n",
       "      <td>0</td>\n",
       "      <td>1</td>\n",
       "      <td>0</td>\n",
       "    </tr>\n",
       "  </tbody>\n",
       "</table>\n",
       "</div>"
      ],
      "text/plain": [
       "           age  hypertension  heart_disease  avg_glucose_level       bmi  \\\n",
       "845   0.083333           0.0            0.0          -0.620011  0.516129   \n",
       "3745 -0.444444           0.0            0.0          -0.210498 -0.763441   \n",
       "4184 -0.277778           0.0            0.0           0.752050 -0.580645   \n",
       "3410 -0.194444           0.0            0.0           0.458994  0.473118   \n",
       "284  -0.861111           0.0            0.0          -0.261072  0.354839   \n",
       "\n",
       "      age_bin  gender_Female  gender_Male  ever_married_No  ever_married_Yes  \\\n",
       "845       0.0            1.0          0.0              0.0               1.0   \n",
       "3745     -1.0            1.0          0.0              1.0               0.0   \n",
       "4184     -1.0            1.0          0.0              0.0               1.0   \n",
       "3410      0.0            0.0          1.0              0.0               1.0   \n",
       "284      -1.0            0.0          1.0              1.0               0.0   \n",
       "\n",
       "      work_type_Govt_job  work_type_Never_worked  work_type_Private  \\\n",
       "845                  0.0                     0.0                1.0   \n",
       "3745                 0.0                     0.0                1.0   \n",
       "4184                 0.0                     0.0                1.0   \n",
       "3410                 0.0                     0.0                1.0   \n",
       "284                  1.0                     0.0                0.0   \n",
       "\n",
       "      work_type_Self-employed  work_type_children  Residence_type_Rural  \\\n",
       "845                       0.0                 0.0                   0.0   \n",
       "3745                      0.0                 0.0                   0.0   \n",
       "4184                      0.0                 0.0                   1.0   \n",
       "3410                      0.0                 0.0                   1.0   \n",
       "284                       0.0                 0.0                   0.0   \n",
       "\n",
       "      Residence_type_Urban  formerly smoked  never smoked  smokes  \n",
       "845                    1.0                0             1       0  \n",
       "3745                   1.0                0             1       0  \n",
       "4184                   0.0                0             1       0  \n",
       "3410                   0.0                0             1       0  \n",
       "284                    1.0                0             1       0  "
      ]
     },
     "execution_count": 29,
     "metadata": {},
     "output_type": "execute_result"
    }
   ],
   "source": [
    "X_train.head()"
   ]
  },
  {
   "cell_type": "code",
   "execution_count": null,
   "metadata": {},
   "outputs": [],
   "source": [
    "cbc = CatBoostClassifier(iterations=2000, random_seed=42, loss_function='Logloss', verbose=False, early_stopping_rounds=100, auto_class_weights='Balanced')\n",
    "gridsearch_results = cbc.grid_search(param_grid=params, cv=3, X=X_train, y=y_train, stratified=True, \n",
    "                                     partition_random_seed=42, plot=True, search_by_train_test_split=False, refit=False)"
   ]
  },
  {
   "cell_type": "code",
   "execution_count": 31,
   "metadata": {},
   "outputs": [
    {
     "data": {
      "text/plain": [
       "{'depth': 3, 'l2_leaf_reg': 3, 'learning_rate': 0.05}"
      ]
     },
     "execution_count": 31,
     "metadata": {},
     "output_type": "execute_result"
    }
   ],
   "source": [
    "gridsearch_results['params']"
   ]
  },
  {
   "cell_type": "code",
   "execution_count": 32,
   "metadata": {},
   "outputs": [
    {
     "data": {
      "text/html": [
       "<div>\n",
       "<style scoped>\n",
       "    .dataframe tbody tr th:only-of-type {\n",
       "        vertical-align: middle;\n",
       "    }\n",
       "\n",
       "    .dataframe tbody tr th {\n",
       "        vertical-align: top;\n",
       "    }\n",
       "\n",
       "    .dataframe thead th {\n",
       "        text-align: right;\n",
       "    }\n",
       "</style>\n",
       "<table border=\"1\" class=\"dataframe\">\n",
       "  <thead>\n",
       "    <tr style=\"text-align: right;\">\n",
       "      <th></th>\n",
       "      <th>iterations</th>\n",
       "      <th>test-Logloss-mean</th>\n",
       "      <th>test-Logloss-std</th>\n",
       "      <th>train-Logloss-mean</th>\n",
       "      <th>train-Logloss-std</th>\n",
       "    </tr>\n",
       "  </thead>\n",
       "  <tbody>\n",
       "    <tr>\n",
       "      <th>57</th>\n",
       "      <td>57</td>\n",
       "      <td>0.477929</td>\n",
       "      <td>0.014725</td>\n",
       "      <td>0.433842</td>\n",
       "      <td>0.003413</td>\n",
       "    </tr>\n",
       "    <tr>\n",
       "      <th>88</th>\n",
       "      <td>88</td>\n",
       "      <td>0.477957</td>\n",
       "      <td>0.015512</td>\n",
       "      <td>0.415181</td>\n",
       "      <td>0.003795</td>\n",
       "    </tr>\n",
       "    <tr>\n",
       "      <th>60</th>\n",
       "      <td>60</td>\n",
       "      <td>0.477975</td>\n",
       "      <td>0.014022</td>\n",
       "      <td>0.432057</td>\n",
       "      <td>0.003298</td>\n",
       "    </tr>\n",
       "    <tr>\n",
       "      <th>59</th>\n",
       "      <td>59</td>\n",
       "      <td>0.478015</td>\n",
       "      <td>0.014260</td>\n",
       "      <td>0.432702</td>\n",
       "      <td>0.003423</td>\n",
       "    </tr>\n",
       "    <tr>\n",
       "      <th>91</th>\n",
       "      <td>91</td>\n",
       "      <td>0.478040</td>\n",
       "      <td>0.015934</td>\n",
       "      <td>0.413826</td>\n",
       "      <td>0.004193</td>\n",
       "    </tr>\n",
       "    <tr>\n",
       "      <th>...</th>\n",
       "      <td>...</td>\n",
       "      <td>...</td>\n",
       "      <td>...</td>\n",
       "      <td>...</td>\n",
       "      <td>...</td>\n",
       "    </tr>\n",
       "    <tr>\n",
       "      <th>4</th>\n",
       "      <td>4</td>\n",
       "      <td>0.596774</td>\n",
       "      <td>0.001725</td>\n",
       "      <td>0.593078</td>\n",
       "      <td>0.004048</td>\n",
       "    </tr>\n",
       "    <tr>\n",
       "      <th>3</th>\n",
       "      <td>3</td>\n",
       "      <td>0.610868</td>\n",
       "      <td>0.004494</td>\n",
       "      <td>0.606957</td>\n",
       "      <td>0.006070</td>\n",
       "    </tr>\n",
       "    <tr>\n",
       "      <th>2</th>\n",
       "      <td>2</td>\n",
       "      <td>0.624616</td>\n",
       "      <td>0.008866</td>\n",
       "      <td>0.622308</td>\n",
       "      <td>0.009454</td>\n",
       "    </tr>\n",
       "    <tr>\n",
       "      <th>1</th>\n",
       "      <td>1</td>\n",
       "      <td>0.648247</td>\n",
       "      <td>0.004090</td>\n",
       "      <td>0.646540</td>\n",
       "      <td>0.005593</td>\n",
       "    </tr>\n",
       "    <tr>\n",
       "      <th>0</th>\n",
       "      <td>0</td>\n",
       "      <td>0.667130</td>\n",
       "      <td>0.004588</td>\n",
       "      <td>0.666239</td>\n",
       "      <td>0.005317</td>\n",
       "    </tr>\n",
       "  </tbody>\n",
       "</table>\n",
       "<p>211 rows × 5 columns</p>\n",
       "</div>"
      ],
      "text/plain": [
       "    iterations  test-Logloss-mean  test-Logloss-std  train-Logloss-mean  \\\n",
       "57          57           0.477929          0.014725            0.433842   \n",
       "88          88           0.477957          0.015512            0.415181   \n",
       "60          60           0.477975          0.014022            0.432057   \n",
       "59          59           0.478015          0.014260            0.432702   \n",
       "91          91           0.478040          0.015934            0.413826   \n",
       "..         ...                ...               ...                 ...   \n",
       "4            4           0.596774          0.001725            0.593078   \n",
       "3            3           0.610868          0.004494            0.606957   \n",
       "2            2           0.624616          0.008866            0.622308   \n",
       "1            1           0.648247          0.004090            0.646540   \n",
       "0            0           0.667130          0.004588            0.666239   \n",
       "\n",
       "    train-Logloss-std  \n",
       "57           0.003413  \n",
       "88           0.003795  \n",
       "60           0.003298  \n",
       "59           0.003423  \n",
       "91           0.004193  \n",
       "..                ...  \n",
       "4            0.004048  \n",
       "3            0.006070  \n",
       "2            0.009454  \n",
       "1            0.005593  \n",
       "0            0.005317  \n",
       "\n",
       "[211 rows x 5 columns]"
      ]
     },
     "execution_count": 32,
     "metadata": {},
     "output_type": "execute_result"
    }
   ],
   "source": [
    "# Approximate the best iteration\n",
    "pd.DataFrame(gridsearch_results['cv_results']).sort_values('test-Logloss-mean')"
   ]
  },
  {
   "cell_type": "code",
   "execution_count": 33,
   "metadata": {},
   "outputs": [
    {
     "data": {
      "text/plain": [
       "<sklearn.metrics._plot.confusion_matrix.ConfusionMatrixDisplay at 0x263735af430>"
      ]
     },
     "execution_count": 33,
     "metadata": {},
     "output_type": "execute_result"
    },
    {
     "data": {
      "image/png": "[encoded data removed]",
      "text/plain": [
       "<Figure size 640x480 with 2 Axes>"
      ]
     },
     "metadata": {},
     "output_type": "display_data"
    }
   ],
   "source": [
    "cbc = CatBoostClassifier(iterations=58, random_seed=42, loss_function='Logloss', verbose=False, auto_class_weights='Balanced', \n",
    "                         depth=3, learning_rate=0.05, l2_leaf_reg=3)\n",
    "cbc.fit(X_train, y_train)\n",
    "\n",
    "y_pred = cbc.predict(X_test)\n",
    "ConfusionMatrixDisplay.from_predictions(y_test, y_pred, labels=[1,0])"
   ]
  },
  {
   "attachments": {},
   "cell_type": "markdown",
   "metadata": {},
   "source": [
    "Unfortunately, this approach only decreased the number of false positives by 4 from 334 to 330 while its performance in other areas remained the same."
   ]
  },
  {
   "cell_type": "code",
   "execution_count": 34,
   "metadata": {},
   "outputs": [
    {
     "data": {
      "text/html": [
       "<div>\n",
       "<style scoped>\n",
       "    .dataframe tbody tr th:only-of-type {\n",
       "        vertical-align: middle;\n",
       "    }\n",
       "\n",
       "    .dataframe tbody tr th {\n",
       "        vertical-align: top;\n",
       "    }\n",
       "\n",
       "    .dataframe thead th {\n",
       "        text-align: right;\n",
       "    }\n",
       "</style>\n",
       "<table border=\"1\" class=\"dataframe\">\n",
       "  <thead>\n",
       "    <tr style=\"text-align: right;\">\n",
       "      <th></th>\n",
       "      <th>Feature Id</th>\n",
       "      <th>Importances</th>\n",
       "    </tr>\n",
       "  </thead>\n",
       "  <tbody>\n",
       "    <tr>\n",
       "      <th>0</th>\n",
       "      <td>age</td>\n",
       "      <td>49.299770</td>\n",
       "    </tr>\n",
       "    <tr>\n",
       "      <th>1</th>\n",
       "      <td>age_bin</td>\n",
       "      <td>26.163174</td>\n",
       "    </tr>\n",
       "    <tr>\n",
       "      <th>2</th>\n",
       "      <td>bmi</td>\n",
       "      <td>8.339254</td>\n",
       "    </tr>\n",
       "    <tr>\n",
       "      <th>3</th>\n",
       "      <td>avg_glucose_level</td>\n",
       "      <td>7.382270</td>\n",
       "    </tr>\n",
       "    <tr>\n",
       "      <th>4</th>\n",
       "      <td>ever_married_No</td>\n",
       "      <td>2.721723</td>\n",
       "    </tr>\n",
       "    <tr>\n",
       "      <th>5</th>\n",
       "      <td>gender_Female</td>\n",
       "      <td>2.293583</td>\n",
       "    </tr>\n",
       "    <tr>\n",
       "      <th>6</th>\n",
       "      <td>hypertension</td>\n",
       "      <td>1.295563</td>\n",
       "    </tr>\n",
       "    <tr>\n",
       "      <th>7</th>\n",
       "      <td>never smoked</td>\n",
       "      <td>0.854757</td>\n",
       "    </tr>\n",
       "    <tr>\n",
       "      <th>8</th>\n",
       "      <td>smokes</td>\n",
       "      <td>0.330757</td>\n",
       "    </tr>\n",
       "    <tr>\n",
       "      <th>9</th>\n",
       "      <td>Residence_type_Rural</td>\n",
       "      <td>0.202220</td>\n",
       "    </tr>\n",
       "    <tr>\n",
       "      <th>10</th>\n",
       "      <td>heart_disease</td>\n",
       "      <td>0.199677</td>\n",
       "    </tr>\n",
       "    <tr>\n",
       "      <th>11</th>\n",
       "      <td>Residence_type_Urban</td>\n",
       "      <td>0.180630</td>\n",
       "    </tr>\n",
       "    <tr>\n",
       "      <th>12</th>\n",
       "      <td>formerly smoked</td>\n",
       "      <td>0.173577</td>\n",
       "    </tr>\n",
       "    <tr>\n",
       "      <th>13</th>\n",
       "      <td>work_type_Self-employed</td>\n",
       "      <td>0.166325</td>\n",
       "    </tr>\n",
       "    <tr>\n",
       "      <th>14</th>\n",
       "      <td>gender_Male</td>\n",
       "      <td>0.160358</td>\n",
       "    </tr>\n",
       "    <tr>\n",
       "      <th>15</th>\n",
       "      <td>work_type_Private</td>\n",
       "      <td>0.101469</td>\n",
       "    </tr>\n",
       "    <tr>\n",
       "      <th>16</th>\n",
       "      <td>work_type_children</td>\n",
       "      <td>0.072077</td>\n",
       "    </tr>\n",
       "    <tr>\n",
       "      <th>17</th>\n",
       "      <td>work_type_Govt_job</td>\n",
       "      <td>0.062816</td>\n",
       "    </tr>\n",
       "    <tr>\n",
       "      <th>18</th>\n",
       "      <td>ever_married_Yes</td>\n",
       "      <td>0.000000</td>\n",
       "    </tr>\n",
       "    <tr>\n",
       "      <th>19</th>\n",
       "      <td>work_type_Never_worked</td>\n",
       "      <td>0.000000</td>\n",
       "    </tr>\n",
       "  </tbody>\n",
       "</table>\n",
       "</div>"
      ],
      "text/plain": [
       "                 Feature Id  Importances\n",
       "0                       age    49.299770\n",
       "1                   age_bin    26.163174\n",
       "2                       bmi     8.339254\n",
       "3         avg_glucose_level     7.382270\n",
       "4           ever_married_No     2.721723\n",
       "5             gender_Female     2.293583\n",
       "6              hypertension     1.295563\n",
       "7              never smoked     0.854757\n",
       "8                    smokes     0.330757\n",
       "9      Residence_type_Rural     0.202220\n",
       "10            heart_disease     0.199677\n",
       "11     Residence_type_Urban     0.180630\n",
       "12          formerly smoked     0.173577\n",
       "13  work_type_Self-employed     0.166325\n",
       "14              gender_Male     0.160358\n",
       "15        work_type_Private     0.101469\n",
       "16       work_type_children     0.072077\n",
       "17       work_type_Govt_job     0.062816\n",
       "18         ever_married_Yes     0.000000\n",
       "19   work_type_Never_worked     0.000000"
      ]
     },
     "execution_count": 34,
     "metadata": {},
     "output_type": "execute_result"
    }
   ],
   "source": [
    "cbc.get_feature_importance(prettified=True)"
   ]
  },
  {
   "cell_type": "markdown",
   "metadata": {},
   "source": [
    "## Error Analysis"
   ]
  },
  {
   "cell_type": "code",
   "execution_count": 35,
   "metadata": {},
   "outputs": [],
   "source": [
    "# fp_indices = y_test[(y_pred - y_test) == 1].index\n",
    "fn_indices = y_test[(y_pred - y_test) == -1].index"
   ]
  },
  {
   "cell_type": "code",
   "execution_count": 36,
   "metadata": {},
   "outputs": [
    {
     "data": {
      "text/html": [
       "<div>\n",
       "<style scoped>\n",
       "    .dataframe tbody tr th:only-of-type {\n",
       "        vertical-align: middle;\n",
       "    }\n",
       "\n",
       "    .dataframe tbody tr th {\n",
       "        vertical-align: top;\n",
       "    }\n",
       "\n",
       "    .dataframe thead th {\n",
       "        text-align: right;\n",
       "    }\n",
       "</style>\n",
       "<table border=\"1\" class=\"dataframe\">\n",
       "  <thead>\n",
       "    <tr style=\"text-align: right;\">\n",
       "      <th></th>\n",
       "      <th>gender</th>\n",
       "      <th>age</th>\n",
       "      <th>hypertension</th>\n",
       "      <th>heart_disease</th>\n",
       "      <th>ever_married</th>\n",
       "      <th>work_type</th>\n",
       "      <th>Residence_type</th>\n",
       "      <th>avg_glucose_level</th>\n",
       "      <th>bmi</th>\n",
       "      <th>smoking_status</th>\n",
       "      <th>stroke</th>\n",
       "    </tr>\n",
       "  </thead>\n",
       "  <tbody>\n",
       "    <tr>\n",
       "      <th>133</th>\n",
       "      <td>Female</td>\n",
       "      <td>38.0</td>\n",
       "      <td>0</td>\n",
       "      <td>0</td>\n",
       "      <td>Yes</td>\n",
       "      <td>Private</td>\n",
       "      <td>Rural</td>\n",
       "      <td>101.45</td>\n",
       "      <td>NaN</td>\n",
       "      <td>formerly smoked</td>\n",
       "      <td>1</td>\n",
       "    </tr>\n",
       "    <tr>\n",
       "      <th>94</th>\n",
       "      <td>Male</td>\n",
       "      <td>45.0</td>\n",
       "      <td>0</td>\n",
       "      <td>0</td>\n",
       "      <td>Yes</td>\n",
       "      <td>Private</td>\n",
       "      <td>Rural</td>\n",
       "      <td>64.14</td>\n",
       "      <td>29.4</td>\n",
       "      <td>never smoked</td>\n",
       "      <td>1</td>\n",
       "    </tr>\n",
       "    <tr>\n",
       "      <th>182</th>\n",
       "      <td>Female</td>\n",
       "      <td>32.0</td>\n",
       "      <td>0</td>\n",
       "      <td>0</td>\n",
       "      <td>Yes</td>\n",
       "      <td>Private</td>\n",
       "      <td>Rural</td>\n",
       "      <td>76.13</td>\n",
       "      <td>29.9</td>\n",
       "      <td>smokes</td>\n",
       "      <td>1</td>\n",
       "    </tr>\n",
       "    <tr>\n",
       "      <th>88</th>\n",
       "      <td>Male</td>\n",
       "      <td>47.0</td>\n",
       "      <td>0</td>\n",
       "      <td>0</td>\n",
       "      <td>Yes</td>\n",
       "      <td>Private</td>\n",
       "      <td>Urban</td>\n",
       "      <td>86.94</td>\n",
       "      <td>41.1</td>\n",
       "      <td>formerly smoked</td>\n",
       "      <td>1</td>\n",
       "    </tr>\n",
       "    <tr>\n",
       "      <th>210</th>\n",
       "      <td>Female</td>\n",
       "      <td>39.0</td>\n",
       "      <td>0</td>\n",
       "      <td>0</td>\n",
       "      <td>Yes</td>\n",
       "      <td>Private</td>\n",
       "      <td>Urban</td>\n",
       "      <td>83.24</td>\n",
       "      <td>26.3</td>\n",
       "      <td>never smoked</td>\n",
       "      <td>1</td>\n",
       "    </tr>\n",
       "    <tr>\n",
       "      <th>245</th>\n",
       "      <td>Female</td>\n",
       "      <td>14.0</td>\n",
       "      <td>0</td>\n",
       "      <td>0</td>\n",
       "      <td>No</td>\n",
       "      <td>children</td>\n",
       "      <td>Rural</td>\n",
       "      <td>57.93</td>\n",
       "      <td>30.9</td>\n",
       "      <td>Unknown</td>\n",
       "      <td>1</td>\n",
       "    </tr>\n",
       "    <tr>\n",
       "      <th>31</th>\n",
       "      <td>Male</td>\n",
       "      <td>42.0</td>\n",
       "      <td>0</td>\n",
       "      <td>0</td>\n",
       "      <td>Yes</td>\n",
       "      <td>Private</td>\n",
       "      <td>Rural</td>\n",
       "      <td>83.41</td>\n",
       "      <td>25.4</td>\n",
       "      <td>Unknown</td>\n",
       "      <td>1</td>\n",
       "    </tr>\n",
       "    <tr>\n",
       "      <th>228</th>\n",
       "      <td>Female</td>\n",
       "      <td>39.0</td>\n",
       "      <td>0</td>\n",
       "      <td>0</td>\n",
       "      <td>Yes</td>\n",
       "      <td>Self-employed</td>\n",
       "      <td>Urban</td>\n",
       "      <td>97.76</td>\n",
       "      <td>29.6</td>\n",
       "      <td>smokes</td>\n",
       "      <td>1</td>\n",
       "    </tr>\n",
       "  </tbody>\n",
       "</table>\n",
       "</div>"
      ],
      "text/plain": [
       "     gender   age  hypertension  heart_disease ever_married      work_type  \\\n",
       "133  Female  38.0             0              0          Yes        Private   \n",
       "94     Male  45.0             0              0          Yes        Private   \n",
       "182  Female  32.0             0              0          Yes        Private   \n",
       "88     Male  47.0             0              0          Yes        Private   \n",
       "210  Female  39.0             0              0          Yes        Private   \n",
       "245  Female  14.0             0              0           No       children   \n",
       "31     Male  42.0             0              0          Yes        Private   \n",
       "228  Female  39.0             0              0          Yes  Self-employed   \n",
       "\n",
       "    Residence_type  avg_glucose_level   bmi   smoking_status  stroke  \n",
       "133          Rural             101.45   NaN  formerly smoked       1  \n",
       "94           Rural              64.14  29.4     never smoked       1  \n",
       "182          Rural              76.13  29.9           smokes       1  \n",
       "88           Urban              86.94  41.1  formerly smoked       1  \n",
       "210          Urban              83.24  26.3     never smoked       1  \n",
       "245          Rural              57.93  30.9          Unknown       1  \n",
       "31           Rural              83.41  25.4          Unknown       1  \n",
       "228          Urban              97.76  29.6           smokes       1  "
      ]
     },
     "execution_count": 36,
     "metadata": {},
     "output_type": "execute_result"
    }
   ],
   "source": [
    "# Examine the false negative samples\n",
    "df.loc[fn_indices]"
   ]
  },
  {
   "cell_type": "markdown",
   "metadata": {},
   "source": [
    "* 2/8 of the false negatives coming from the age bin 0-37, which contains a total of only 3 stroke samples.\n",
    "* Both bmi and avg_glucose_level values hover around their respective mean values; no particular value in any feature stand out."
   ]
  }
 ],
 "metadata": {
  "kernelspec": {
   "display_name": "py39",
   "language": "python",
   "name": "python3"
  },
  "language_info": {
   "codemirror_mode": {
    "name": "ipython",
    "version": 3
   },
   "file_extension": ".py",
   "mimetype": "text/x-python",
   "name": "python",
   "nbconvert_exporter": "python",
   "pygments_lexer": "ipython3",
   "version": "3.9.16"
  },
  "orig_nbformat": 4
 },
 "nbformat": 4,
 "nbformat_minor": 2
}
