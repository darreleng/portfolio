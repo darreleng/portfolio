{
 "cells": [
  {
   "cell_type": "markdown",
   "metadata": {},
   "source": [
    "Simulated brand survey data consisting of 10 brands and 100 respondents. Ratings scale from 1 to 10, with 10 being the best."
   ]
  },
  {
   "cell_type": "code",
   "execution_count": 1,
   "metadata": {},
   "outputs": [],
   "source": [
    "import pandas as pd\n",
    "import numpy as np\n",
    "import seaborn as sns\n",
    "import matplotlib.pyplot as plt"
   ]
  },
  {
   "cell_type": "code",
   "execution_count": 2,
   "metadata": {},
   "outputs": [
    {
     "data": {
      "text/html": [
       "<div>\n",
       "<style scoped>\n",
       "    .dataframe tbody tr th:only-of-type {\n",
       "        vertical-align: middle;\n",
       "    }\n",
       "\n",
       "    .dataframe tbody tr th {\n",
       "        vertical-align: top;\n",
       "    }\n",
       "\n",
       "    .dataframe thead th {\n",
       "        text-align: right;\n",
       "    }\n",
       "</style>\n",
       "<table border=\"1\" class=\"dataframe\">\n",
       "  <thead>\n",
       "    <tr style=\"text-align: right;\">\n",
       "      <th></th>\n",
       "      <th>perform</th>\n",
       "      <th>leader</th>\n",
       "      <th>latest</th>\n",
       "      <th>fun</th>\n",
       "      <th>serious</th>\n",
       "      <th>bargain</th>\n",
       "      <th>value</th>\n",
       "      <th>trendy</th>\n",
       "      <th>rebuy</th>\n",
       "      <th>brand</th>\n",
       "    </tr>\n",
       "  </thead>\n",
       "  <tbody>\n",
       "    <tr>\n",
       "      <th>0</th>\n",
       "      <td>2</td>\n",
       "      <td>4</td>\n",
       "      <td>8</td>\n",
       "      <td>8</td>\n",
       "      <td>2</td>\n",
       "      <td>9</td>\n",
       "      <td>7</td>\n",
       "      <td>4</td>\n",
       "      <td>6</td>\n",
       "      <td>a</td>\n",
       "    </tr>\n",
       "    <tr>\n",
       "      <th>1</th>\n",
       "      <td>1</td>\n",
       "      <td>1</td>\n",
       "      <td>4</td>\n",
       "      <td>7</td>\n",
       "      <td>1</td>\n",
       "      <td>1</td>\n",
       "      <td>1</td>\n",
       "      <td>2</td>\n",
       "      <td>2</td>\n",
       "      <td>a</td>\n",
       "    </tr>\n",
       "    <tr>\n",
       "      <th>2</th>\n",
       "      <td>2</td>\n",
       "      <td>3</td>\n",
       "      <td>5</td>\n",
       "      <td>9</td>\n",
       "      <td>2</td>\n",
       "      <td>9</td>\n",
       "      <td>5</td>\n",
       "      <td>1</td>\n",
       "      <td>6</td>\n",
       "      <td>a</td>\n",
       "    </tr>\n",
       "    <tr>\n",
       "      <th>3</th>\n",
       "      <td>1</td>\n",
       "      <td>6</td>\n",
       "      <td>10</td>\n",
       "      <td>8</td>\n",
       "      <td>3</td>\n",
       "      <td>4</td>\n",
       "      <td>5</td>\n",
       "      <td>2</td>\n",
       "      <td>1</td>\n",
       "      <td>a</td>\n",
       "    </tr>\n",
       "    <tr>\n",
       "      <th>4</th>\n",
       "      <td>1</td>\n",
       "      <td>1</td>\n",
       "      <td>5</td>\n",
       "      <td>8</td>\n",
       "      <td>1</td>\n",
       "      <td>9</td>\n",
       "      <td>9</td>\n",
       "      <td>1</td>\n",
       "      <td>1</td>\n",
       "      <td>a</td>\n",
       "    </tr>\n",
       "  </tbody>\n",
       "</table>\n",
       "</div>"
      ],
      "text/plain": [
       "   perform  leader  latest  fun  serious  bargain  value  trendy  rebuy brand\n",
       "0        2       4       8    8        2        9      7       4      6     a\n",
       "1        1       1       4    7        1        1      1       2      2     a\n",
       "2        2       3       5    9        2        9      5       1      6     a\n",
       "3        1       6      10    8        3        4      5       2      1     a\n",
       "4        1       1       5    8        1        9      9       1      1     a"
      ]
     },
     "execution_count": 2,
     "metadata": {},
     "output_type": "execute_result"
    }
   ],
   "source": [
    "df = pd.read_csv('survey.csv')\n",
    "df.head()"
   ]
  },
  {
   "cell_type": "code",
   "execution_count": 3,
   "metadata": {},
   "outputs": [],
   "source": [
    "from sklearn.preprocessing import scale, minmax_scale\n",
    "from sklearn.decomposition import PCA"
   ]
  },
  {
   "cell_type": "code",
   "execution_count": 4,
   "metadata": {},
   "outputs": [],
   "source": [
    "df_scaled = df.copy()\n",
    "df_scaled.iloc[:, :-1] = scale(df_scaled.iloc[:, :-1])"
   ]
  },
  {
   "cell_type": "code",
   "execution_count": 5,
   "metadata": {},
   "outputs": [],
   "source": [
    "df_scaled_grouped = df_scaled.groupby('brand').mean()"
   ]
  },
  {
   "cell_type": "code",
   "execution_count": 6,
   "metadata": {},
   "outputs": [
    {
     "name": "stdout",
     "output_type": "stream",
     "text": [
      "Combined variance proportion of the two principal components: 0.843899869924366\n"
     ]
    }
   ],
   "source": [
    "pca = PCA(2).fit(df_scaled_grouped)\n",
    "print(f\"Combined variance proportion of the two principal components: {pca.explained_variance_ratio_.sum()}\")"
   ]
  },
  {
   "cell_type": "code",
   "execution_count": 7,
   "metadata": {},
   "outputs": [],
   "source": [
    "pc1_scores = pca.transform(df_scaled_grouped)[:, 0]\n",
    "pc2_scores = pca.transform(df_scaled_grouped)[:, 1]\n",
    "\n",
    "# Transform scores to the same scale as PC loadings\n",
    "pc1_scores_scaled = minmax_scale(pc1_scores, (-1, 1))\n",
    "pc2_scores_scaled = minmax_scale(pc2_scores, (-1, 1))"
   ]
  },
  {
   "cell_type": "code",
   "execution_count": 8,
   "metadata": {},
   "outputs": [
    {
     "data": {
      "text/html": [
       "<div>\n",
       "<style scoped>\n",
       "    .dataframe tbody tr th:only-of-type {\n",
       "        vertical-align: middle;\n",
       "    }\n",
       "\n",
       "    .dataframe tbody tr th {\n",
       "        vertical-align: top;\n",
       "    }\n",
       "\n",
       "    .dataframe thead th {\n",
       "        text-align: right;\n",
       "    }\n",
       "</style>\n",
       "<table border=\"1\" class=\"dataframe\">\n",
       "  <thead>\n",
       "    <tr style=\"text-align: right;\">\n",
       "      <th></th>\n",
       "      <th>PC_1</th>\n",
       "      <th>PC_2</th>\n",
       "    </tr>\n",
       "  </thead>\n",
       "  <tbody>\n",
       "    <tr>\n",
       "      <th>perform</th>\n",
       "      <td>0.242842</td>\n",
       "      <td>0.355730</td>\n",
       "    </tr>\n",
       "    <tr>\n",
       "      <th>leader</th>\n",
       "      <td>0.194459</td>\n",
       "      <td>0.466359</td>\n",
       "    </tr>\n",
       "    <tr>\n",
       "      <th>latest</th>\n",
       "      <td>-0.378300</td>\n",
       "      <td>0.213428</td>\n",
       "    </tr>\n",
       "    <tr>\n",
       "      <th>fun</th>\n",
       "      <td>-0.254358</td>\n",
       "      <td>-0.313819</td>\n",
       "    </tr>\n",
       "    <tr>\n",
       "      <th>serious</th>\n",
       "      <td>0.183280</td>\n",
       "      <td>0.547858</td>\n",
       "    </tr>\n",
       "    <tr>\n",
       "      <th>bargain</th>\n",
       "      <td>0.338824</td>\n",
       "      <td>-0.203422</td>\n",
       "    </tr>\n",
       "    <tr>\n",
       "      <th>value</th>\n",
       "      <td>0.439990</td>\n",
       "      <td>-0.201468</td>\n",
       "    </tr>\n",
       "    <tr>\n",
       "      <th>trendy</th>\n",
       "      <td>-0.350602</td>\n",
       "      <td>0.359983</td>\n",
       "    </tr>\n",
       "    <tr>\n",
       "      <th>rebuy</th>\n",
       "      <td>0.480102</td>\n",
       "      <td>0.015020</td>\n",
       "    </tr>\n",
       "  </tbody>\n",
       "</table>\n",
       "</div>"
      ],
      "text/plain": [
       "             PC_1      PC_2\n",
       "perform  0.242842  0.355730\n",
       "leader   0.194459  0.466359\n",
       "latest  -0.378300  0.213428\n",
       "fun     -0.254358 -0.313819\n",
       "serious  0.183280  0.547858\n",
       "bargain  0.338824 -0.203422\n",
       "value    0.439990 -0.201468\n",
       "trendy  -0.350602  0.359983\n",
       "rebuy    0.480102  0.015020"
      ]
     },
     "execution_count": 8,
     "metadata": {},
     "output_type": "execute_result"
    }
   ],
   "source": [
    "features = df.columns[:-1]\n",
    "loadings = pca.components_\n",
    "pd.DataFrame(pca.components_, columns=pca.feature_names_in_, index=['PC_1', 'PC_2']).T"
   ]
  },
  {
   "cell_type": "code",
   "execution_count": 9,
   "metadata": {},
   "outputs": [
    {
     "data": {
      "image/png": "[encoded data removed]",
      "text/plain": [
       "<Figure size 640x480 with 1 Axes>"
      ]
     },
     "metadata": {},
     "output_type": "display_data"
    }
   ],
   "source": [
    "sns.scatterplot(x=pc1_scores_scaled, y=pc2_scores_scaled)\n",
    "for i, brand in enumerate(df.brand.unique()):\n",
    "    plt.text(x=pc1_scores_scaled[i], y=pc2_scores_scaled[i], s=brand)\n",
    "for i, feature in enumerate(features):\n",
    "    plt.arrow(0, 0, loadings[0, i] * 1.8, \n",
    "              loadings[1, i] * 1.8, \n",
    "              head_width=0.03, \n",
    "              head_length=0.03)\n",
    "    if feature == \"value\":\n",
    "        plt.text(loadings[0, i] * 1.7, \n",
    "                 loadings[1, i] * 1.5, \n",
    "                 feature, fontsize = 10)\n",
    "    else:\n",
    "        plt.text(loadings[0, i] * 1.8, \n",
    "                 loadings[1, i] * 1.8, \n",
    "                 feature, fontsize = 10)\n",
    "plt.xlabel('PC1')\n",
    "plt.ylabel('PC2')\n",
    "plt.title('Brand Perceptual Map');"
   ]
  }
 ],
 "metadata": {
  "kernelspec": {
   "display_name": "py39",
   "language": "python",
   "name": "python3"
  },
  "language_info": {
   "codemirror_mode": {
    "name": "ipython",
    "version": 3
   },
   "file_extension": ".py",
   "mimetype": "text/x-python",
   "name": "python",
   "nbconvert_exporter": "python",
   "pygments_lexer": "ipython3",
   "version": "3.9.16"
  },
  "orig_nbformat": 4
 },
 "nbformat": 4,
 "nbformat_minor": 2
}
