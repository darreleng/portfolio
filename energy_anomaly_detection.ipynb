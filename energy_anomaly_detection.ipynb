{
 "cells": [
  {
   "cell_type": "code",
   "execution_count": 1,
   "metadata": {},
   "outputs": [],
   "source": [
    "import pandas as pd\n",
    "import numpy as np"
   ]
  },
  {
   "cell_type": "code",
   "execution_count": 2,
   "metadata": {},
   "outputs": [
    {
     "data": {
      "text/html": [
       "<div>\n",
       "<style scoped>\n",
       "    .dataframe tbody tr th:only-of-type {\n",
       "        vertical-align: middle;\n",
       "    }\n",
       "\n",
       "    .dataframe tbody tr th {\n",
       "        vertical-align: top;\n",
       "    }\n",
       "\n",
       "    .dataframe thead th {\n",
       "        text-align: right;\n",
       "    }\n",
       "</style>\n",
       "<table border=\"1\" class=\"dataframe\">\n",
       "  <thead>\n",
       "    <tr style=\"text-align: right;\">\n",
       "      <th></th>\n",
       "      <th>building_id</th>\n",
       "      <th>timestamp</th>\n",
       "      <th>meter_reading/sqft</th>\n",
       "      <th>anomaly</th>\n",
       "      <th>air_temperature</th>\n",
       "      <th>dew_temperature</th>\n",
       "      <th>sea_level_pressure</th>\n",
       "      <th>wind_direction</th>\n",
       "      <th>wind_speed</th>\n",
       "      <th>is_holiday</th>\n",
       "    </tr>\n",
       "  </thead>\n",
       "  <tbody>\n",
       "    <tr>\n",
       "      <th>13</th>\n",
       "      <td>0</td>\n",
       "      <td>2016-01-01 00:00:00</td>\n",
       "      <td>0.000847</td>\n",
       "      <td>0</td>\n",
       "      <td>3.8</td>\n",
       "      <td>2.4</td>\n",
       "      <td>1020.9</td>\n",
       "      <td>240</td>\n",
       "      <td>3.1</td>\n",
       "      <td>1</td>\n",
       "    </tr>\n",
       "    <tr>\n",
       "      <th>15</th>\n",
       "      <td>1</td>\n",
       "      <td>2016-01-01 00:00:00</td>\n",
       "      <td>0.001523</td>\n",
       "      <td>0</td>\n",
       "      <td>3.8</td>\n",
       "      <td>2.4</td>\n",
       "      <td>1020.9</td>\n",
       "      <td>240</td>\n",
       "      <td>3.1</td>\n",
       "      <td>1</td>\n",
       "    </tr>\n",
       "    <tr>\n",
       "      <th>213</th>\n",
       "      <td>0</td>\n",
       "      <td>2016-01-01 01:00:00</td>\n",
       "      <td>0.001695</td>\n",
       "      <td>0</td>\n",
       "      <td>3.7</td>\n",
       "      <td>2.4</td>\n",
       "      <td>1021.6</td>\n",
       "      <td>230</td>\n",
       "      <td>2.6</td>\n",
       "      <td>1</td>\n",
       "    </tr>\n",
       "    <tr>\n",
       "      <th>215</th>\n",
       "      <td>1</td>\n",
       "      <td>2016-01-01 01:00:00</td>\n",
       "      <td>0.002990</td>\n",
       "      <td>0</td>\n",
       "      <td>3.7</td>\n",
       "      <td>2.4</td>\n",
       "      <td>1021.6</td>\n",
       "      <td>230</td>\n",
       "      <td>2.6</td>\n",
       "      <td>1</td>\n",
       "    </tr>\n",
       "    <tr>\n",
       "      <th>411</th>\n",
       "      <td>0</td>\n",
       "      <td>2016-01-01 02:00:00</td>\n",
       "      <td>0.001698</td>\n",
       "      <td>0</td>\n",
       "      <td>2.6</td>\n",
       "      <td>1.9</td>\n",
       "      <td>1021.9</td>\n",
       "      <td>0</td>\n",
       "      <td>0.0</td>\n",
       "      <td>1</td>\n",
       "    </tr>\n",
       "    <tr>\n",
       "      <th>...</th>\n",
       "      <td>...</td>\n",
       "      <td>...</td>\n",
       "      <td>...</td>\n",
       "      <td>...</td>\n",
       "      <td>...</td>\n",
       "      <td>...</td>\n",
       "      <td>...</td>\n",
       "      <td>...</td>\n",
       "      <td>...</td>\n",
       "      <td>...</td>\n",
       "    </tr>\n",
       "    <tr>\n",
       "      <th>1748909</th>\n",
       "      <td>1</td>\n",
       "      <td>2016-12-31 21:00:00</td>\n",
       "      <td>0.002794</td>\n",
       "      <td>0</td>\n",
       "      <td>6.9</td>\n",
       "      <td>5.8</td>\n",
       "      <td>1026.2</td>\n",
       "      <td>220</td>\n",
       "      <td>4.6</td>\n",
       "      <td>0</td>\n",
       "    </tr>\n",
       "    <tr>\n",
       "      <th>1749107</th>\n",
       "      <td>0</td>\n",
       "      <td>2016-12-31 22:00:00</td>\n",
       "      <td>0.002029</td>\n",
       "      <td>0</td>\n",
       "      <td>6.9</td>\n",
       "      <td>6.2</td>\n",
       "      <td>1025.4</td>\n",
       "      <td>190</td>\n",
       "      <td>3.1</td>\n",
       "      <td>0</td>\n",
       "    </tr>\n",
       "    <tr>\n",
       "      <th>1749109</th>\n",
       "      <td>1</td>\n",
       "      <td>2016-12-31 22:00:00</td>\n",
       "      <td>0.002960</td>\n",
       "      <td>0</td>\n",
       "      <td>6.9</td>\n",
       "      <td>6.2</td>\n",
       "      <td>1025.4</td>\n",
       "      <td>190</td>\n",
       "      <td>3.1</td>\n",
       "      <td>0</td>\n",
       "    </tr>\n",
       "    <tr>\n",
       "      <th>1749307</th>\n",
       "      <td>0</td>\n",
       "      <td>2016-12-31 23:00:00</td>\n",
       "      <td>0.002000</td>\n",
       "      <td>0</td>\n",
       "      <td>7.5</td>\n",
       "      <td>6.5</td>\n",
       "      <td>1024.7</td>\n",
       "      <td>210</td>\n",
       "      <td>5.7</td>\n",
       "      <td>0</td>\n",
       "    </tr>\n",
       "    <tr>\n",
       "      <th>1749309</th>\n",
       "      <td>1</td>\n",
       "      <td>2016-12-31 23:00:00</td>\n",
       "      <td>0.002748</td>\n",
       "      <td>0</td>\n",
       "      <td>7.5</td>\n",
       "      <td>6.5</td>\n",
       "      <td>1024.7</td>\n",
       "      <td>210</td>\n",
       "      <td>5.7</td>\n",
       "      <td>0</td>\n",
       "    </tr>\n",
       "  </tbody>\n",
       "</table>\n",
       "<p>17568 rows × 10 columns</p>\n",
       "</div>"
      ],
      "text/plain": [
       "         building_id           timestamp  meter_reading/sqft  anomaly  \\\n",
       "13                 0 2016-01-01 00:00:00            0.000847        0   \n",
       "15                 1 2016-01-01 00:00:00            0.001523        0   \n",
       "213                0 2016-01-01 01:00:00            0.001695        0   \n",
       "215                1 2016-01-01 01:00:00            0.002990        0   \n",
       "411                0 2016-01-01 02:00:00            0.001698        0   \n",
       "...              ...                 ...                 ...      ...   \n",
       "1748909            1 2016-12-31 21:00:00            0.002794        0   \n",
       "1749107            0 2016-12-31 22:00:00            0.002029        0   \n",
       "1749109            1 2016-12-31 22:00:00            0.002960        0   \n",
       "1749307            0 2016-12-31 23:00:00            0.002000        0   \n",
       "1749309            1 2016-12-31 23:00:00            0.002748        0   \n",
       "\n",
       "         air_temperature  dew_temperature  sea_level_pressure  wind_direction  \\\n",
       "13                   3.8              2.4              1020.9             240   \n",
       "15                   3.8              2.4              1020.9             240   \n",
       "213                  3.7              2.4              1021.6             230   \n",
       "215                  3.7              2.4              1021.6             230   \n",
       "411                  2.6              1.9              1021.9               0   \n",
       "...                  ...              ...                 ...             ...   \n",
       "1748909              6.9              5.8              1026.2             220   \n",
       "1749107              6.9              6.2              1025.4             190   \n",
       "1749109              6.9              6.2              1025.4             190   \n",
       "1749307              7.5              6.5              1024.7             210   \n",
       "1749309              7.5              6.5              1024.7             210   \n",
       "\n",
       "         wind_speed  is_holiday  \n",
       "13              3.1           1  \n",
       "15              3.1           1  \n",
       "213             2.6           1  \n",
       "215             2.6           1  \n",
       "411             0.0           1  \n",
       "...             ...         ...  \n",
       "1748909         4.6           0  \n",
       "1749107         3.1           0  \n",
       "1749109         3.1           0  \n",
       "1749307         5.7           0  \n",
       "1749309         5.7           0  \n",
       "\n",
       "[17568 rows x 10 columns]"
      ]
     },
     "execution_count": 2,
     "metadata": {},
     "output_type": "execute_result"
    }
   ],
   "source": [
    "# Meter readings from 2 buildings, 8784 1-hour samples each\n",
    "df = pd.read_parquet('prepped.parquet')\n",
    "df"
   ]
  },
  {
   "cell_type": "code",
   "execution_count": 3,
   "metadata": {},
   "outputs": [
    {
     "data": {
      "text/plain": [
       "0    17218\n",
       "1      350\n",
       "Name: anomaly, dtype: int64"
      ]
     },
     "execution_count": 3,
     "metadata": {},
     "output_type": "execute_result"
    }
   ],
   "source": [
    "# 0 - non-anomalous, 1 - anomalous\n",
    "df.anomaly.value_counts()"
   ]
  },
  {
   "cell_type": "code",
   "execution_count": 4,
   "metadata": {},
   "outputs": [],
   "source": [
    "# Split the data\n",
    "X_full = df.query('timestamp < \"2016-12\"')\n",
    "X_train = df.query('timestamp < \"2016-11\"')\n",
    "X_val = df.query('timestamp >= \"2016-11\" and timestamp < \"2016-12\"')\n",
    "X_test = df.query('timestamp >= \"2016-12\"')\n",
    "\n",
    "y_full = X_full.pop('anomaly')\n",
    "y_train = X_train.pop('anomaly')\n",
    "y_val = X_val.pop('anomaly')\n",
    "y_test = X_test.pop('anomaly')"
   ]
  },
  {
   "attachments": {},
   "cell_type": "markdown",
   "metadata": {},
   "source": [
    "### Detecting anomalies with a CatBoost classifier"
   ]
  },
  {
   "cell_type": "code",
   "execution_count": 5,
   "metadata": {},
   "outputs": [],
   "source": [
    "from catboost import CatBoostClassifier, Pool\n",
    "from catboost.utils import eval_metric\n",
    "from sklearn.metrics import ConfusionMatrixDisplay"
   ]
  },
  {
   "cell_type": "code",
   "execution_count": 6,
   "metadata": {},
   "outputs": [],
   "source": [
    "train_pool = Pool(X_train, y_train)\n",
    "val_pool = Pool(X_val, y_val)\n",
    "test_pool = Pool(X_test, y_test)\n",
    "full_pool = Pool(X_full, y_full)"
   ]
  },
  {
   "cell_type": "code",
   "execution_count": 7,
   "metadata": {},
   "outputs": [
    {
     "data": {
      "text/plain": [
       "{0: 0.510163782088512, 1: 25.097142857142856}"
      ]
     },
     "execution_count": 7,
     "metadata": {},
     "output_type": "execute_result"
    }
   ],
   "source": [
    "# Set class weights to address class imbalance\n",
    "inlier, outlier = np.bincount(df.anomaly)\n",
    "total = inlier + outlier\n",
    "weight_for_0 = (1 / inlier) * (total / 2.0)\n",
    "weight_for_1 = (1 / outlier) * (total / 2.0)\n",
    "class_weights = {0: weight_for_0, 1: weight_for_1}\n",
    "class_weights"
   ]
  },
  {
   "cell_type": "code",
   "execution_count": 8,
   "metadata": {},
   "outputs": [
    {
     "name": "stdout",
     "output_type": "stream",
     "text": [
      "0:\tlearn: 0.8914466\ttest: 0.7416290\tbest: 0.7416290 (0)\ttotal: 152ms\tremaining: 5m 3s\n",
      "100:\tlearn: 0.9850974\ttest: 0.8863931\tbest: 0.8870384 (99)\ttotal: 762ms\tremaining: 14.3s\n",
      "200:\tlearn: 0.9866472\ttest: 0.8796311\tbest: 0.8870384 (99)\ttotal: 1.39s\tremaining: 12.4s\n",
      "Stopped by overfitting detector  (200 iterations wait)\n",
      "\n",
      "bestTest = 0.8870384053\n",
      "bestIteration = 99\n",
      "\n",
      "Shrink model to first 100 iterations.\n"
     ]
    },
    {
     "data": {
      "text/plain": [
       "<catboost.core.CatBoostClassifier at 0x1668c50ebe0>"
      ]
     },
     "execution_count": 8,
     "metadata": {},
     "output_type": "execute_result"
    }
   ],
   "source": [
    "# Create CatBoost model\n",
    "cbc = CatBoostClassifier(iterations=2000, learning_rate=0.001, depth=6, eval_metric='PRAUC', loss_function='Logloss', class_weights=class_weights, random_seed=42)\n",
    "cbc.fit(train_pool, eval_set=val_pool, early_stopping_rounds=200, verbose=100)"
   ]
  },
  {
   "cell_type": "code",
   "execution_count": 9,
   "metadata": {},
   "outputs": [
    {
     "name": "stdout",
     "output_type": "stream",
     "text": [
      "PRAUC score: 0.74\n"
     ]
    },
    {
     "data": {
      "image/png": "[encoded data removed]",
      "text/plain": [
       "<Figure size 640x480 with 2 Axes>"
      ]
     },
     "metadata": {},
     "output_type": "display_data"
    }
   ],
   "source": [
    "# Fit the model on the full data\n",
    "cbc = CatBoostClassifier(iterations=100, learning_rate=0.001, depth=6, loss_function='Logloss', class_weights=class_weights, random_seed=42)\n",
    "cbc.fit(full_pool, verbose=0)\n",
    "\n",
    "# Evaluate the model\n",
    "cbc_preds = cbc.predict(X_test)\n",
    "cbc_score = eval_metric(y_test.to_numpy(), cbc_preds, metric='PRAUC')\n",
    "print(f'PRAUC score: {cbc_score[0]:.2f}')\n",
    "ConfusionMatrixDisplay.from_predictions(y_test, cbc_preds);"
   ]
  },
  {
   "attachments": {},
   "cell_type": "markdown",
   "metadata": {},
   "source": [
    "The model manages to detect 126/164 anomalies while not having many false positives."
   ]
  },
  {
   "cell_type": "code",
   "execution_count": 11,
   "metadata": {},
   "outputs": [
    {
     "name": "stdout",
     "output_type": "stream",
     "text": [
      "0:\tlearn: 0.9277058\ttest: 0.7789981\tbest: 0.7789981 (0)\ttotal: 8.08ms\tremaining: 16.1s\n",
      "100:\tlearn: 0.9948044\ttest: 0.8766391\tbest: 0.8797279 (85)\ttotal: 844ms\tremaining: 15.9s\n",
      "200:\tlearn: 0.9953685\ttest: 0.8777288\tbest: 0.8797279 (85)\ttotal: 1.61s\tremaining: 14.4s\n",
      "300:\tlearn: 0.9967293\ttest: 0.8816211\tbest: 0.8822359 (284)\ttotal: 2.33s\tremaining: 13.2s\n",
      "400:\tlearn: 0.9979084\ttest: 0.8833517\tbest: 0.8833984 (362)\ttotal: 3.05s\tremaining: 12.2s\n",
      "500:\tlearn: 0.9984939\ttest: 0.8824700\tbest: 0.8835489 (405)\ttotal: 3.79s\tremaining: 11.3s\n",
      "600:\tlearn: 0.9989033\ttest: 0.8805958\tbest: 0.8835489 (405)\ttotal: 4.54s\tremaining: 10.6s\n",
      "Stopped by overfitting detector  (200 iterations wait)\n",
      "\n",
      "bestTest = 0.8835488968\n",
      "bestIteration = 405\n",
      "\n",
      "Shrink model to first 406 iterations.\n"
     ]
    },
    {
     "data": {
      "text/plain": [
       "<catboost.core.CatBoostClassifier at 0x1668e510c10>"
      ]
     },
     "execution_count": 11,
     "metadata": {},
     "output_type": "execute_result"
    }
   ],
   "source": [
    "# Tune the model by increasing depth by 2\n",
    "cbc2 = CatBoostClassifier(iterations=2000, learning_rate=0.001, depth=8, eval_metric='PRAUC', loss_function='Logloss', class_weights=class_weights, random_seed=42)\n",
    "cbc2.fit(train_pool, eval_set=val_pool, early_stopping_rounds=200, verbose=100)"
   ]
  },
  {
   "cell_type": "code",
   "execution_count": 12,
   "metadata": {},
   "outputs": [
    {
     "name": "stdout",
     "output_type": "stream",
     "text": [
      "PRAUC score: 0.79\n"
     ]
    },
    {
     "data": {
      "image/png": "[encoded data removed]",
      "text/plain": [
       "<Figure size 640x480 with 2 Axes>"
      ]
     },
     "metadata": {},
     "output_type": "display_data"
    }
   ],
   "source": [
    "cbc2 = CatBoostClassifier(iterations=406, learning_rate=0.001, depth=8, loss_function='Logloss', class_weights=class_weights, random_seed=42)\n",
    "cbc2.fit(full_pool, verbose=0)\n",
    "\n",
    "cbc2_preds = cbc2.predict(X_test)\n",
    "cbc2_score = eval_metric(y_test.to_numpy(), cbc2_preds, metric='PRAUC')\n",
    "print(f'PRAUC score: {cbc2_score[0]:.2f}')\n",
    "ConfusionMatrixDisplay.from_predictions(y_test, cbc2_preds);"
   ]
  },
  {
   "attachments": {},
   "cell_type": "markdown",
   "metadata": {},
   "source": [
    "Although the number of anomalies detected drops by 1 from 126 to 125, the false positives drop by nearly half from 57 to 33."
   ]
  },
  {
   "cell_type": "code",
   "execution_count": 13,
   "metadata": {},
   "outputs": [
    {
     "name": "stdout",
     "output_type": "stream",
     "text": [
      "0:\tlearn: 0.8151993\ttest: 0.8428853\tbest: 0.8428853 (0)\ttotal: 5.31ms\tremaining: 10.6s\n",
      "100:\tlearn: 0.9602336\ttest: 0.9049395\tbest: 0.9136813 (55)\ttotal: 470ms\tremaining: 8.83s\n",
      "200:\tlearn: 0.9643479\ttest: 0.8992750\tbest: 0.9136813 (55)\ttotal: 895ms\tremaining: 8.01s\n",
      "Stopped by overfitting detector  (200 iterations wait)\n",
      "\n",
      "bestTest = 0.9136812738\n",
      "bestIteration = 55\n",
      "\n",
      "Shrink model to first 56 iterations.\n"
     ]
    },
    {
     "data": {
      "text/plain": [
       "<catboost.core.CatBoostClassifier at 0x1668e589e80>"
      ]
     },
     "execution_count": 13,
     "metadata": {},
     "output_type": "execute_result"
    }
   ],
   "source": [
    "# Tune the model by decreasing depth by 2\n",
    "cbc3 = CatBoostClassifier(iterations=2000, learning_rate=0.001, depth=4, eval_metric='PRAUC', loss_function='Logloss', class_weights=class_weights, random_seed=42)\n",
    "cbc3.fit(train_pool, eval_set=val_pool, early_stopping_rounds=200, verbose=100)"
   ]
  },
  {
   "cell_type": "code",
   "execution_count": 14,
   "metadata": {},
   "outputs": [
    {
     "name": "stdout",
     "output_type": "stream",
     "text": [
      "PRAUC score: 0.57\n"
     ]
    },
    {
     "data": {
      "image/png": "[encoded data removed]",
      "text/plain": [
       "<Figure size 640x480 with 2 Axes>"
      ]
     },
     "metadata": {},
     "output_type": "display_data"
    }
   ],
   "source": [
    "cbc3 = CatBoostClassifier(iterations=56, learning_rate=0.001, depth=4, loss_function='Logloss', class_weights=class_weights, random_seed=42)\n",
    "cbc3.fit(full_pool, verbose=0)\n",
    "\n",
    "cbc3_preds = cbc3.predict(X_test)\n",
    "cbc3_score = eval_metric(y_test.to_numpy(), cbc3_preds, metric='PRAUC')\n",
    "print(f'PRAUC score: {cbc3_score[0]:.2f}')\n",
    "ConfusionMatrixDisplay.from_predictions(y_test, cbc3_preds);"
   ]
  },
  {
   "attachments": {},
   "cell_type": "markdown",
   "metadata": {},
   "source": [
    "The model detects 12 more anomalies than before, but comes at the cost of a significantly higher number of false positives. Overall, the second model with depth=8 is the best. "
   ]
  },
  {
   "attachments": {},
   "cell_type": "markdown",
   "metadata": {},
   "source": [
    "### Detecting anomalies with an LSTM neural network"
   ]
  },
  {
   "cell_type": "code",
   "execution_count": 15,
   "metadata": {},
   "outputs": [],
   "source": [
    "import tensorflow as tf\n",
    "import keras\n",
    "from keras import layers\n",
    "from sklearn.preprocessing import MinMaxScaler\n",
    "from sklearn.compose import make_column_transformer"
   ]
  },
  {
   "cell_type": "code",
   "execution_count": 16,
   "metadata": {},
   "outputs": [
    {
     "data": {
      "text/plain": [
       "building_id              0\n",
       "meter_reading/sqft       0\n",
       "anomaly                  0\n",
       "air_temperature        300\n",
       "dew_temperature       1380\n",
       "sea_level_pressure       0\n",
       "wind_direction           0\n",
       "wind_speed              42\n",
       "is_holiday               0\n",
       "dtype: int64"
      ]
     },
     "execution_count": 16,
     "metadata": {},
     "output_type": "execute_result"
    }
   ],
   "source": [
    "# Check which features have negative values\n",
    "(df.set_index('timestamp') < 0).sum()"
   ]
  },
  {
   "cell_type": "code",
   "execution_count": 17,
   "metadata": {},
   "outputs": [],
   "source": [
    "# Add the absolute min values of the features with negative values to themselves so that normalisation works smoothly\n",
    "df.air_temperature = df.air_temperature + abs(df.air_temperature.min())\n",
    "df.dew_temperature = df.dew_temperature + abs(df.dew_temperature.min())\n",
    "df.wind_speed = df.wind_speed + abs(df.wind_speed.min())"
   ]
  },
  {
   "attachments": {},
   "cell_type": "markdown",
   "metadata": {},
   "source": [
    "Overview of model architecture:"
   ]
  },
  {
   "attachments": {},
   "cell_type": "markdown",
   "metadata": {},
   "source": [
    "<img src=\"multioverview.png\"/>"
   ]
  },
  {
   "cell_type": "code",
   "execution_count": 18,
   "metadata": {},
   "outputs": [],
   "source": [
    "# Custom loss function that allows class weights to be used for multiple inputs\n",
    "class WeightedBinaryCrossentropy(tf.keras.losses.Loss):\n",
    "    def __init__(self, class_weights):\n",
    "        super(WeightedBinaryCrossentropy, self).__init__()\n",
    "        self.class_weights_tensor = tf.constant(list(class_weights.values()), dtype=tf.float32)\n",
    "\n",
    "    def call(self, y_true, y_pred):\n",
    "        weighted_true = tf.multiply(tf.gather(self.class_weights_tensor, tf.cast(y_true, tf.int32)), tf.cast(y_true, tf.float32))\n",
    "        loss = tf.nn.weighted_cross_entropy_with_logits(labels=weighted_true, logits=y_pred, pos_weight=1.0)\n",
    "        return loss\n",
    "\n",
    "weighted_binary_crossentropy = WeightedBinaryCrossentropy(class_weights)"
   ]
  },
  {
   "cell_type": "code",
   "execution_count": 19,
   "metadata": {},
   "outputs": [],
   "source": [
    "def build_LSTM():\n",
    "    input1 = layers.Input(shape=(48, 8), name='building_1')\n",
    "    input2 = layers.Input(shape=(48, 8), name='building_2')\n",
    "    lstm1 = layers.LSTM(16, recurrent_dropout=0.25, return_sequences=True, name='lstm1_1')(input1)\n",
    "    lstm2 = layers.LSTM(16, recurrent_dropout=0.25, return_sequences=True, name='lstm1_2')(input2)\n",
    "    lstm1 = layers.LSTM(8, name='lstm2_1')(lstm1)\n",
    "    lstm2 = layers.LSTM(8, name='lstm2_2')(lstm2)\n",
    "    concat = layers.Concatenate(name='concat')([lstm1, lstm2])\n",
    "    dropout = layers.Dropout(0.5, name='dropout')(concat)\n",
    "    outputs = layers.Dense(1, activation='sigmoid', name='dense_output')(dropout)\n",
    "\n",
    "    model = keras.Model([input1, input2], outputs)\n",
    "    model.compile(loss=weighted_binary_crossentropy, optimizer=keras.optimizers.Adam(learning_rate=1e-05), metrics=keras.metrics.AUC(curve='PR', name='PRAUC'))\n",
    "    return model\n",
    "\n",
    "callbacks = [keras.callbacks.EarlyStopping(patience=20, monitor='val_loss')]"
   ]
  },
  {
   "cell_type": "code",
   "execution_count": 20,
   "metadata": {},
   "outputs": [],
   "source": [
    "# Prepare the data\n",
    "building_dict = {}\n",
    "ct = make_column_transformer((MinMaxScaler(), np.arange(8)))\n",
    "ct_full = make_column_transformer((MinMaxScaler(), np.arange(8)))\n",
    "\n",
    "for building in df.building_id.unique():\n",
    "    X = df.query('building_id == @building')\n",
    "\n",
    "    X_full = X.query('timestamp < \"2016-12\"').drop(columns=['timestamp'])\n",
    "    X_train = X.query('timestamp < \"2016-11\"').drop(columns=['timestamp'])\n",
    "    X_val = X.query('timestamp >= \"2016-11\" and timestamp < \"2016-12\"').drop(columns=['timestamp'])\n",
    "    X_test = X.query('timestamp >= \"2016-12\"').drop(columns=['timestamp'])\n",
    "\n",
    "    y_full = X_full.pop('anomaly')\n",
    "    y_train = X_train.pop('anomaly')\n",
    "    y_val = X_val.pop('anomaly')\n",
    "    y_test = X_test.pop('anomaly')\n",
    "\n",
    "    X_full = ct_full.fit_transform(X_full).astype('float32')\n",
    "    X_test = ct_full.transform(X_test).astype('float32')\n",
    "    X_train = ct.fit_transform(X_train).astype('float32')\n",
    "    X_val = ct.transform(X_val).astype('float32')\n",
    "\n",
    "    # Use 168 hours (7 days) to predict the class of the 169th hour\n",
    "    full_dataset = keras.utils.timeseries_dataset_from_array(X_full[:-168], \n",
    "                                                            y_full[168:], \n",
    "                                                            sequence_length=168,\n",
    "                                                            batch_size=256)\n",
    "\n",
    "    train_dataset = keras.utils.timeseries_dataset_from_array(X_train[:-168], \n",
    "                                                            y_train[168:], \n",
    "                                                            sequence_length=168,  \n",
    "                                                            batch_size=256)\n",
    "\n",
    "    validation_dataset = keras.utils.timeseries_dataset_from_array(X_val[:-168], \n",
    "                                                            y_val[168:], \n",
    "                                                            sequence_length=168,\n",
    "                                                            batch_size=256)\n",
    "\n",
    "    test_dataset = keras.utils.timeseries_dataset_from_array(X_test[:-168], \n",
    "                                                            y_test[168:], \n",
    "                                                            sequence_length=168,\n",
    "                                                            batch_size=256)\n",
    "    \n",
    "    # Concatenate the train and label batches in each dataset as separate numpy arrays\n",
    "    X_full = np.concatenate([x for x, y in full_dataset])\n",
    "    y_full = np.concatenate([y for x, y in full_dataset])\n",
    "    X_train = np.concatenate([x for x, y in train_dataset])\n",
    "    y_train = np.concatenate([y for x, y in train_dataset])\n",
    "    X_val = np.concatenate([x for x, y in validation_dataset])\n",
    "    y_val = np.concatenate([y for x, y in validation_dataset])\n",
    "    X_test = np.concatenate([x for x, y in test_dataset])\n",
    "    y_test = np.concatenate([y for x, y in test_dataset])\n",
    "    \n",
    "    building_dict[building] = {'X_full': X_full, 'X_train': X_train, 'X_val': X_val, 'X_test': X_test,\n",
    "                               'y_full': y_full, 'y_train': y_train, 'y_val': y_val, 'y_test': y_test}\n",
    "\n",
    "# Combine the relevant data from each building into their respective lists\n",
    "X_train_list = []\n",
    "y_train_list = []\n",
    "X_val_list= []\n",
    "y_val_list = []\n",
    "X_test_list = []\n",
    "y_test_list = []\n",
    "for building in df.building_id.unique():\n",
    "    X_train_list.append(building_dict[building]['X_train'])\n",
    "    y_train_list.append(building_dict[building]['y_train'])\n",
    "    X_val_list.append(building_dict[building]['X_val'])\n",
    "    y_val_list.append(building_dict[building]['y_val'])\n",
    "    X_test_list.append(building_dict[building]['X_test'])\n",
    "    y_test_list.append(building_dict[building]['y_test'])"
   ]
  },
  {
   "cell_type": "code",
   "execution_count": null,
   "metadata": {},
   "outputs": [],
   "source": [
    "model = build_LSTM()\n",
    "history = model.fit(X_train_list, y_train_list, validation_data=(X_val_list, y_val_list), epochs=200, batch_size=32, shuffle=False, callbacks=callbacks)"
   ]
  },
  {
   "attachments": {},
   "cell_type": "markdown",
   "metadata": {},
   "source": [
    "I was unable to get a good model fit despite extensively testing different hyperparameters, model complexity, and input sequence lengths. Unsure if it was because I implemented the model incorrectly or because of insufficient training data. Will revisit in future. "
   ]
  }
 ],
 "metadata": {
  "kernelspec": {
   "display_name": "py39",
   "language": "python",
   "name": "python3"
  },
  "language_info": {
   "codemirror_mode": {
    "name": "ipython",
    "version": 3
   },
   "file_extension": ".py",
   "mimetype": "text/x-python",
   "name": "python",
   "nbconvert_exporter": "python",
   "pygments_lexer": "ipython3",
   "version": "3.9.16"
  },
  "orig_nbformat": 4
 },
 "nbformat": 4,
 "nbformat_minor": 2
}
