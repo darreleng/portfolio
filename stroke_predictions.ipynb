{
 "cells": [
  {
   "cell_type": "code",
   "execution_count": 1,
   "metadata": {},
   "outputs": [],
   "source": [
    "import pandas as pd\n",
    "import numpy as np\n",
    "import matplotlib.pyplot as plt\n",
    "import seaborn as sns"
   ]
  },
  {
   "cell_type": "code",
   "execution_count": 2,
   "metadata": {},
   "outputs": [],
   "source": [
    "# Dataset from: https://www.kaggle.com/datasets/fedesoriano/stroke-prediction-dataset\n",
    "# 1) id: unique identifier\n",
    "# 2) gender: \"Male\", \"Female\" or \"Other\"\n",
    "# 3) age: age of the patient\n",
    "# 4) hypertension: 0 if the patient doesn't have hypertension, 1 if the patient has hypertension\n",
    "# 5) heart_disease: 0 if the patient doesn't have any heart diseases, 1 if the patient has a heart disease\n",
    "# 6) ever_married: \"No\" or \"Yes\"\n",
    "# 7) work_type: \"children\", \"Govt_jov\", \"Never_worked\", \"Private\" or \"Self-employed\"\n",
    "# 8) Residence_type: \"Rural\" or \"Urban\"\n",
    "# 9) avg_glucose_level: average glucose level in blood\n",
    "# 10) bmi: body mass index\n",
    "# 11) smoking_status: \"formerly smoked\", \"never smoked\", \"smokes\" or \"Unknown\"*\n",
    "# 12) stroke: 1 if the patient had a stroke or 0 if not\n",
    "# *Note: \"Unknown\" in smoking_status means that the information is unavailable for this patient"
   ]
  },
  {
   "cell_type": "code",
   "execution_count": 2,
   "metadata": {},
   "outputs": [
    {
     "data": {
      "text/html": [
       "<div>\n",
       "<style scoped>\n",
       "    .dataframe tbody tr th:only-of-type {\n",
       "        vertical-align: middle;\n",
       "    }\n",
       "\n",
       "    .dataframe tbody tr th {\n",
       "        vertical-align: top;\n",
       "    }\n",
       "\n",
       "    .dataframe thead th {\n",
       "        text-align: right;\n",
       "    }\n",
       "</style>\n",
       "<table border=\"1\" class=\"dataframe\">\n",
       "  <thead>\n",
       "    <tr style=\"text-align: right;\">\n",
       "      <th></th>\n",
       "      <th>id</th>\n",
       "      <th>gender</th>\n",
       "      <th>age</th>\n",
       "      <th>hypertension</th>\n",
       "      <th>heart_disease</th>\n",
       "      <th>ever_married</th>\n",
       "      <th>work_type</th>\n",
       "      <th>Residence_type</th>\n",
       "      <th>avg_glucose_level</th>\n",
       "      <th>bmi</th>\n",
       "      <th>smoking_status</th>\n",
       "      <th>stroke</th>\n",
       "    </tr>\n",
       "  </thead>\n",
       "  <tbody>\n",
       "    <tr>\n",
       "      <th>0</th>\n",
       "      <td>9046</td>\n",
       "      <td>Male</td>\n",
       "      <td>67.0</td>\n",
       "      <td>0</td>\n",
       "      <td>1</td>\n",
       "      <td>Yes</td>\n",
       "      <td>Private</td>\n",
       "      <td>Urban</td>\n",
       "      <td>228.69</td>\n",
       "      <td>36.6</td>\n",
       "      <td>formerly smoked</td>\n",
       "      <td>1</td>\n",
       "    </tr>\n",
       "    <tr>\n",
       "      <th>1</th>\n",
       "      <td>51676</td>\n",
       "      <td>Female</td>\n",
       "      <td>61.0</td>\n",
       "      <td>0</td>\n",
       "      <td>0</td>\n",
       "      <td>Yes</td>\n",
       "      <td>Self-employed</td>\n",
       "      <td>Rural</td>\n",
       "      <td>202.21</td>\n",
       "      <td>NaN</td>\n",
       "      <td>never smoked</td>\n",
       "      <td>1</td>\n",
       "    </tr>\n",
       "    <tr>\n",
       "      <th>2</th>\n",
       "      <td>31112</td>\n",
       "      <td>Male</td>\n",
       "      <td>80.0</td>\n",
       "      <td>0</td>\n",
       "      <td>1</td>\n",
       "      <td>Yes</td>\n",
       "      <td>Private</td>\n",
       "      <td>Rural</td>\n",
       "      <td>105.92</td>\n",
       "      <td>32.5</td>\n",
       "      <td>never smoked</td>\n",
       "      <td>1</td>\n",
       "    </tr>\n",
       "    <tr>\n",
       "      <th>3</th>\n",
       "      <td>60182</td>\n",
       "      <td>Female</td>\n",
       "      <td>49.0</td>\n",
       "      <td>0</td>\n",
       "      <td>0</td>\n",
       "      <td>Yes</td>\n",
       "      <td>Private</td>\n",
       "      <td>Urban</td>\n",
       "      <td>171.23</td>\n",
       "      <td>34.4</td>\n",
       "      <td>smokes</td>\n",
       "      <td>1</td>\n",
       "    </tr>\n",
       "    <tr>\n",
       "      <th>4</th>\n",
       "      <td>1665</td>\n",
       "      <td>Female</td>\n",
       "      <td>79.0</td>\n",
       "      <td>1</td>\n",
       "      <td>0</td>\n",
       "      <td>Yes</td>\n",
       "      <td>Self-employed</td>\n",
       "      <td>Rural</td>\n",
       "      <td>174.12</td>\n",
       "      <td>24.0</td>\n",
       "      <td>never smoked</td>\n",
       "      <td>1</td>\n",
       "    </tr>\n",
       "  </tbody>\n",
       "</table>\n",
       "</div>"
      ],
      "text/plain": [
       "      id  gender   age  hypertension  heart_disease ever_married  \\\n",
       "0   9046    Male  67.0             0              1          Yes   \n",
       "1  51676  Female  61.0             0              0          Yes   \n",
       "2  31112    Male  80.0             0              1          Yes   \n",
       "3  60182  Female  49.0             0              0          Yes   \n",
       "4   1665  Female  79.0             1              0          Yes   \n",
       "\n",
       "       work_type Residence_type  avg_glucose_level   bmi   smoking_status  \\\n",
       "0        Private          Urban             228.69  36.6  formerly smoked   \n",
       "1  Self-employed          Rural             202.21   NaN     never smoked   \n",
       "2        Private          Rural             105.92  32.5     never smoked   \n",
       "3        Private          Urban             171.23  34.4           smokes   \n",
       "4  Self-employed          Rural             174.12  24.0     never smoked   \n",
       "\n",
       "   stroke  \n",
       "0       1  \n",
       "1       1  \n",
       "2       1  \n",
       "3       1  \n",
       "4       1  "
      ]
     },
     "execution_count": 2,
     "metadata": {},
     "output_type": "execute_result"
    }
   ],
   "source": [
    "df = pd.read_csv('healthcare-dataset-stroke-data.csv')\n",
    "df.head()"
   ]
  },
  {
   "cell_type": "code",
   "execution_count": 3,
   "metadata": {},
   "outputs": [],
   "source": [
    "# Drop the 1 sample with gender as \"Other\"\n",
    "df = df[df['gender'] != \"Other\"]\n",
    "\n",
    "# Drop id column\n",
    "df = df.drop('id', axis=1)"
   ]
  },
  {
   "cell_type": "code",
   "execution_count": 4,
   "metadata": {},
   "outputs": [
    {
     "data": {
      "text/plain": [
       "0    4860\n",
       "1     249\n",
       "Name: stroke, dtype: int64"
      ]
     },
     "execution_count": 4,
     "metadata": {},
     "output_type": "execute_result"
    }
   ],
   "source": [
    "# Label overview\n",
    "df.stroke.value_counts()"
   ]
  },
  {
   "cell_type": "code",
   "execution_count": 5,
   "metadata": {},
   "outputs": [
    {
     "name": "stdout",
     "output_type": "stream",
     "text": [
      "<class 'pandas.core.frame.DataFrame'>\n",
      "Int64Index: 5109 entries, 0 to 5109\n",
      "Data columns (total 11 columns):\n",
      " #   Column             Non-Null Count  Dtype  \n",
      "---  ------             --------------  -----  \n",
      " 0   gender             5109 non-null   object \n",
      " 1   age                5109 non-null   float64\n",
      " 2   hypertension       5109 non-null   int64  \n",
      " 3   heart_disease      5109 non-null   int64  \n",
      " 4   ever_married       5109 non-null   object \n",
      " 5   work_type          5109 non-null   object \n",
      " 6   Residence_type     5109 non-null   object \n",
      " 7   avg_glucose_level  5109 non-null   float64\n",
      " 8   bmi                4908 non-null   float64\n",
      " 9   smoking_status     5109 non-null   object \n",
      " 10  stroke             5109 non-null   int64  \n",
      "dtypes: float64(3), int64(3), object(5)\n",
      "memory usage: 479.0+ KB\n"
     ]
    }
   ],
   "source": [
    "df.info()"
   ]
  },
  {
   "cell_type": "markdown",
   "metadata": {},
   "source": [
    "Missing bmi values."
   ]
  },
  {
   "attachments": {},
   "cell_type": "markdown",
   "metadata": {},
   "source": [
    "## Data Exploration"
   ]
  },
  {
   "cell_type": "code",
   "execution_count": 6,
   "metadata": {},
   "outputs": [],
   "source": [
    "df_stroke = df.query('stroke == 1').drop('stroke', axis=1)"
   ]
  },
  {
   "attachments": {},
   "cell_type": "markdown",
   "metadata": {},
   "source": [
    "The incidence of stroke cases increases exponentially with age, with the vast majority of stroke cases happening after the age of 37."
   ]
  },
  {
   "cell_type": "code",
   "execution_count": 7,
   "metadata": {},
   "outputs": [
    {
     "data": {
      "image/png": "[encoded data removed]",
      "text/plain": [
       "<Figure size 640x480 with 1 Axes>"
      ]
     },
     "metadata": {},
     "output_type": "display_data"
    }
   ],
   "source": [
    "sns.histplot(x=df_stroke.age, binwidth=2.5)\n",
    "plt.axvline(x=37, color='red')\n",
    "plt.xticks(np.arange(0, df_stroke.age.max(), 10))\n",
    "plt.yticks(np.arange(0, 51, 5));"
   ]
  },
  {
   "cell_type": "markdown",
   "metadata": {},
   "source": [
    "The mean age of female stroke patients is slightly lower than that of males but their median age is slightly higher."
   ]
  },
  {
   "cell_type": "code",
   "execution_count": 8,
   "metadata": {},
   "outputs": [
    {
     "data": {
      "text/html": [
       "<div>\n",
       "<style scoped>\n",
       "    .dataframe tbody tr th:only-of-type {\n",
       "        vertical-align: middle;\n",
       "    }\n",
       "\n",
       "    .dataframe tbody tr th {\n",
       "        vertical-align: top;\n",
       "    }\n",
       "\n",
       "    .dataframe thead th {\n",
       "        text-align: right;\n",
       "    }\n",
       "</style>\n",
       "<table border=\"1\" class=\"dataframe\">\n",
       "  <thead>\n",
       "    <tr style=\"text-align: right;\">\n",
       "      <th>age</th>\n",
       "      <th>mean</th>\n",
       "      <th>median</th>\n",
       "    </tr>\n",
       "    <tr>\n",
       "      <th>gender</th>\n",
       "      <th></th>\n",
       "      <th></th>\n",
       "    </tr>\n",
       "  </thead>\n",
       "  <tbody>\n",
       "    <tr>\n",
       "      <th>Female</th>\n",
       "      <td>67.137021</td>\n",
       "      <td>72.0</td>\n",
       "    </tr>\n",
       "    <tr>\n",
       "      <th>Male</th>\n",
       "      <td>68.500000</td>\n",
       "      <td>70.5</td>\n",
       "    </tr>\n",
       "  </tbody>\n",
       "</table>\n",
       "</div>"
      ],
      "text/plain": [
       "age          mean  median\n",
       "gender                   \n",
       "Female  67.137021    72.0\n",
       "Male    68.500000    70.5"
      ]
     },
     "execution_count": 8,
     "metadata": {},
     "output_type": "execute_result"
    }
   ],
   "source": [
    "df_stroke.groupby('gender').age.agg(['mean', 'median']).rename_axis('age', axis=1)"
   ]
  },
  {
   "cell_type": "markdown",
   "metadata": {},
   "source": [
    "The vast majority of stroke patients have a bmi that falls between 19 and 50."
   ]
  },
  {
   "cell_type": "code",
   "execution_count": 9,
   "metadata": {},
   "outputs": [
    {
     "data": {
      "image/png": "[encoded data removed]",
      "text/plain": [
       "<Figure size 640x480 with 1 Axes>"
      ]
     },
     "metadata": {},
     "output_type": "display_data"
    }
   ],
   "source": [
    "sns.scatterplot(x=df.bmi, y=df.stroke, alpha=.5)\n",
    "plt.axvspan(19, 50, color='red', alpha=0.25);"
   ]
  },
  {
   "cell_type": "markdown",
   "metadata": {},
   "source": [
    "Male stroke patients tend to have a slightly higher bmi than female patients, possibly becaused of higher muscle mass."
   ]
  },
  {
   "cell_type": "code",
   "execution_count": 10,
   "metadata": {},
   "outputs": [
    {
     "data": {
      "text/html": [
       "<div>\n",
       "<style scoped>\n",
       "    .dataframe tbody tr th:only-of-type {\n",
       "        vertical-align: middle;\n",
       "    }\n",
       "\n",
       "    .dataframe tbody tr th {\n",
       "        vertical-align: top;\n",
       "    }\n",
       "\n",
       "    .dataframe thead th {\n",
       "        text-align: right;\n",
       "    }\n",
       "</style>\n",
       "<table border=\"1\" class=\"dataframe\">\n",
       "  <thead>\n",
       "    <tr style=\"text-align: right;\">\n",
       "      <th>bmi</th>\n",
       "      <th>mean</th>\n",
       "      <th>median</th>\n",
       "    </tr>\n",
       "    <tr>\n",
       "      <th>gender</th>\n",
       "      <th></th>\n",
       "      <th></th>\n",
       "    </tr>\n",
       "  </thead>\n",
       "  <tbody>\n",
       "    <tr>\n",
       "      <th>Female</th>\n",
       "      <td>30.218333</td>\n",
       "      <td>29.1</td>\n",
       "    </tr>\n",
       "    <tr>\n",
       "      <th>Male</th>\n",
       "      <td>30.812360</td>\n",
       "      <td>30.0</td>\n",
       "    </tr>\n",
       "  </tbody>\n",
       "</table>\n",
       "</div>"
      ],
      "text/plain": [
       "bmi          mean  median\n",
       "gender                   \n",
       "Female  30.218333    29.1\n",
       "Male    30.812360    30.0"
      ]
     },
     "execution_count": 10,
     "metadata": {},
     "output_type": "execute_result"
    }
   ],
   "source": [
    "df_stroke.groupby('gender').bmi.agg(['mean', 'median']).rename_axis('bmi', axis=1)"
   ]
  },
  {
   "cell_type": "markdown",
   "metadata": {},
   "source": [
    "Across the numerical variables age, avg_glucose_level, and bmi, there does not seem to be any anomalies. There are some patients with a very high bmi, but not outside the realm of possibility."
   ]
  },
  {
   "cell_type": "code",
   "execution_count": 11,
   "metadata": {},
   "outputs": [
    {
     "data": {
      "image/png": "[encoded data removed]",
      "text/plain": [
       "<Figure size 900x900 with 3 Axes>"
      ]
     },
     "metadata": {},
     "output_type": "display_data"
    }
   ],
   "source": [
    "fig, ax = plt.subplots(3, 1, figsize=(9, 9))\n",
    "for i, cat in enumerate(['age', 'avg_glucose_level', 'bmi']):\n",
    "    sns.boxplot(x=df[cat], ax=ax[i], y=df.gender)\n",
    "    ax[i].set_xlabel(cat)\n",
    "plt.subplots_adjust(hspace=0.5)"
   ]
  },
  {
   "cell_type": "markdown",
   "metadata": {},
   "source": [
    "Stroke cases are slightly higher among urbanites than ruralites, possibly because of factors such as higher stress and unhealthier diets."
   ]
  },
  {
   "cell_type": "code",
   "execution_count": 12,
   "metadata": {},
   "outputs": [
    {
     "data": {
      "text/html": [
       "<div>\n",
       "<style scoped>\n",
       "    .dataframe tbody tr th:only-of-type {\n",
       "        vertical-align: middle;\n",
       "    }\n",
       "\n",
       "    .dataframe tbody tr th {\n",
       "        vertical-align: top;\n",
       "    }\n",
       "\n",
       "    .dataframe thead th {\n",
       "        text-align: right;\n",
       "    }\n",
       "</style>\n",
       "<table border=\"1\" class=\"dataframe\">\n",
       "  <thead>\n",
       "    <tr style=\"text-align: right;\">\n",
       "      <th>stroke</th>\n",
       "      <th>0</th>\n",
       "      <th>1</th>\n",
       "    </tr>\n",
       "    <tr>\n",
       "      <th>Residence_type</th>\n",
       "      <th></th>\n",
       "      <th></th>\n",
       "    </tr>\n",
       "  </thead>\n",
       "  <tbody>\n",
       "    <tr>\n",
       "      <th>Rural</th>\n",
       "      <td>0.954636</td>\n",
       "      <td>0.045364</td>\n",
       "    </tr>\n",
       "    <tr>\n",
       "      <th>Urban</th>\n",
       "      <td>0.947997</td>\n",
       "      <td>0.052003</td>\n",
       "    </tr>\n",
       "  </tbody>\n",
       "</table>\n",
       "</div>"
      ],
      "text/plain": [
       "stroke                 0         1\n",
       "Residence_type                    \n",
       "Rural           0.954636  0.045364\n",
       "Urban           0.947997  0.052003"
      ]
     },
     "execution_count": 12,
     "metadata": {},
     "output_type": "execute_result"
    },
    {
     "data": {
      "image/png": "[encoded data removed]",
      "text/plain": [
       "<Figure size 640x480 with 1 Axes>"
      ]
     },
     "metadata": {},
     "output_type": "display_data"
    }
   ],
   "source": [
    "sns.countplot(data=df, x='Residence_type', hue='stroke', dodge=False, edgecolor='white')\n",
    "plt.text(-0.05, 200, '5.20%')\n",
    "plt.text(0.95, 200, '4.54%')\n",
    "pd.crosstab(df.Residence_type, df.stroke, normalize='index')"
   ]
  },
  {
   "cell_type": "markdown",
   "metadata": {},
   "source": [
    "Self-employed persons have the largest proportion of stroke cases among employed persons, possibly linked to stress levels once again. Strokes rarely happen among children."
   ]
  },
  {
   "cell_type": "code",
   "execution_count": 13,
   "metadata": {},
   "outputs": [
    {
     "data": {
      "text/html": [
       "<div>\n",
       "<style scoped>\n",
       "    .dataframe tbody tr th:only-of-type {\n",
       "        vertical-align: middle;\n",
       "    }\n",
       "\n",
       "    .dataframe tbody tr th {\n",
       "        vertical-align: top;\n",
       "    }\n",
       "\n",
       "    .dataframe thead th {\n",
       "        text-align: right;\n",
       "    }\n",
       "</style>\n",
       "<table border=\"1\" class=\"dataframe\">\n",
       "  <thead>\n",
       "    <tr style=\"text-align: right;\">\n",
       "      <th>stroke</th>\n",
       "      <th>0</th>\n",
       "      <th>1</th>\n",
       "    </tr>\n",
       "    <tr>\n",
       "      <th>work_type</th>\n",
       "      <th></th>\n",
       "      <th></th>\n",
       "    </tr>\n",
       "  </thead>\n",
       "  <tbody>\n",
       "    <tr>\n",
       "      <th>Govt_job</th>\n",
       "      <td>0.949772</td>\n",
       "      <td>0.050228</td>\n",
       "    </tr>\n",
       "    <tr>\n",
       "      <th>Never_worked</th>\n",
       "      <td>1.000000</td>\n",
       "      <td>0.000000</td>\n",
       "    </tr>\n",
       "    <tr>\n",
       "      <th>Private</th>\n",
       "      <td>0.949042</td>\n",
       "      <td>0.050958</td>\n",
       "    </tr>\n",
       "    <tr>\n",
       "      <th>Self-employed</th>\n",
       "      <td>0.920635</td>\n",
       "      <td>0.079365</td>\n",
       "    </tr>\n",
       "    <tr>\n",
       "      <th>children</th>\n",
       "      <td>0.997089</td>\n",
       "      <td>0.002911</td>\n",
       "    </tr>\n",
       "  </tbody>\n",
       "</table>\n",
       "</div>"
      ],
      "text/plain": [
       "stroke                0         1\n",
       "work_type                        \n",
       "Govt_job       0.949772  0.050228\n",
       "Never_worked   1.000000  0.000000\n",
       "Private        0.949042  0.050958\n",
       "Self-employed  0.920635  0.079365\n",
       "children       0.997089  0.002911"
      ]
     },
     "execution_count": 13,
     "metadata": {},
     "output_type": "execute_result"
    },
    {
     "data": {
      "image/png": "[encoded data removed]",
      "text/plain": [
       "<Figure size 640x480 with 1 Axes>"
      ]
     },
     "metadata": {},
     "output_type": "display_data"
    }
   ],
   "source": [
    "sns.countplot(data=df, x='work_type', hue='stroke', dodge=False, edgecolor='white')\n",
    "plt.text(-0.15, 200, '5.10%')\n",
    "plt.text(0.85, 150, '7.94%')\n",
    "plt.text(1.85, 100, '5.03%')\n",
    "plt.text(2.85, 50, '0.30%')\n",
    "plt.text(3.95, 50, '0%')\n",
    "pd.crosstab(df.work_type, df.stroke, normalize='index')"
   ]
  },
  {
   "cell_type": "markdown",
   "metadata": {},
   "source": [
    "The incidence of stroke cases among the unknown group < never smoked group < smokes group < formerly smoked group, which suggests that the unknown group consists primarily of persons who never smoked."
   ]
  },
  {
   "cell_type": "code",
   "execution_count": 14,
   "metadata": {},
   "outputs": [
    {
     "data": {
      "text/html": [
       "<div>\n",
       "<style scoped>\n",
       "    .dataframe tbody tr th:only-of-type {\n",
       "        vertical-align: middle;\n",
       "    }\n",
       "\n",
       "    .dataframe tbody tr th {\n",
       "        vertical-align: top;\n",
       "    }\n",
       "\n",
       "    .dataframe thead th {\n",
       "        text-align: right;\n",
       "    }\n",
       "</style>\n",
       "<table border=\"1\" class=\"dataframe\">\n",
       "  <thead>\n",
       "    <tr style=\"text-align: right;\">\n",
       "      <th>stroke</th>\n",
       "      <th>0</th>\n",
       "      <th>1</th>\n",
       "    </tr>\n",
       "    <tr>\n",
       "      <th>smoking_status</th>\n",
       "      <th></th>\n",
       "      <th></th>\n",
       "    </tr>\n",
       "  </thead>\n",
       "  <tbody>\n",
       "    <tr>\n",
       "      <th>Unknown</th>\n",
       "      <td>0.969560</td>\n",
       "      <td>0.030440</td>\n",
       "    </tr>\n",
       "    <tr>\n",
       "      <th>formerly smoked</th>\n",
       "      <td>0.920814</td>\n",
       "      <td>0.079186</td>\n",
       "    </tr>\n",
       "    <tr>\n",
       "      <th>never smoked</th>\n",
       "      <td>0.952431</td>\n",
       "      <td>0.047569</td>\n",
       "    </tr>\n",
       "    <tr>\n",
       "      <th>smokes</th>\n",
       "      <td>0.946768</td>\n",
       "      <td>0.053232</td>\n",
       "    </tr>\n",
       "  </tbody>\n",
       "</table>\n",
       "</div>"
      ],
      "text/plain": [
       "stroke                  0         1\n",
       "smoking_status                     \n",
       "Unknown          0.969560  0.030440\n",
       "formerly smoked  0.920814  0.079186\n",
       "never smoked     0.952431  0.047569\n",
       "smokes           0.946768  0.053232"
      ]
     },
     "execution_count": 14,
     "metadata": {},
     "output_type": "execute_result"
    },
    {
     "data": {
      "image/png": "[encoded data removed]",
      "text/plain": [
       "<Figure size 640x480 with 1 Axes>"
      ]
     },
     "metadata": {},
     "output_type": "display_data"
    }
   ],
   "source": [
    "sns.countplot(x=df.smoking_status, hue=df.stroke, edgecolor='white', dodge=False)\n",
    "plt.text(-0.12, 100, '7.92%')\n",
    "plt.text(0.88, 100, '4.80%')\n",
    "plt.text(1.88, 100, '5.32%')\n",
    "plt.text(2.88, 100, '3.04%');\n",
    "pd.crosstab(df.smoking_status, df.stroke, normalize='index')"
   ]
  },
  {
   "cell_type": "markdown",
   "metadata": {},
   "source": [
    "Young children, who are likely to have never smoked, comprise the bulk of the Unknown group."
   ]
  },
  {
   "cell_type": "code",
   "execution_count": 15,
   "metadata": {},
   "outputs": [
    {
     "data": {
      "image/png": "[encoded data removed]",
      "text/plain": [
       "<Figure size 640x480 with 1 Axes>"
      ]
     },
     "metadata": {},
     "output_type": "display_data"
    }
   ],
   "source": [
    "sns.histplot(x=df.age, hue=df.smoking_status, edgecolor='white', binwidth=5);\n",
    "plt.xlim(0, df.age.max());"
   ]
  },
  {
   "cell_type": "markdown",
   "metadata": {},
   "source": [
    "The age by which one experiences a stroke is approximately 10 years earlier among active smokers compared with ex-smokers and non-smokers."
   ]
  },
  {
   "cell_type": "code",
   "execution_count": 16,
   "metadata": {},
   "outputs": [
    {
     "data": {
      "text/html": [
       "<div>\n",
       "<style scoped>\n",
       "    .dataframe tbody tr th:only-of-type {\n",
       "        vertical-align: middle;\n",
       "    }\n",
       "\n",
       "    .dataframe tbody tr th {\n",
       "        vertical-align: top;\n",
       "    }\n",
       "\n",
       "    .dataframe thead th {\n",
       "        text-align: right;\n",
       "    }\n",
       "</style>\n",
       "<table border=\"1\" class=\"dataframe\">\n",
       "  <thead>\n",
       "    <tr style=\"text-align: right;\">\n",
       "      <th>age</th>\n",
       "      <th>mean</th>\n",
       "      <th>median</th>\n",
       "    </tr>\n",
       "    <tr>\n",
       "      <th>smoking_status</th>\n",
       "      <th></th>\n",
       "      <th></th>\n",
       "    </tr>\n",
       "  </thead>\n",
       "  <tbody>\n",
       "    <tr>\n",
       "      <th>Unknown</th>\n",
       "      <td>65.836596</td>\n",
       "      <td>71.0</td>\n",
       "    </tr>\n",
       "    <tr>\n",
       "      <th>formerly smoked</th>\n",
       "      <td>68.628571</td>\n",
       "      <td>70.0</td>\n",
       "    </tr>\n",
       "    <tr>\n",
       "      <th>never smoked</th>\n",
       "      <td>70.311111</td>\n",
       "      <td>74.0</td>\n",
       "    </tr>\n",
       "    <tr>\n",
       "      <th>smokes</th>\n",
       "      <td>62.809524</td>\n",
       "      <td>61.0</td>\n",
       "    </tr>\n",
       "  </tbody>\n",
       "</table>\n",
       "</div>"
      ],
      "text/plain": [
       "age                   mean  median\n",
       "smoking_status                    \n",
       "Unknown          65.836596    71.0\n",
       "formerly smoked  68.628571    70.0\n",
       "never smoked     70.311111    74.0\n",
       "smokes           62.809524    61.0"
      ]
     },
     "execution_count": 16,
     "metadata": {},
     "output_type": "execute_result"
    }
   ],
   "source": [
    "df_stroke.groupby('smoking_status').age.agg(['mean', 'median']).rename_axis('age', axis=1)"
   ]
  },
  {
   "cell_type": "markdown",
   "metadata": {},
   "source": [
    "## Predicting stroke cases"
   ]
  },
  {
   "cell_type": "code",
   "execution_count": 17,
   "metadata": {},
   "outputs": [],
   "source": [
    "# Need to fill missing bmi values first\n",
    "# Transform categorical features into numerical features for usage in correlation matrix\n",
    "df2 = df.copy()\n",
    "df2.work_type = df2.work_type.replace({'Private': 1, 'Self-employed': 3, 'Govt_job': 2, 'children': 0, 'Never_worked': 0}) # Lumping 'children' and 'Never_worked' persons together\n",
    "df2.gender = df2.gender.replace({'Male': 0, 'Female': 1})\n",
    "df2.Residence_type = df2.Residence_type.replace({'Urban': 0, 'Rural': 1})\n",
    "df2.ever_married = df2.ever_married.replace({'Yes': 1, 'No': 0})\n",
    "df2.smoking_status = df2.smoking_status.replace({'Unknown': 0, 'never smoked': 1, 'smokes': 2, 'formerly smoked': 3})"
   ]
  },
  {
   "cell_type": "markdown",
   "metadata": {},
   "source": [
    "bmi has the strongest correlations with the features age, ever_married, work_type, avg_glucose_level, smoking_status and hypertension. "
   ]
  },
  {
   "cell_type": "code",
   "execution_count": 18,
   "metadata": {},
   "outputs": [
    {
     "data": {
      "image/png": "[encoded data removed]",
      "text/plain": [
       "<Figure size 640x480 with 2 Axes>"
      ]
     },
     "metadata": {},
     "output_type": "display_data"
    }
   ],
   "source": [
    "mask = np.triu(np.ones_like(df2.corr(numeric_only=True), dtype=bool))\n",
    "sns.heatmap(df2.corr(numeric_only=True), mask=mask, annot=True, fmt=\".2f\");"
   ]
  },
  {
   "cell_type": "code",
   "execution_count": 19,
   "metadata": {},
   "outputs": [],
   "source": [
    "def fill_missing(data, impute_strategy: str):\n",
    "    \"\"\"Fills in missing bmi values by using the mean or median bmi value of other samples that fall in\n",
    "      the same age and avg_glucose_level ranges and have the same hypertension, work_type, smoking_status, and ever_married values\"\"\"\n",
    "    if impute_strategy not in ['mean', 'median']:\n",
    "        raise Exception('Argument for impute_strategy is either \"mean\" or \"median\"')\n",
    "    \n",
    "    na_df = data.query('bmi.isna()')\n",
    "    age_bins = np.arange(0, 101, 20)\n",
    "    glucose_bins = np.arange(50, 301, 50)\n",
    "\n",
    "    df = data.copy()\n",
    "    for i in range(len(na_df)):\n",
    "        for age in age_bins: # Find out in which age range the current sample lies \n",
    "            if age <= na_df.iloc[i].age < age + 20:\n",
    "                left_age = age\n",
    "                right_age = age + 20\n",
    "                break\n",
    "\n",
    "        for glucose in glucose_bins: # Find out in which avg_glucose_level range the current sample lies in\n",
    "            if glucose <= na_df.iloc[i].avg_glucose_level < glucose + 50:\n",
    "                left_glucose = glucose\n",
    "                right_glucose = glucose + 50\n",
    "                break\n",
    "        \n",
    "        na_smoking_status = na_df.iloc[i].smoking_status # Find out the current sample's smoking_status value\n",
    "        na_work_type = na_df.iloc[i].work_type # Find out the current sample's work_type value\n",
    "        na_hypertension = na_df.iloc[i].hypertension # Find out the current sample's hypertension value\n",
    "        na_ever_married = na_df.iloc[i].ever_married # Find out the current sample's ever_married value\n",
    "        na_loc = na_df.iloc[i].name # Find out the index of the current sample\n",
    "\n",
    "        bmi_query = data.query('age.between(@left_age, @right_age, inclusive=\"left\") \\\n",
    "                               and avg_glucose_level.between(@left_glucose, @right_glucose, inclusive=\"left\") \\\n",
    "                               and work_type == @na_work_type \\\n",
    "                               and hypertension == @na_hypertension \\\n",
    "                               and ever_married == @na_ever_married').bmi\n",
    "        \n",
    "        if bmi_query.sum() == 0: # Loosen the grouping conditions by dropping the avg_glucose_level and work_type criteria\n",
    "            bmi_query = data.query('age.between(@left_age, @right_age, inclusive=\"left\") \\\n",
    "                                    and hypertension == @na_hypertension \\\n",
    "                                    and ever_married == @na_ever_married').bmi\n",
    "        \n",
    "        if impute_strategy == 'mean':\n",
    "            new_value = bmi_query.apply('mean')\n",
    "        elif impute_strategy == 'median':\n",
    "            new_value = bmi_query.apply('median')\n",
    "\n",
    "        df.loc[na_loc, 'bmi'] = new_value\n",
    "            \n",
    "    return df"
   ]
  },
  {
   "cell_type": "code",
   "execution_count": 20,
   "metadata": {},
   "outputs": [],
   "source": [
    "from sklearn.model_selection import train_test_split\n",
    "X = df.copy()\n",
    "y = X.pop('stroke')\n",
    "\n",
    "X_train, X_test, y_train, y_test = train_test_split(X, y, train_size=0.8, stratify=y, random_state=42)"
   ]
  },
  {
   "cell_type": "code",
   "execution_count": 21,
   "metadata": {},
   "outputs": [],
   "source": [
    "from sklearn.preprocessing import OneHotEncoder, FunctionTransformer, RobustScaler\n",
    "from sklearn.pipeline import make_pipeline\n",
    "from sklearn.compose import make_column_transformer, make_column_selector\n",
    "from catboost import CatBoostClassifier"
   ]
  },
  {
   "cell_type": "code",
   "execution_count": 22,
   "metadata": {},
   "outputs": [],
   "source": [
    "fill_missing_transformer = FunctionTransformer(fill_missing, kw_args={'impute_strategy': 'mean'})\n",
    "\n",
    "ct = make_column_transformer((RobustScaler(), make_column_selector(dtype_exclude=object)),\n",
    "                             (OneHotEncoder(), make_column_selector(dtype_include=object)))\n",
    "\n",
    "preprocessing_pipeline = make_pipeline(fill_missing_transformer, ct)"
   ]
  },
  {
   "cell_type": "code",
   "execution_count": 23,
   "metadata": {},
   "outputs": [],
   "source": [
    "X_train = preprocessing_pipeline.fit_transform(X_train)\n",
    "X_test = preprocessing_pipeline.transform(X_test)"
   ]
  },
  {
   "attachments": {},
   "cell_type": "markdown",
   "metadata": {},
   "source": [
    "## Model Training"
   ]
  },
  {
   "cell_type": "code",
   "execution_count": null,
   "metadata": {},
   "outputs": [],
   "source": [
    "params = {'depth': [3, 4, 5],\n",
    "          'learning_rate': [0.025, 0.05, 0.1],\n",
    "          'l2_leaf_reg': [1, 2, 3, 4]}\n",
    "\n",
    "cbc = CatBoostClassifier(iterations=2000, random_seed=42, loss_function='Logloss', verbose=False, early_stopping_rounds=100, auto_class_weights='Balanced')\n",
    "gridsearch_results = cbc.grid_search(param_grid=params, cv=3, X=X_train, y=y_train, stratified=True, \n",
    "                                     partition_random_seed=42, plot=True, search_by_train_test_split=False, refit=False)"
   ]
  },
  {
   "cell_type": "code",
   "execution_count": 25,
   "metadata": {},
   "outputs": [
    {
     "data": {
      "text/plain": [
       "{'depth': 3, 'l2_leaf_reg': 3, 'learning_rate': 0.025}"
      ]
     },
     "execution_count": 25,
     "metadata": {},
     "output_type": "execute_result"
    }
   ],
   "source": [
    "# Get the best hyperparameters\n",
    "gridsearch_results['params']"
   ]
  },
  {
   "cell_type": "code",
   "execution_count": 26,
   "metadata": {},
   "outputs": [
    {
     "data": {
      "text/html": [
       "<div>\n",
       "<style scoped>\n",
       "    .dataframe tbody tr th:only-of-type {\n",
       "        vertical-align: middle;\n",
       "    }\n",
       "\n",
       "    .dataframe tbody tr th {\n",
       "        vertical-align: top;\n",
       "    }\n",
       "\n",
       "    .dataframe thead th {\n",
       "        text-align: right;\n",
       "    }\n",
       "</style>\n",
       "<table border=\"1\" class=\"dataframe\">\n",
       "  <thead>\n",
       "    <tr style=\"text-align: right;\">\n",
       "      <th></th>\n",
       "      <th>iterations</th>\n",
       "      <th>test-Logloss-mean</th>\n",
       "      <th>test-Logloss-std</th>\n",
       "      <th>train-Logloss-mean</th>\n",
       "      <th>train-Logloss-std</th>\n",
       "    </tr>\n",
       "  </thead>\n",
       "  <tbody>\n",
       "    <tr>\n",
       "      <th>137</th>\n",
       "      <td>137</td>\n",
       "      <td>0.480112</td>\n",
       "      <td>0.015396</td>\n",
       "      <td>0.425909</td>\n",
       "      <td>0.005231</td>\n",
       "    </tr>\n",
       "    <tr>\n",
       "      <th>130</th>\n",
       "      <td>130</td>\n",
       "      <td>0.480149</td>\n",
       "      <td>0.014738</td>\n",
       "      <td>0.428390</td>\n",
       "      <td>0.005625</td>\n",
       "    </tr>\n",
       "    <tr>\n",
       "      <th>138</th>\n",
       "      <td>138</td>\n",
       "      <td>0.480188</td>\n",
       "      <td>0.015378</td>\n",
       "      <td>0.425660</td>\n",
       "      <td>0.005159</td>\n",
       "    </tr>\n",
       "    <tr>\n",
       "      <th>134</th>\n",
       "      <td>134</td>\n",
       "      <td>0.480210</td>\n",
       "      <td>0.015508</td>\n",
       "      <td>0.426739</td>\n",
       "      <td>0.005284</td>\n",
       "    </tr>\n",
       "    <tr>\n",
       "      <th>136</th>\n",
       "      <td>136</td>\n",
       "      <td>0.480215</td>\n",
       "      <td>0.015414</td>\n",
       "      <td>0.426163</td>\n",
       "      <td>0.005269</td>\n",
       "    </tr>\n",
       "    <tr>\n",
       "      <th>...</th>\n",
       "      <td>...</td>\n",
       "      <td>...</td>\n",
       "      <td>...</td>\n",
       "      <td>...</td>\n",
       "      <td>...</td>\n",
       "    </tr>\n",
       "    <tr>\n",
       "      <th>4</th>\n",
       "      <td>4</td>\n",
       "      <td>0.640301</td>\n",
       "      <td>0.005467</td>\n",
       "      <td>0.637991</td>\n",
       "      <td>0.007093</td>\n",
       "    </tr>\n",
       "    <tr>\n",
       "      <th>3</th>\n",
       "      <td>3</td>\n",
       "      <td>0.648461</td>\n",
       "      <td>0.005099</td>\n",
       "      <td>0.646399</td>\n",
       "      <td>0.006490</td>\n",
       "    </tr>\n",
       "    <tr>\n",
       "      <th>2</th>\n",
       "      <td>2</td>\n",
       "      <td>0.659002</td>\n",
       "      <td>0.002976</td>\n",
       "      <td>0.657530</td>\n",
       "      <td>0.003661</td>\n",
       "    </tr>\n",
       "    <tr>\n",
       "      <th>1</th>\n",
       "      <td>1</td>\n",
       "      <td>0.669571</td>\n",
       "      <td>0.002664</td>\n",
       "      <td>0.668502</td>\n",
       "      <td>0.003139</td>\n",
       "    </tr>\n",
       "    <tr>\n",
       "      <th>0</th>\n",
       "      <td>0</td>\n",
       "      <td>0.678825</td>\n",
       "      <td>0.001716</td>\n",
       "      <td>0.678019</td>\n",
       "      <td>0.002278</td>\n",
       "    </tr>\n",
       "  </tbody>\n",
       "</table>\n",
       "<p>258 rows × 5 columns</p>\n",
       "</div>"
      ],
      "text/plain": [
       "     iterations  test-Logloss-mean  test-Logloss-std  train-Logloss-mean  \\\n",
       "137         137           0.480112          0.015396            0.425909   \n",
       "130         130           0.480149          0.014738            0.428390   \n",
       "138         138           0.480188          0.015378            0.425660   \n",
       "134         134           0.480210          0.015508            0.426739   \n",
       "136         136           0.480215          0.015414            0.426163   \n",
       "..          ...                ...               ...                 ...   \n",
       "4             4           0.640301          0.005467            0.637991   \n",
       "3             3           0.648461          0.005099            0.646399   \n",
       "2             2           0.659002          0.002976            0.657530   \n",
       "1             1           0.669571          0.002664            0.668502   \n",
       "0             0           0.678825          0.001716            0.678019   \n",
       "\n",
       "     train-Logloss-std  \n",
       "137           0.005231  \n",
       "130           0.005625  \n",
       "138           0.005159  \n",
       "134           0.005284  \n",
       "136           0.005269  \n",
       "..                 ...  \n",
       "4             0.007093  \n",
       "3             0.006490  \n",
       "2             0.003661  \n",
       "1             0.003139  \n",
       "0             0.002278  \n",
       "\n",
       "[258 rows x 5 columns]"
      ]
     },
     "execution_count": 26,
     "metadata": {},
     "output_type": "execute_result"
    }
   ],
   "source": [
    "# Approximate the best iteration\n",
    "pd.DataFrame(gridsearch_results['cv_results']).sort_values('test-Logloss-mean')"
   ]
  },
  {
   "cell_type": "markdown",
   "metadata": {},
   "source": [
    "## Model Evaluation"
   ]
  },
  {
   "cell_type": "code",
   "execution_count": 27,
   "metadata": {},
   "outputs": [],
   "source": [
    "from sklearn.metrics import ConfusionMatrixDisplay"
   ]
  },
  {
   "cell_type": "code",
   "execution_count": 28,
   "metadata": {},
   "outputs": [
    {
     "data": {
      "image/png": "[encoded data removed]",
      "text/plain": [
       "<Figure size 640x480 with 2 Axes>"
      ]
     },
     "metadata": {},
     "output_type": "display_data"
    }
   ],
   "source": [
    "# Train model using best hyperparameters\n",
    "cbc = CatBoostClassifier(iterations=138, random_seed=42, loss_function='Logloss', verbose=False, auto_class_weights='Balanced', depth=3, learning_rate=0.025, l2_leaf_reg=3)\n",
    "cbc.fit(X_train, y_train)\n",
    "\n",
    "# Evaluate model using confusion matrix\n",
    "y_pred = cbc.predict(X_test)\n",
    "ConfusionMatrixDisplay.from_predictions(y_test, y_pred, labels=[1,0]);"
   ]
  },
  {
   "attachments": {},
   "cell_type": "markdown",
   "metadata": {},
   "source": [
    "The model correctly identifies 42/50 stroke samples but at the cost of 331 false positives. I'll now try to improve on this performance by engineering the 'smoking_status' feature and then retraining a new model. Specifically, I will try to replace the 'Unknown' value by manually setting the smoking_status of those aged 18 and below to 'never smoked' and replace the rest with predictions made using another CatBoost model."
   ]
  },
  {
   "cell_type": "code",
   "execution_count": 29,
   "metadata": {},
   "outputs": [],
   "source": [
    "df2 = df.copy()\n",
    "df2.loc[df2['age'] <= 18, 'smoking_status'] = 'never smoked'"
   ]
  },
  {
   "cell_type": "code",
   "execution_count": 30,
   "metadata": {},
   "outputs": [],
   "source": [
    "X2 = df2.copy()\n",
    "y = X2.pop('stroke')\n",
    "X_train2, X_test2, y_train, y_test = train_test_split(X2, y, train_size=0.8, stratify=y, random_state=42)"
   ]
  },
  {
   "cell_type": "code",
   "execution_count": 31,
   "metadata": {},
   "outputs": [],
   "source": [
    "def convert_unknown_smoking_status(X, y, depth_list, lr_list, l2_list):\n",
    "    \"\"\"This function trains a CatBoost Classifier to predict replacement values for 'Unknown' values in the smoking_status feature\"\"\"\n",
    "    X_known_status = X.query('smoking_status != \"Unknown\"')\n",
    "    X_unknown_status = X.query('smoking_status == \"Unknown\"').drop('smoking_status', axis=1)\n",
    "\n",
    "    y_known_status = X_known_status.pop('smoking_status')\n",
    "    unknown_indices = X_unknown_status.index\n",
    "\n",
    "    params = {'depth': depth_list, 'learning_rate': lr_list, 'l2_leaf_reg': l2_list}\n",
    "\n",
    "    cbc = CatBoostClassifier(iterations=2000, random_seed=42, loss_function='MultiClass', verbose=False, early_stopping_rounds=100)\n",
    "    gridsearch_results = cbc.grid_search(param_grid=params, cv=3, X=X_known_status, y=y_known_status, stratified=True, \n",
    "                                         partition_random_seed=42, plot=False, search_by_train_test_split=False, refit=False)\n",
    "\n",
    "    best_depth = gridsearch_results['params']['depth']\n",
    "    best_lr = gridsearch_results['params']['learning_rate']\n",
    "    best_l2 = gridsearch_results['params']['l2_leaf_reg']\n",
    "    best_iteration = pd.DataFrame(gridsearch_results['cv_results']['test-MultiClass-mean']).sort_values(0).index[0] + 1\n",
    "\n",
    "    cbc = CatBoostClassifier(iterations=best_iteration, random_seed=42, loss_function='MultiClass', verbose=False,\n",
    "                             depth=best_depth, learning_rate=best_lr, l2_leaf_reg=best_l2)\n",
    "    cbc.fit(X_known_status, y_known_status)\n",
    "    X.loc[unknown_indices, 'smoking_status'] = cbc.predict(X_unknown_status)\n",
    "    dummies = pd.get_dummies(X.smoking_status)\n",
    "    X = pd.concat((X, dummies), axis=1).drop('smoking_status', axis=1)\n",
    "    \n",
    "    return X"
   ]
  },
  {
   "cell_type": "code",
   "execution_count": 32,
   "metadata": {},
   "outputs": [],
   "source": [
    "ct2 = make_column_transformer((RobustScaler(), make_column_selector(dtype_exclude=object)),\n",
    "                             (OneHotEncoder(sparse_output=False), ['gender', 'ever_married', 'work_type', 'Residence_type']), \n",
    "                             verbose_feature_names_out=False, remainder='passthrough')\n",
    "ct2.set_output(transform='pandas')\n",
    "\n",
    "preprocessing_pipeline2 = make_pipeline(fill_missing_transformer, ct2)"
   ]
  },
  {
   "cell_type": "code",
   "execution_count": 33,
   "metadata": {},
   "outputs": [],
   "source": [
    "X_train2 = preprocessing_pipeline2.fit_transform(X_train2)\n",
    "X_test2 = preprocessing_pipeline2.transform(X_test2)"
   ]
  },
  {
   "cell_type": "code",
   "execution_count": null,
   "metadata": {},
   "outputs": [],
   "source": [
    "X_train2 = convert_unknown_smoking_status(X_train2, y_train, params['depth'], params['learning_rate'], params['l2_leaf_reg'])\n",
    "X_test2 = convert_unknown_smoking_status(X_test2, y_test, params['depth'], params['learning_rate'], params['l2_leaf_reg'])"
   ]
  },
  {
   "cell_type": "code",
   "execution_count": 35,
   "metadata": {},
   "outputs": [
    {
     "data": {
      "text/html": [
       "<div>\n",
       "<style scoped>\n",
       "    .dataframe tbody tr th:only-of-type {\n",
       "        vertical-align: middle;\n",
       "    }\n",
       "\n",
       "    .dataframe tbody tr th {\n",
       "        vertical-align: top;\n",
       "    }\n",
       "\n",
       "    .dataframe thead th {\n",
       "        text-align: right;\n",
       "    }\n",
       "</style>\n",
       "<table border=\"1\" class=\"dataframe\">\n",
       "  <thead>\n",
       "    <tr style=\"text-align: right;\">\n",
       "      <th></th>\n",
       "      <th>age</th>\n",
       "      <th>hypertension</th>\n",
       "      <th>heart_disease</th>\n",
       "      <th>avg_glucose_level</th>\n",
       "      <th>bmi</th>\n",
       "      <th>gender_Female</th>\n",
       "      <th>gender_Male</th>\n",
       "      <th>ever_married_No</th>\n",
       "      <th>ever_married_Yes</th>\n",
       "      <th>work_type_Govt_job</th>\n",
       "      <th>work_type_Never_worked</th>\n",
       "      <th>work_type_Private</th>\n",
       "      <th>work_type_Self-employed</th>\n",
       "      <th>work_type_children</th>\n",
       "      <th>Residence_type_Rural</th>\n",
       "      <th>Residence_type_Urban</th>\n",
       "      <th>formerly smoked</th>\n",
       "      <th>never smoked</th>\n",
       "      <th>smokes</th>\n",
       "    </tr>\n",
       "  </thead>\n",
       "  <tbody>\n",
       "    <tr>\n",
       "      <th>845</th>\n",
       "      <td>0.083333</td>\n",
       "      <td>0.0</td>\n",
       "      <td>0.0</td>\n",
       "      <td>-0.620011</td>\n",
       "      <td>0.518919</td>\n",
       "      <td>1.0</td>\n",
       "      <td>0.0</td>\n",
       "      <td>0.0</td>\n",
       "      <td>1.0</td>\n",
       "      <td>0.0</td>\n",
       "      <td>0.0</td>\n",
       "      <td>1.0</td>\n",
       "      <td>0.0</td>\n",
       "      <td>0.0</td>\n",
       "      <td>0.0</td>\n",
       "      <td>1.0</td>\n",
       "      <td>0</td>\n",
       "      <td>1</td>\n",
       "      <td>0</td>\n",
       "    </tr>\n",
       "    <tr>\n",
       "      <th>3745</th>\n",
       "      <td>-0.444444</td>\n",
       "      <td>0.0</td>\n",
       "      <td>0.0</td>\n",
       "      <td>-0.210498</td>\n",
       "      <td>-0.767568</td>\n",
       "      <td>1.0</td>\n",
       "      <td>0.0</td>\n",
       "      <td>1.0</td>\n",
       "      <td>0.0</td>\n",
       "      <td>0.0</td>\n",
       "      <td>0.0</td>\n",
       "      <td>1.0</td>\n",
       "      <td>0.0</td>\n",
       "      <td>0.0</td>\n",
       "      <td>0.0</td>\n",
       "      <td>1.0</td>\n",
       "      <td>0</td>\n",
       "      <td>1</td>\n",
       "      <td>0</td>\n",
       "    </tr>\n",
       "    <tr>\n",
       "      <th>4184</th>\n",
       "      <td>-0.277778</td>\n",
       "      <td>0.0</td>\n",
       "      <td>0.0</td>\n",
       "      <td>0.752050</td>\n",
       "      <td>-0.583784</td>\n",
       "      <td>1.0</td>\n",
       "      <td>0.0</td>\n",
       "      <td>0.0</td>\n",
       "      <td>1.0</td>\n",
       "      <td>0.0</td>\n",
       "      <td>0.0</td>\n",
       "      <td>1.0</td>\n",
       "      <td>0.0</td>\n",
       "      <td>0.0</td>\n",
       "      <td>1.0</td>\n",
       "      <td>0.0</td>\n",
       "      <td>0</td>\n",
       "      <td>1</td>\n",
       "      <td>0</td>\n",
       "    </tr>\n",
       "    <tr>\n",
       "      <th>3410</th>\n",
       "      <td>-0.194444</td>\n",
       "      <td>0.0</td>\n",
       "      <td>0.0</td>\n",
       "      <td>0.458994</td>\n",
       "      <td>0.475676</td>\n",
       "      <td>0.0</td>\n",
       "      <td>1.0</td>\n",
       "      <td>0.0</td>\n",
       "      <td>1.0</td>\n",
       "      <td>0.0</td>\n",
       "      <td>0.0</td>\n",
       "      <td>1.0</td>\n",
       "      <td>0.0</td>\n",
       "      <td>0.0</td>\n",
       "      <td>1.0</td>\n",
       "      <td>0.0</td>\n",
       "      <td>0</td>\n",
       "      <td>1</td>\n",
       "      <td>0</td>\n",
       "    </tr>\n",
       "    <tr>\n",
       "      <th>284</th>\n",
       "      <td>-0.861111</td>\n",
       "      <td>0.0</td>\n",
       "      <td>0.0</td>\n",
       "      <td>-0.261072</td>\n",
       "      <td>0.356757</td>\n",
       "      <td>0.0</td>\n",
       "      <td>1.0</td>\n",
       "      <td>1.0</td>\n",
       "      <td>0.0</td>\n",
       "      <td>1.0</td>\n",
       "      <td>0.0</td>\n",
       "      <td>0.0</td>\n",
       "      <td>0.0</td>\n",
       "      <td>0.0</td>\n",
       "      <td>0.0</td>\n",
       "      <td>1.0</td>\n",
       "      <td>0</td>\n",
       "      <td>1</td>\n",
       "      <td>0</td>\n",
       "    </tr>\n",
       "  </tbody>\n",
       "</table>\n",
       "</div>"
      ],
      "text/plain": [
       "           age  hypertension  heart_disease  avg_glucose_level       bmi  \\\n",
       "845   0.083333           0.0            0.0          -0.620011  0.518919   \n",
       "3745 -0.444444           0.0            0.0          -0.210498 -0.767568   \n",
       "4184 -0.277778           0.0            0.0           0.752050 -0.583784   \n",
       "3410 -0.194444           0.0            0.0           0.458994  0.475676   \n",
       "284  -0.861111           0.0            0.0          -0.261072  0.356757   \n",
       "\n",
       "      gender_Female  gender_Male  ever_married_No  ever_married_Yes  \\\n",
       "845             1.0          0.0              0.0               1.0   \n",
       "3745            1.0          0.0              1.0               0.0   \n",
       "4184            1.0          0.0              0.0               1.0   \n",
       "3410            0.0          1.0              0.0               1.0   \n",
       "284             0.0          1.0              1.0               0.0   \n",
       "\n",
       "      work_type_Govt_job  work_type_Never_worked  work_type_Private  \\\n",
       "845                  0.0                     0.0                1.0   \n",
       "3745                 0.0                     0.0                1.0   \n",
       "4184                 0.0                     0.0                1.0   \n",
       "3410                 0.0                     0.0                1.0   \n",
       "284                  1.0                     0.0                0.0   \n",
       "\n",
       "      work_type_Self-employed  work_type_children  Residence_type_Rural  \\\n",
       "845                       0.0                 0.0                   0.0   \n",
       "3745                      0.0                 0.0                   0.0   \n",
       "4184                      0.0                 0.0                   1.0   \n",
       "3410                      0.0                 0.0                   1.0   \n",
       "284                       0.0                 0.0                   0.0   \n",
       "\n",
       "      Residence_type_Urban  formerly smoked  never smoked  smokes  \n",
       "845                    1.0                0             1       0  \n",
       "3745                   1.0                0             1       0  \n",
       "4184                   0.0                0             1       0  \n",
       "3410                   0.0                0             1       0  \n",
       "284                    1.0                0             1       0  "
      ]
     },
     "execution_count": 35,
     "metadata": {},
     "output_type": "execute_result"
    }
   ],
   "source": [
    "X_train2.head()"
   ]
  },
  {
   "cell_type": "code",
   "execution_count": null,
   "metadata": {},
   "outputs": [],
   "source": [
    "# Train new CatBoost model on training data with replaced Unknown smoking_status values\n",
    "cbc2 = CatBoostClassifier(iterations=2000, random_seed=42, loss_function='Logloss', verbose=False, early_stopping_rounds=100, auto_class_weights='Balanced')\n",
    "gridsearch_results = cbc2.grid_search(param_grid=params, cv=3, X=X_train2, y=y_train, stratified=True, \n",
    "                                     partition_random_seed=42, plot=True, search_by_train_test_split=False, refit=False)"
   ]
  },
  {
   "cell_type": "code",
   "execution_count": 37,
   "metadata": {},
   "outputs": [
    {
     "data": {
      "text/plain": [
       "{'depth': 3, 'l2_leaf_reg': 2, 'learning_rate': 0.025}"
      ]
     },
     "execution_count": 37,
     "metadata": {},
     "output_type": "execute_result"
    }
   ],
   "source": [
    "gridsearch_results['params']"
   ]
  },
  {
   "cell_type": "code",
   "execution_count": 38,
   "metadata": {},
   "outputs": [
    {
     "data": {
      "text/html": [
       "<div>\n",
       "<style scoped>\n",
       "    .dataframe tbody tr th:only-of-type {\n",
       "        vertical-align: middle;\n",
       "    }\n",
       "\n",
       "    .dataframe tbody tr th {\n",
       "        vertical-align: top;\n",
       "    }\n",
       "\n",
       "    .dataframe thead th {\n",
       "        text-align: right;\n",
       "    }\n",
       "</style>\n",
       "<table border=\"1\" class=\"dataframe\">\n",
       "  <thead>\n",
       "    <tr style=\"text-align: right;\">\n",
       "      <th></th>\n",
       "      <th>iterations</th>\n",
       "      <th>test-Logloss-mean</th>\n",
       "      <th>test-Logloss-std</th>\n",
       "      <th>train-Logloss-mean</th>\n",
       "      <th>train-Logloss-std</th>\n",
       "    </tr>\n",
       "  </thead>\n",
       "  <tbody>\n",
       "    <tr>\n",
       "      <th>142</th>\n",
       "      <td>142</td>\n",
       "      <td>0.478784</td>\n",
       "      <td>0.017978</td>\n",
       "      <td>0.425406</td>\n",
       "      <td>0.003902</td>\n",
       "    </tr>\n",
       "    <tr>\n",
       "      <th>143</th>\n",
       "      <td>143</td>\n",
       "      <td>0.478893</td>\n",
       "      <td>0.017976</td>\n",
       "      <td>0.425136</td>\n",
       "      <td>0.003773</td>\n",
       "    </tr>\n",
       "    <tr>\n",
       "      <th>144</th>\n",
       "      <td>144</td>\n",
       "      <td>0.478915</td>\n",
       "      <td>0.018059</td>\n",
       "      <td>0.424933</td>\n",
       "      <td>0.003644</td>\n",
       "    </tr>\n",
       "    <tr>\n",
       "      <th>141</th>\n",
       "      <td>141</td>\n",
       "      <td>0.478917</td>\n",
       "      <td>0.017748</td>\n",
       "      <td>0.425838</td>\n",
       "      <td>0.004114</td>\n",
       "    </tr>\n",
       "    <tr>\n",
       "      <th>145</th>\n",
       "      <td>145</td>\n",
       "      <td>0.478977</td>\n",
       "      <td>0.018130</td>\n",
       "      <td>0.424675</td>\n",
       "      <td>0.003558</td>\n",
       "    </tr>\n",
       "    <tr>\n",
       "      <th>...</th>\n",
       "      <td>...</td>\n",
       "      <td>...</td>\n",
       "      <td>...</td>\n",
       "      <td>...</td>\n",
       "      <td>...</td>\n",
       "    </tr>\n",
       "    <tr>\n",
       "      <th>4</th>\n",
       "      <td>4</td>\n",
       "      <td>0.640151</td>\n",
       "      <td>0.003580</td>\n",
       "      <td>0.637709</td>\n",
       "      <td>0.006387</td>\n",
       "    </tr>\n",
       "    <tr>\n",
       "      <th>3</th>\n",
       "      <td>3</td>\n",
       "      <td>0.649731</td>\n",
       "      <td>0.002945</td>\n",
       "      <td>0.647493</td>\n",
       "      <td>0.005404</td>\n",
       "    </tr>\n",
       "    <tr>\n",
       "      <th>2</th>\n",
       "      <td>2</td>\n",
       "      <td>0.661195</td>\n",
       "      <td>0.003265</td>\n",
       "      <td>0.659018</td>\n",
       "      <td>0.005901</td>\n",
       "    </tr>\n",
       "    <tr>\n",
       "      <th>1</th>\n",
       "      <td>1</td>\n",
       "      <td>0.671624</td>\n",
       "      <td>0.001918</td>\n",
       "      <td>0.670269</td>\n",
       "      <td>0.003260</td>\n",
       "    </tr>\n",
       "    <tr>\n",
       "      <th>0</th>\n",
       "      <td>0</td>\n",
       "      <td>0.682981</td>\n",
       "      <td>0.000858</td>\n",
       "      <td>0.682351</td>\n",
       "      <td>0.000985</td>\n",
       "    </tr>\n",
       "  </tbody>\n",
       "</table>\n",
       "<p>274 rows × 5 columns</p>\n",
       "</div>"
      ],
      "text/plain": [
       "     iterations  test-Logloss-mean  test-Logloss-std  train-Logloss-mean  \\\n",
       "142         142           0.478784          0.017978            0.425406   \n",
       "143         143           0.478893          0.017976            0.425136   \n",
       "144         144           0.478915          0.018059            0.424933   \n",
       "141         141           0.478917          0.017748            0.425838   \n",
       "145         145           0.478977          0.018130            0.424675   \n",
       "..          ...                ...               ...                 ...   \n",
       "4             4           0.640151          0.003580            0.637709   \n",
       "3             3           0.649731          0.002945            0.647493   \n",
       "2             2           0.661195          0.003265            0.659018   \n",
       "1             1           0.671624          0.001918            0.670269   \n",
       "0             0           0.682981          0.000858            0.682351   \n",
       "\n",
       "     train-Logloss-std  \n",
       "142           0.003902  \n",
       "143           0.003773  \n",
       "144           0.003644  \n",
       "141           0.004114  \n",
       "145           0.003558  \n",
       "..                 ...  \n",
       "4             0.006387  \n",
       "3             0.005404  \n",
       "2             0.005901  \n",
       "1             0.003260  \n",
       "0             0.000985  \n",
       "\n",
       "[274 rows x 5 columns]"
      ]
     },
     "execution_count": 38,
     "metadata": {},
     "output_type": "execute_result"
    }
   ],
   "source": [
    "# Approximate the best iteration\n",
    "pd.DataFrame(gridsearch_results['cv_results']).sort_values('test-Logloss-mean')"
   ]
  },
  {
   "cell_type": "code",
   "execution_count": 39,
   "metadata": {},
   "outputs": [
    {
     "data": {
      "image/png": "[encoded data removed]",
      "text/plain": [
       "<Figure size 640x480 with 2 Axes>"
      ]
     },
     "metadata": {},
     "output_type": "display_data"
    }
   ],
   "source": [
    "cbc2 = CatBoostClassifier(iterations=143, random_seed=42, loss_function='Logloss', verbose=False, auto_class_weights='Balanced', \n",
    "                         depth=3, learning_rate=0.025, l2_leaf_reg=2)\n",
    "cbc2.fit(X_train2, y_train)\n",
    "\n",
    "y_pred = cbc2.predict(X_test2)\n",
    "ConfusionMatrixDisplay.from_predictions(y_test, y_pred, labels=[1,0]);"
   ]
  },
  {
   "attachments": {},
   "cell_type": "markdown",
   "metadata": {},
   "source": [
    "Unfortunately, this approach only decreases the number of false positives by 1 from 331 to 330 while its performance in other areas remained the same."
   ]
  },
  {
   "cell_type": "code",
   "execution_count": 41,
   "metadata": {},
   "outputs": [
    {
     "data": {
      "text/html": [
       "<div>\n",
       "<style scoped>\n",
       "    .dataframe tbody tr th:only-of-type {\n",
       "        vertical-align: middle;\n",
       "    }\n",
       "\n",
       "    .dataframe tbody tr th {\n",
       "        vertical-align: top;\n",
       "    }\n",
       "\n",
       "    .dataframe thead th {\n",
       "        text-align: right;\n",
       "    }\n",
       "</style>\n",
       "<table border=\"1\" class=\"dataframe\">\n",
       "  <thead>\n",
       "    <tr style=\"text-align: right;\">\n",
       "      <th></th>\n",
       "      <th>Feature Id</th>\n",
       "      <th>Importances</th>\n",
       "    </tr>\n",
       "  </thead>\n",
       "  <tbody>\n",
       "    <tr>\n",
       "      <th>0</th>\n",
       "      <td>age</td>\n",
       "      <td>82.064082</td>\n",
       "    </tr>\n",
       "    <tr>\n",
       "      <th>1</th>\n",
       "      <td>avg_glucose_level</td>\n",
       "      <td>5.475457</td>\n",
       "    </tr>\n",
       "    <tr>\n",
       "      <th>2</th>\n",
       "      <td>bmi</td>\n",
       "      <td>4.089772</td>\n",
       "    </tr>\n",
       "    <tr>\n",
       "      <th>3</th>\n",
       "      <td>hypertension</td>\n",
       "      <td>2.872434</td>\n",
       "    </tr>\n",
       "    <tr>\n",
       "      <th>4</th>\n",
       "      <td>never smoked</td>\n",
       "      <td>1.247615</td>\n",
       "    </tr>\n",
       "    <tr>\n",
       "      <th>5</th>\n",
       "      <td>ever_married_No</td>\n",
       "      <td>0.502290</td>\n",
       "    </tr>\n",
       "    <tr>\n",
       "      <th>6</th>\n",
       "      <td>work_type_Self-employed</td>\n",
       "      <td>0.492483</td>\n",
       "    </tr>\n",
       "    <tr>\n",
       "      <th>7</th>\n",
       "      <td>gender_Female</td>\n",
       "      <td>0.489789</td>\n",
       "    </tr>\n",
       "    <tr>\n",
       "      <th>8</th>\n",
       "      <td>formerly smoked</td>\n",
       "      <td>0.419918</td>\n",
       "    </tr>\n",
       "    <tr>\n",
       "      <th>9</th>\n",
       "      <td>heart_disease</td>\n",
       "      <td>0.416137</td>\n",
       "    </tr>\n",
       "    <tr>\n",
       "      <th>10</th>\n",
       "      <td>Residence_type_Rural</td>\n",
       "      <td>0.328525</td>\n",
       "    </tr>\n",
       "    <tr>\n",
       "      <th>11</th>\n",
       "      <td>gender_Male</td>\n",
       "      <td>0.328478</td>\n",
       "    </tr>\n",
       "    <tr>\n",
       "      <th>12</th>\n",
       "      <td>smokes</td>\n",
       "      <td>0.311855</td>\n",
       "    </tr>\n",
       "    <tr>\n",
       "      <th>13</th>\n",
       "      <td>work_type_Private</td>\n",
       "      <td>0.306168</td>\n",
       "    </tr>\n",
       "    <tr>\n",
       "      <th>14</th>\n",
       "      <td>work_type_children</td>\n",
       "      <td>0.278783</td>\n",
       "    </tr>\n",
       "    <tr>\n",
       "      <th>15</th>\n",
       "      <td>Residence_type_Urban</td>\n",
       "      <td>0.175226</td>\n",
       "    </tr>\n",
       "    <tr>\n",
       "      <th>16</th>\n",
       "      <td>ever_married_Yes</td>\n",
       "      <td>0.098601</td>\n",
       "    </tr>\n",
       "    <tr>\n",
       "      <th>17</th>\n",
       "      <td>work_type_Govt_job</td>\n",
       "      <td>0.096120</td>\n",
       "    </tr>\n",
       "    <tr>\n",
       "      <th>18</th>\n",
       "      <td>work_type_Never_worked</td>\n",
       "      <td>0.006267</td>\n",
       "    </tr>\n",
       "  </tbody>\n",
       "</table>\n",
       "</div>"
      ],
      "text/plain": [
       "                 Feature Id  Importances\n",
       "0                       age    82.064082\n",
       "1         avg_glucose_level     5.475457\n",
       "2                       bmi     4.089772\n",
       "3              hypertension     2.872434\n",
       "4              never smoked     1.247615\n",
       "5           ever_married_No     0.502290\n",
       "6   work_type_Self-employed     0.492483\n",
       "7             gender_Female     0.489789\n",
       "8           formerly smoked     0.419918\n",
       "9             heart_disease     0.416137\n",
       "10     Residence_type_Rural     0.328525\n",
       "11              gender_Male     0.328478\n",
       "12                   smokes     0.311855\n",
       "13        work_type_Private     0.306168\n",
       "14       work_type_children     0.278783\n",
       "15     Residence_type_Urban     0.175226\n",
       "16         ever_married_Yes     0.098601\n",
       "17       work_type_Govt_job     0.096120\n",
       "18   work_type_Never_worked     0.006267"
      ]
     },
     "execution_count": 41,
     "metadata": {},
     "output_type": "execute_result"
    }
   ],
   "source": [
    "cbc2.get_feature_importance(prettified=True)"
   ]
  },
  {
   "cell_type": "markdown",
   "metadata": {},
   "source": [
    "## Error Analysis"
   ]
  },
  {
   "cell_type": "code",
   "execution_count": 42,
   "metadata": {},
   "outputs": [],
   "source": [
    "# fp_indices = y_test[(y_pred - y_test) == 1].index\n",
    "fn_indices = y_test[(y_pred - y_test) == -1].index"
   ]
  },
  {
   "cell_type": "code",
   "execution_count": 43,
   "metadata": {},
   "outputs": [
    {
     "data": {
      "text/html": [
       "<div>\n",
       "<style scoped>\n",
       "    .dataframe tbody tr th:only-of-type {\n",
       "        vertical-align: middle;\n",
       "    }\n",
       "\n",
       "    .dataframe tbody tr th {\n",
       "        vertical-align: top;\n",
       "    }\n",
       "\n",
       "    .dataframe thead th {\n",
       "        text-align: right;\n",
       "    }\n",
       "</style>\n",
       "<table border=\"1\" class=\"dataframe\">\n",
       "  <thead>\n",
       "    <tr style=\"text-align: right;\">\n",
       "      <th></th>\n",
       "      <th>gender</th>\n",
       "      <th>age</th>\n",
       "      <th>hypertension</th>\n",
       "      <th>heart_disease</th>\n",
       "      <th>ever_married</th>\n",
       "      <th>work_type</th>\n",
       "      <th>Residence_type</th>\n",
       "      <th>avg_glucose_level</th>\n",
       "      <th>bmi</th>\n",
       "      <th>smoking_status</th>\n",
       "      <th>stroke</th>\n",
       "    </tr>\n",
       "  </thead>\n",
       "  <tbody>\n",
       "    <tr>\n",
       "      <th>133</th>\n",
       "      <td>Female</td>\n",
       "      <td>38.0</td>\n",
       "      <td>0</td>\n",
       "      <td>0</td>\n",
       "      <td>Yes</td>\n",
       "      <td>Private</td>\n",
       "      <td>Rural</td>\n",
       "      <td>101.45</td>\n",
       "      <td>NaN</td>\n",
       "      <td>formerly smoked</td>\n",
       "      <td>1</td>\n",
       "    </tr>\n",
       "    <tr>\n",
       "      <th>94</th>\n",
       "      <td>Male</td>\n",
       "      <td>45.0</td>\n",
       "      <td>0</td>\n",
       "      <td>0</td>\n",
       "      <td>Yes</td>\n",
       "      <td>Private</td>\n",
       "      <td>Rural</td>\n",
       "      <td>64.14</td>\n",
       "      <td>29.4</td>\n",
       "      <td>never smoked</td>\n",
       "      <td>1</td>\n",
       "    </tr>\n",
       "    <tr>\n",
       "      <th>182</th>\n",
       "      <td>Female</td>\n",
       "      <td>32.0</td>\n",
       "      <td>0</td>\n",
       "      <td>0</td>\n",
       "      <td>Yes</td>\n",
       "      <td>Private</td>\n",
       "      <td>Rural</td>\n",
       "      <td>76.13</td>\n",
       "      <td>29.9</td>\n",
       "      <td>smokes</td>\n",
       "      <td>1</td>\n",
       "    </tr>\n",
       "    <tr>\n",
       "      <th>88</th>\n",
       "      <td>Male</td>\n",
       "      <td>47.0</td>\n",
       "      <td>0</td>\n",
       "      <td>0</td>\n",
       "      <td>Yes</td>\n",
       "      <td>Private</td>\n",
       "      <td>Urban</td>\n",
       "      <td>86.94</td>\n",
       "      <td>41.1</td>\n",
       "      <td>formerly smoked</td>\n",
       "      <td>1</td>\n",
       "    </tr>\n",
       "    <tr>\n",
       "      <th>210</th>\n",
       "      <td>Female</td>\n",
       "      <td>39.0</td>\n",
       "      <td>0</td>\n",
       "      <td>0</td>\n",
       "      <td>Yes</td>\n",
       "      <td>Private</td>\n",
       "      <td>Urban</td>\n",
       "      <td>83.24</td>\n",
       "      <td>26.3</td>\n",
       "      <td>never smoked</td>\n",
       "      <td>1</td>\n",
       "    </tr>\n",
       "    <tr>\n",
       "      <th>245</th>\n",
       "      <td>Female</td>\n",
       "      <td>14.0</td>\n",
       "      <td>0</td>\n",
       "      <td>0</td>\n",
       "      <td>No</td>\n",
       "      <td>children</td>\n",
       "      <td>Rural</td>\n",
       "      <td>57.93</td>\n",
       "      <td>30.9</td>\n",
       "      <td>never smoked</td>\n",
       "      <td>1</td>\n",
       "    </tr>\n",
       "    <tr>\n",
       "      <th>31</th>\n",
       "      <td>Male</td>\n",
       "      <td>42.0</td>\n",
       "      <td>0</td>\n",
       "      <td>0</td>\n",
       "      <td>Yes</td>\n",
       "      <td>Private</td>\n",
       "      <td>Rural</td>\n",
       "      <td>83.41</td>\n",
       "      <td>25.4</td>\n",
       "      <td>Unknown</td>\n",
       "      <td>1</td>\n",
       "    </tr>\n",
       "    <tr>\n",
       "      <th>228</th>\n",
       "      <td>Female</td>\n",
       "      <td>39.0</td>\n",
       "      <td>0</td>\n",
       "      <td>0</td>\n",
       "      <td>Yes</td>\n",
       "      <td>Self-employed</td>\n",
       "      <td>Urban</td>\n",
       "      <td>97.76</td>\n",
       "      <td>29.6</td>\n",
       "      <td>smokes</td>\n",
       "      <td>1</td>\n",
       "    </tr>\n",
       "  </tbody>\n",
       "</table>\n",
       "</div>"
      ],
      "text/plain": [
       "     gender   age  hypertension  heart_disease ever_married      work_type  \\\n",
       "133  Female  38.0             0              0          Yes        Private   \n",
       "94     Male  45.0             0              0          Yes        Private   \n",
       "182  Female  32.0             0              0          Yes        Private   \n",
       "88     Male  47.0             0              0          Yes        Private   \n",
       "210  Female  39.0             0              0          Yes        Private   \n",
       "245  Female  14.0             0              0           No       children   \n",
       "31     Male  42.0             0              0          Yes        Private   \n",
       "228  Female  39.0             0              0          Yes  Self-employed   \n",
       "\n",
       "    Residence_type  avg_glucose_level   bmi   smoking_status  stroke  \n",
       "133          Rural             101.45   NaN  formerly smoked       1  \n",
       "94           Rural              64.14  29.4     never smoked       1  \n",
       "182          Rural              76.13  29.9           smokes       1  \n",
       "88           Urban              86.94  41.1  formerly smoked       1  \n",
       "210          Urban              83.24  26.3     never smoked       1  \n",
       "245          Rural              57.93  30.9     never smoked       1  \n",
       "31           Rural              83.41  25.4          Unknown       1  \n",
       "228          Urban              97.76  29.6           smokes       1  "
      ]
     },
     "execution_count": 43,
     "metadata": {},
     "output_type": "execute_result"
    }
   ],
   "source": [
    "# Examine the false negative samples\n",
    "df2.loc[fn_indices]"
   ]
  },
  {
   "cell_type": "markdown",
   "metadata": {},
   "source": [
    "* 2 out of the 8 false negatives are persons below the age of 37, which contains a total of only 3 stroke cases.\n",
    "* Both bmi and avg_glucose_level values hover around their respective mean values; no particular value in any feature stand out."
   ]
  }
 ],
 "metadata": {
  "kernelspec": {
   "display_name": "py39",
   "language": "python",
   "name": "python3"
  },
  "language_info": {
   "codemirror_mode": {
    "name": "ipython",
    "version": 3
   },
   "file_extension": ".py",
   "mimetype": "text/x-python",
   "name": "python",
   "nbconvert_exporter": "python",
   "pygments_lexer": "ipython3",
   "version": "3.9.16"
  },
  "orig_nbformat": 4
 },
 "nbformat": 4,
 "nbformat_minor": 2
}
